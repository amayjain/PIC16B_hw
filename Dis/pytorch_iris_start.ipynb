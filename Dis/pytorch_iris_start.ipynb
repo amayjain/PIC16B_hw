{
 "cells": [
  {
   "cell_type": "code",
   "execution_count": 1,
   "id": "979cf79e",
   "metadata": {},
   "outputs": [],
   "source": [
    "import numpy as np\n",
    "import pandas as pd\n",
    "import matplotlib.pyplot as plt\n",
    "import torch\n",
    "import torch.nn as nn\n",
    "import torch.nn.functional as F\n",
    "\n",
    "# From https://janakiev.com/blog/pytorch-iris/, with small edits"
   ]
  },
  {
   "cell_type": "code",
   "execution_count": 29,
   "id": "2e07eb2b",
   "metadata": {},
   "outputs": [],
   "source": [
    "# Data import (16A stuff)\n",
    "\n",
    "from sklearn.datasets import load_iris\n",
    "from sklearn.model_selection import train_test_split\n",
    "from sklearn.preprocessing import StandardScaler\n",
    "\n",
    "iris = load_iris()\n",
    "X = iris['data'].astype(np.float32)\n",
    "y = iris['target'].astype(np.int64)\n",
    "names = iris['target_names']\n",
    "feature_names = iris['feature_names']\n",
    "\n",
    "# Scale data to have mean 0 and variance 1 \n",
    "# which is importance for convergence of the neural network\n",
    "scaler = StandardScaler()\n",
    "X_scaled = scaler.fit_transform(X)\n",
    "\n",
    "# Split the data set into training and testing\n",
    "X_train, X_test, y_train, y_test = train_test_split(X_scaled, y, test_size = 0.2, random_state = 2)\n",
    "\n",
    "# Convert data to tensors\n",
    "X_train, X_test, y_train, y_test = torch.Tensor(X_train), torch.Tensor(X_test), torch.Tensor(y_train), torch.Tensor(y_test)\n",
    "\n",
    "Data = torch.utils.data.TensorDataset(X_train, y_train)"
   ]
  },
  {
   "cell_type": "markdown",
   "id": "a106821e",
   "metadata": {},
   "source": [
    "# Tasks:\n",
    "\n",
    "- Create your model (like our neural network from last time)\n",
    "- Set your optimizer and loss function\n",
    "- Write a training loop:\n",
    "    1. Use the model to make a prediction on the training set\n",
    "    2. Use .backward() to compute gradients\n",
    "    3. Use your optimizer to update the model parameters\n",
    "    4. (optional) Record current loss and testing accuracy for plotting purposes\n",
    "- Train your model and plot results!"
   ]
  },
  {
   "cell_type": "code",
   "execution_count": 7,
   "id": "a1649196",
   "metadata": {},
   "outputs": [
    {
     "name": "stdout",
     "output_type": "stream",
     "text": [
      "ffn(\n",
      "  (fc1): Linear(in_features=4, out_features=250, bias=True)\n",
      "  (fc2): Linear(in_features=250, out_features=250, bias=True)\n",
      "  (fc3): Linear(in_features=250, out_features=1, bias=True)\n",
      ")\n",
      "False\n"
     ]
    }
   ],
   "source": [
    "class ffn(nn.Module):\n",
    "    \n",
    "  def __init__(self):\n",
    "      \n",
    "    super(ffn, self).__init__()\n",
    "      \n",
    "    self.fc1 = nn.Linear(4, 250)\n",
    "      \n",
    "    self.fc2 = nn.Linear(250, 250)\n",
    "      \n",
    "    self.fc3 = nn.Linear(250, 1)\n",
    "      \n",
    "  def forward(self,x):\n",
    "\n",
    "    c1 = F.relu(self.fc1(x))\n",
    "\n",
    "    c2 = F.relu(self.fc2(c1))\n",
    "    \n",
    "    output = self.fc3(c2)\n",
    "    \n",
    "    return output\n",
    "\n",
    "device = \"cuda\" if torch.cuda.is_available() else \"cpu\"\n",
    "model = ffn().to(device = device)\n",
    "\n",
    "print(model)\n",
    "print(torch.cuda.is_available())"
   ]
  },
  {
   "cell_type": "code",
   "execution_count": 33,
   "id": "79e41f77-7448-4f06-951c-6735b6b56c01",
   "metadata": {},
   "outputs": [],
   "source": [
    "# We define how to load data from the set for SGD optimization\n",
    "batch_size = 20\n",
    "\n",
    "# Random pass\n",
    "trainloader = torch.utils.data.DataLoader(Data, batch_size = batch_size, shuffle = True)\n",
    "\n",
    "# mean squared error\n",
    "loss_function = nn.MSELoss()\n",
    "\n",
    "# define optimizer with learning rate  1e-3\n",
    "optimizer = torch.optim.SGD(model.parameters(),lr=1e-3)\n",
    "\n",
    "# number of epochs = 500\n",
    "no_of_epochs = 500\n",
    "\n",
    "# number of iteration = epochs*(number of data/batch size)\n",
    "# no_of_iterations = int(no_of_epochs * n / batch_size)"
   ]
  },
  {
   "cell_type": "code",
   "execution_count": 34,
   "id": "1d2130a6-6891-4a99-847e-81e341157b81",
   "metadata": {},
   "outputs": [
    {
     "data": {
      "text/plain": [
       "[<matplotlib.lines.Line2D at 0x7feb10cc5f10>]"
      ]
     },
     "execution_count": 34,
     "metadata": {},
     "output_type": "execute_result"
    },
    {
     "data": {
      "image/png": "[encoded data removed]",
      "text/plain": [
       "<Figure size 640x480 with 1 Axes>"
      ]
     },
     "metadata": {},
     "output_type": "display_data"
    }
   ],
   "source": [
    "model.train()\n",
    "losses = []\n",
    "\n",
    "for epoch in range(no_of_epochs):\n",
    "  for data, labels in trainloader:\n",
    "    data = data.to(device)\n",
    "    labels = labels.to(device)\n",
    "\n",
    "    optimizer.zero_grad()\n",
    "    outputs = model(data)\n",
    "\n",
    "    outputs = torch.squeeze(outputs)\n",
    "    loss = loss_function(outputs, labels)\n",
    "    # record loss at each iteration\n",
    "    losses.append(loss.item())\n",
    "\n",
    "    loss.backward()\n",
    "    optimizer.step()\n",
    "\n",
    "plt.semilogy(losses)"
   ]
  }
 ],
 "metadata": {
  "kernelspec": {
   "display_name": "Python 3 (ipykernel)",
   "language": "python",
   "name": "python3"
  },
  "language_info": {
   "codemirror_mode": {
    "name": "ipython",
    "version": 3
   },
   "file_extension": ".py",
   "mimetype": "text/x-python",
   "name": "python",
   "nbconvert_exporter": "python",
   "pygments_lexer": "ipython3",
   "version": "3.8.18"
  }
 },
 "nbformat": 4,
 "nbformat_minor": 5
}
