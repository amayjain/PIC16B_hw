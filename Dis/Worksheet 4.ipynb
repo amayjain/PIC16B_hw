{
 "cells": [
  {
   "cell_type": "markdown",
   "metadata": {},
   "source": [
    "# Worksheet on linear algebra: Pairwise distance\n",
    "\n",
    "\n",
    "## Please restart the kernel before you submit!\n",
    "\n",
    "## Your Name:"
   ]
  },
  {
   "cell_type": "markdown",
   "metadata": {},
   "source": [
    "Computing euclidean distance is ubiquitous in machine learning community. However, it is hard to compute euclidean distance if the data is in a high-dimensional space or you have a huge amount of data samples. \n",
    "\n",
    "The goal of this part is writing your own function to compute pairwise distance for a given dataset. We want to compare the computational time. Moreover, we also call a python function to compute pairwise distance.\n",
    "\n",
    "Given two data points $x=(x_1,\\dots,x_d)$ and $y=(y_1,\\dots,y_d)$, the euclidean distance between $x$ and $y$ is $\\|x-y\\|_2$. \n",
    "\n",
    "Given data matrix $X\\in\\mathbb{R}^{n\\times d}$ where the $i$-th row is the $i$-th data samples $x^{i}\\in\\mathbb{R}^d$, we want to generate a pairwise distance matrix $D\\in\\mathbb{R}^{n\\times n}$ such that $$D_{i,j} = \\|x^i - x^j\\|_2$$\n",
    "\n",
    "\n",
    "\n",
    "**Requiremet:**\n",
    "1. You should write a function to compute $D$. Your function should work for any data matrix $X$."
   ]
  },
  {
   "cell_type": "code",
   "execution_count": null,
   "metadata": {},
   "outputs": [],
   "source": [
    "# your function here\n"
   ]
  },
  {
   "cell_type": "markdown",
   "metadata": {},
   "source": [
    "Some data matrices are randomly generated, please test your function using each data matrix and compare the computation times. What is your conclusion?"
   ]
  },
  {
   "cell_type": "code",
   "execution_count": null,
   "metadata": {},
   "outputs": [],
   "source": [
    "# test example 1\n",
    "\n",
    "n = 100                     # number of samples\n",
    "d = 5                       # ambient dimension\n",
    "X = np.random.randn(n,d)    # data matrix\n"
   ]
  },
  {
   "cell_type": "code",
   "execution_count": null,
   "metadata": {},
   "outputs": [],
   "source": [
    "# test example 2\n",
    "\n",
    "n = 10000                    # number of samples\n",
    "d = 5                        # ambient dimension\n",
    "X = np.random.randn(n,d)     # data matrix"
   ]
  },
  {
   "cell_type": "code",
   "execution_count": null,
   "metadata": {},
   "outputs": [],
   "source": [
    "# test example 3\n",
    "\n",
    "n = 10000                  # number of samples\n",
    "d = 50                     # ambient dimension\n",
    "X = np.random.randn(n,d)   # data matrix"
   ]
  },
  {
   "cell_type": "markdown",
   "metadata": {},
   "source": [
    "Calling python functions to compute pairwise distance is much more efficient in computation time. Here are two functions (from different modules) you can use. Please read documentations and call those commands to compute pairwise distance matrix for each test example. Please compare the computational time.\n",
    "\n",
    "\n",
    "**Documentation:**\n",
    "\n",
    "1. scikit-learn: https://scikit-learn.org/stable/modules/generated/sklearn.metrics.pairwise_distances.html\n",
    "\n",
    "2. scipy: https://docs.scipy.org/doc/scipy/reference/generated/scipy.spatial.distance.pdist.html"
   ]
  },
  {
   "cell_type": "code",
   "execution_count": null,
   "metadata": {},
   "outputs": [],
   "source": []
  }
 ],
 "metadata": {
  "kernelspec": {
   "display_name": "Python 3",
   "language": "python",
   "name": "python3"
  },
  "language_info": {
   "codemirror_mode": {
    "name": "ipython",
    "version": 3
   },
   "file_extension": ".py",
   "mimetype": "text/x-python",
   "name": "python",
   "nbconvert_exporter": "python",
   "pygments_lexer": "ipython3",
   "version": "3.7.6"
  }
 },
 "nbformat": 4,
 "nbformat_minor": 4
}
