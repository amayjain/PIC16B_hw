{
 "cells": [
  {
   "cell_type": "markdown",
   "metadata": {},
   "source": [
    "# Worksheet on linear algebra: Pairwise distance\n",
    "\n",
    "\n",
    "## Please restart the kernel before you submit!\n",
    "\n",
    "## Your Name: Amay Jain"
   ]
  },
  {
   "cell_type": "markdown",
   "metadata": {},
   "source": [
    "Computing euclidean distance is ubiquitous in machine learning community. However, it is hard to compute euclidean distance if the data is in a high-dimensional space or you have a huge amount of data samples. \n",
    "\n",
    "The goal of this part is writing your own function to compute pairwise distance for a given dataset. We want to compare the computational time. Moreover, we also call a python function to compute pairwise distance.\n",
    "\n",
    "Given two data points $x=(x_1,\\dots,x_d)$ and $y=(y_1,\\dots,y_d)$, the euclidean distance between $x$ and $y$ is $\\|x-y\\|_2$. \n",
    "\n",
    "Given data matrix $X\\in\\mathbb{R}^{n\\times d}$ where the $i$-th row is the $i$-th data samples $x^{i}\\in\\mathbb{R}^d$, we want to generate a pairwise distance matrix $D\\in\\mathbb{R}^{n\\times n}$ such that $$D_{i,j} = \\|x^i - x^j\\|_2$$\n",
    "\n",
    "\n",
    "\n",
    "**Requirement:**\n",
    "1. You should write a function to compute $D$. Your function should work for any data matrix $X$."
   ]
  },
  {
   "cell_type": "code",
   "execution_count": 1,
   "metadata": {},
   "outputs": [],
   "source": [
    "import numpy as np\n",
    "import time\n",
    "\n",
    "# your function here\n",
    "\n",
    "def D(x):\n",
    "\n",
    "    rows = x.shape[0]\n",
    "\n",
    "    cols = x.shape[1]\n",
    "\n",
    "    start = time.time()\n",
    "\n",
    "    first = x.reshape(rows, 1, cols)\n",
    "\n",
    "    second = x.reshape(1, rows, cols)\n",
    "    \n",
    "    d = np.linalg.norm(first - second, axis = 2)\n",
    "\n",
    "    stop = time.time()\n",
    "\n",
    "    print(\"Computational time is\", stop - start, \"seconds\")\n",
    "\n",
    "    return d"
   ]
  },
  {
   "cell_type": "markdown",
   "metadata": {},
   "source": [
    "Some data matrices are randomly generated, please test your function using each data matrix and compare the computation times. What is your conclusion?"
   ]
  },
  {
   "cell_type": "code",
   "execution_count": 2,
   "metadata": {},
   "outputs": [
    {
     "name": "stdout",
     "output_type": "stream",
     "text": [
      "Computational time is 0.0010249614715576172 seconds\n"
     ]
    },
    {
     "data": {
      "text/plain": [
       "array([[0.        , 3.82626082, 2.61395997, ..., 1.77170269, 3.04404022,\n",
       "        2.88402877],\n",
       "       [3.82626082, 0.        , 3.25956143, ..., 2.62624397, 2.34404471,\n",
       "        4.06154597],\n",
       "       [2.61395997, 3.25956143, 0.        , ..., 2.96930993, 2.70066133,\n",
       "        4.30351424],\n",
       "       ...,\n",
       "       [1.77170269, 2.62624397, 2.96930993, ..., 0.        , 2.43172078,\n",
       "        2.38036318],\n",
       "       [3.04404022, 2.34404471, 2.70066133, ..., 2.43172078, 0.        ,\n",
       "        4.60464604],\n",
       "       [2.88402877, 4.06154597, 4.30351424, ..., 2.38036318, 4.60464604,\n",
       "        0.        ]])"
      ]
     },
     "execution_count": 2,
     "metadata": {},
     "output_type": "execute_result"
    }
   ],
   "source": [
    "# test example 1\n",
    "\n",
    "n = 100                     # number of samples\n",
    "d = 5                       # ambient dimension\n",
    "X = np.random.randn(n,d)    # data matrix\n",
    "\n",
    "D(X)"
   ]
  },
  {
   "cell_type": "markdown",
   "metadata": {},
   "source": [
    "The following 2 examples take a long time and can not be handled by my laptop."
   ]
  },
  {
   "cell_type": "code",
   "execution_count": 3,
   "metadata": {},
   "outputs": [],
   "source": [
    "# test example 2\n",
    "\n",
    "# n = 10000                    # number of samples\n",
    "# d = 5                        # ambient dimension\n",
    "# X = np.random.randn(n,d)     # data matrix\n",
    "\n",
    "# D(X)"
   ]
  },
  {
   "cell_type": "code",
   "execution_count": 4,
   "metadata": {},
   "outputs": [],
   "source": [
    "# test example 3\n",
    "\n",
    "# n = 10000                  # number of samples\n",
    "# d = 50                     # ambient dimension\n",
    "# X = np.random.randn(n,d)   # data matrix"
   ]
  },
  {
   "cell_type": "markdown",
   "metadata": {},
   "source": [
    "Calling python functions to compute pairwise distance is much more efficient in computation time. Here are two functions (from different modules) you can use. Please read documentations and call those commands to compute pairwise distance matrix for each test example. Please compare the computational time.\n",
    "\n",
    "\n",
    "**Documentation:**\n",
    "\n",
    "1. scikit-learn: https://scikit-learn.org/stable/modules/generated/sklearn.metrics.pairwise_distances.html\n",
    "\n",
    "2. scipy: https://docs.scipy.org/doc/scipy/reference/generated/scipy.spatial.distance.pdist.html"
   ]
  },
  {
   "cell_type": "code",
   "execution_count": 5,
   "metadata": {},
   "outputs": [
    {
     "name": "stdout",
     "output_type": "stream",
     "text": [
      "Computational time is 0.002955198287963867 seconds\n"
     ]
    },
    {
     "data": {
      "text/plain": [
       "array([[0.        , 3.82626082, 2.61395997, ..., 1.77170269, 3.04404022,\n",
       "        2.88402877],\n",
       "       [3.82626082, 0.        , 3.25956143, ..., 2.62624397, 2.34404471,\n",
       "        4.06154597],\n",
       "       [2.61395997, 3.25956143, 0.        , ..., 2.96930993, 2.70066133,\n",
       "        4.30351424],\n",
       "       ...,\n",
       "       [1.77170269, 2.62624397, 2.96930993, ..., 0.        , 2.43172078,\n",
       "        2.38036318],\n",
       "       [3.04404022, 2.34404471, 2.70066133, ..., 2.43172078, 0.        ,\n",
       "        4.60464604],\n",
       "       [2.88402877, 4.06154597, 4.30351424, ..., 2.38036318, 4.60464604,\n",
       "        0.        ]])"
      ]
     },
     "execution_count": 5,
     "metadata": {},
     "output_type": "execute_result"
    }
   ],
   "source": [
    "from sklearn.metrics.pairwise import pairwise_distances\n",
    "\n",
    "start = time.time()\n",
    "\n",
    "test = pairwise_distances(X)\n",
    "\n",
    "stop = time.time()\n",
    "\n",
    "print(\"Computational time is\", stop - start, \"seconds\")\n",
    "\n",
    "test"
   ]
  },
  {
   "cell_type": "code",
   "execution_count": 6,
   "metadata": {},
   "outputs": [
    {
     "name": "stdout",
     "output_type": "stream",
     "text": [
      "Computational time is 0.00027632713317871094 seconds\n"
     ]
    },
    {
     "data": {
      "text/plain": [
       "array([3.82626082, 2.61395997, 2.23939349, ..., 2.43172078, 2.38036318,\n",
       "       4.60464604])"
      ]
     },
     "execution_count": 6,
     "metadata": {},
     "output_type": "execute_result"
    }
   ],
   "source": [
    "import scipy\n",
    "\n",
    "start = time.time()\n",
    "\n",
    "test = scipy.spatial.distance.pdist(X, metric = 'euclidean')\n",
    "\n",
    "stop = time.time()\n",
    "\n",
    "print(\"Computational time is\", stop - start, \"seconds\")\n",
    "\n",
    "test"
   ]
  }
 ],
 "metadata": {
  "kernelspec": {
   "display_name": "Python 3 (ipykernel)",
   "language": "python",
   "name": "python3"
  },
  "language_info": {
   "codemirror_mode": {
    "name": "ipython",
    "version": 3
   },
   "file_extension": ".py",
   "mimetype": "text/x-python",
   "name": "python",
   "nbconvert_exporter": "python",
   "pygments_lexer": "ipython3",
   "version": "3.8.19"
  }
 },
 "nbformat": 4,
 "nbformat_minor": 4
}
