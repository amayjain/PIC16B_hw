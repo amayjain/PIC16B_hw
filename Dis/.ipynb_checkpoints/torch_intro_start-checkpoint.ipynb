{
 "cells": [
  {
   "cell_type": "markdown",
   "metadata": {
    "id": "AOe-38liODsX"
   },
   "source": [
    "## Worksheet: Intro to PyTorch Neural Networks\n",
    "Author: Chunyang Liao\n"
   ]
  },
  {
   "cell_type": "code",
   "execution_count": 1,
   "metadata": {
    "id": "JCHBumBlODDd"
   },
   "outputs": [],
   "source": [
    "# import packages I will use\n",
    "import torch\n",
    "import torch.nn as nn\n",
    "import torch.nn.functional as F\n",
    "import numpy as np\n",
    "from matplotlib import pyplot as plt"
   ]
  },
  {
   "cell_type": "markdown",
   "metadata": {
    "id": "Js-txm8OOjDV"
   },
   "source": [
    "(1) Generate the data set that we want to learn"
   ]
  },
  {
   "cell_type": "code",
   "execution_count": 2,
   "metadata": {
    "id": "GL-UOfEnOc_6"
   },
   "outputs": [],
   "source": [
    "n = 500            # number of data\n",
    "dim = 25           # dimension of each data\n",
    "\n",
    "# create data set\n",
    "X = torch.normal(mean = 0, std = 1.0, size = [n, dim])\n",
    "Y = torch.normal(mean = 0, std = 1.0, size = [n])\n",
    "\n",
    "# We further convert the tensor into a PyTorch dataset structure.\n",
    "Data = torch.utils.data.TensorDataset(X, Y)"
   ]
  },
  {
   "cell_type": "markdown",
   "metadata": {
    "id": "EdGOQwTyP1PE"
   },
   "source": [
    "(2) Build a network of depth 3 with width 250"
   ]
  },
  {
   "cell_type": "code",
   "execution_count": 29,
   "metadata": {
    "colab": {
     "base_uri": "https://localhost:8080/"
    },
    "id": "rn6Inz00QBNM",
    "outputId": "11fd66df-9d37-49ff-fc11-3adc524bdb00"
   },
   "outputs": [
    {
     "name": "stdout",
     "output_type": "stream",
     "text": [
      "ffn(\n",
      "  (fc1): Linear(in_features=25, out_features=250, bias=True)\n",
      "  (fc2): Linear(in_features=250, out_features=250, bias=True)\n",
      "  (fc3): Linear(in_features=250, out_features=1, bias=True)\n",
      ")\n",
      "False\n"
     ]
    }
   ],
   "source": [
    "width = 250\n",
    "depth = 3\n",
    "\n",
    "class ffn(nn.Module):\n",
    "    \n",
    "  def __init__(self):\n",
    "      \n",
    "    super(ffn, self).__init__()\n",
    "      \n",
    "    self.fc1 = nn.Linear(25, 250)\n",
    "      \n",
    "    self.fc2 = nn.Linear(250, 250)\n",
    "      \n",
    "    self.fc3 = nn.Linear(250, 1)\n",
    "      \n",
    "  def forward(self,x):\n",
    "\n",
    "    c1 = F.relu(self.fc1(x))\n",
    "\n",
    "    c2 = F.relu(self.fc2(c1))\n",
    "    \n",
    "    output = self.fc3(c2)\n",
    "    \n",
    "    return output\n",
    "\n",
    "device = \"cuda\" if torch.cuda.is_available() else \"cpu\"\n",
    "model = ffn().to(device = device)\n",
    "\n",
    "print(model)\n",
    "print(torch.cuda.is_available())"
   ]
  },
  {
   "cell_type": "markdown",
   "metadata": {
    "id": "7pJQLsUHSbfe"
   },
   "source": [
    "(3)"
   ]
  },
  {
   "cell_type": "code",
   "execution_count": 40,
   "metadata": {
    "id": "xS2exU3JSdEx"
   },
   "outputs": [],
   "source": [
    "# We define how to load data from the set for SGD optimization\n",
    "batch_size = 20\n",
    "\n",
    "# Random pass\n",
    "trainloader = torch.utils.data.DataLoader(Data, batch_size = batch_size, shuffle = True)\n",
    "\n",
    "# mean squared error\n",
    "loss_function = nn.MSELoss()\n",
    "\n",
    "# define optimizer with learning rate  1e-3\n",
    "optimizer = torch.optim.SGD(model.parameters(),lr = 1e-3)\n",
    "\n",
    "# number of epochs = 500\n",
    "no_of_epochs = 500\n",
    "\n",
    "# number of iteration = epochs*(number of data/batch size)\n",
    "no_of_iterations = int(no_of_epochs * n / batch_size)"
   ]
  },
  {
   "cell_type": "markdown",
   "metadata": {
    "id": "h3ZyPoQrYwv2"
   },
   "source": [
    "(4)"
   ]
  },
  {
   "cell_type": "code",
   "execution_count": 41,
   "metadata": {
    "colab": {
     "base_uri": "https://localhost:8080/",
     "height": 282
    },
    "id": "EGGwf3zJYx_n",
    "outputId": "34acea19-5734-4c11-a2d2-6a38962746fb"
   },
   "outputs": [
    {
     "data": {
      "text/plain": [
       "[<matplotlib.lines.Line2D at 0x7f7e4d6ebbe0>]"
      ]
     },
     "execution_count": 41,
     "metadata": {},
     "output_type": "execute_result"
    },
    {
     "data": {
      "image/png": "[encoded data removed]",
      "text/plain": [
       "<Figure size 640x480 with 1 Axes>"
      ]
     },
     "metadata": {},
     "output_type": "display_data"
    }
   ],
   "source": [
    "model.train()\n",
    "losses = []\n",
    "\n",
    "for epoch in range(no_of_epochs):\n",
    "  for data, labels in trainloader:\n",
    "    data = data.to(device)\n",
    "    labels = labels.to(device)\n",
    "\n",
    "    optimizer.zero_grad()\n",
    "    outputs = model(data)\n",
    "\n",
    "    outputs = torch.squeeze(outputs)\n",
    "    loss = loss_function(outputs, labels)\n",
    "    # record loss at each iteration\n",
    "    losses.append(loss.item())\n",
    "\n",
    "    loss.backward()\n",
    "    optimizer.step()\n",
    "\n",
    "plt.semilogy(losses)"
   ]
  },
  {
   "cell_type": "code",
   "execution_count": null,
   "metadata": {},
   "outputs": [],
   "source": []
  }
 ],
 "metadata": {
  "accelerator": "GPU",
  "colab": {
   "provenance": []
  },
  "kernelspec": {
   "display_name": "Python 3 (ipykernel)",
   "language": "python",
   "name": "python3"
  },
  "language_info": {
   "codemirror_mode": {
    "name": "ipython",
    "version": 3
   },
   "file_extension": ".py",
   "mimetype": "text/x-python",
   "name": "python",
   "nbconvert_exporter": "python",
   "pygments_lexer": "ipython3",
   "version": "3.8.18"
  }
 },
 "nbformat": 4,
 "nbformat_minor": 4
}
