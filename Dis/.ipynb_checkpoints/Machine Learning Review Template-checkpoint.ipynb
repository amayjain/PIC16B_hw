{
 "cells": [
  {
   "cell_type": "code",
   "execution_count": null,
   "metadata": {},
   "outputs": [],
   "source": [
    "import numpy as np\n",
    "import pandas as pd\n",
    "import matplotlib.pyplot as plt\n",
    "import seaborn as sns\n",
    "import sklearn\n",
    "\n",
    "from sklearn.datasets import load_wine\n",
    "data = load_wine()"
   ]
  },
  {
   "cell_type": "markdown",
   "metadata": {},
   "source": [
    "# TASKS\n",
    "\n",
    "1. Take a look at the wine data object using `load_wine()`. Make a pandas dataframe of the wine dataset with appropriate column names including the target column.\n",
    "2. Make a heatmap of the correlation matrix of the dataset.\n",
    "3. Split the data into training and testing data.\n",
    "4. Fit SVM, KNN, and Random Forest models on the data.\n",
    "5. Make classification reports for each. How do the models compare?\n",
    "6. Try tweaking the parameters of each model. Which model can you get to perform the best?\n",
    "\n",
    "*Note: whenever possible, try to use sklearn/pandas commmands for data manipulation instead of writing things yourself! Their versions will be more efficient.*"
   ]
  },
  {
   "cell_type": "code",
   "execution_count": null,
   "metadata": {},
   "outputs": [],
   "source": [
    "df = pd.DataFrame(data.data, columns = data.feature_names)\n",
    "\n",
    "X = df.copy()\n",
    "\n",
    "df['target'] = data.target\n",
    "\n",
    "y = df['target'].copy()"
   ]
  },
  {
   "cell_type": "code",
   "execution_count": null,
   "metadata": {},
   "outputs": [],
   "source": [
    "corr = df.corr(numeric_only = True)\n",
    "\n",
    "plt.subplots(figsize=(20,15))\n",
    "\n",
    "sns.heatmap(corr, \n",
    "            vmin = -1, \n",
    "            vmax = 1, \n",
    "            annot = True)"
   ]
  },
  {
   "cell_type": "code",
   "execution_count": null,
   "metadata": {},
   "outputs": [],
   "source": []
  }
 ],
 "metadata": {
  "kernelspec": {
   "display_name": "Python 3 (ipykernel)",
   "language": "python",
   "name": "python3"
  },
  "language_info": {
   "codemirror_mode": {
    "name": "ipython",
    "version": 3
   },
   "file_extension": ".py",
   "mimetype": "text/x-python",
   "name": "python",
   "nbconvert_exporter": "python",
   "pygments_lexer": "ipython3",
   "version": "3.8.19"
  }
 },
 "nbformat": 4,
 "nbformat_minor": 4
}
