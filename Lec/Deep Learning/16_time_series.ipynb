{
 "cells": [
  {
   "cell_type": "markdown",
   "metadata": {},
   "source": [
    "# Time Series Data\n",
    "\n",
    "In this lecture, we will discuss recurrent neural network which works for time series data.\n",
    "\n",
    "Time Series Data: Each data point in a time series is linked to a timestamp, which shows the exact time when the data was observed or recorded. Many fields, including finance, economics, weather forecasting, and machine learning, frequently employ this kind of data.\n",
    "\n",
    "When we consider the previous structures, we implicitly assume that samples are realizations of some unknown distribution and are **independent**. However, time series data are dependent because of timestamp.\n",
    "\n",
    "The fact that time series data frequently display patterns or trends across time, such as seasonality or cyclical patterns, is an essential feature associated with it. To make predictions or learn more about the underlying processes or occurrences being observed, these patterns can be analyzed and modeled.\n",
    "\n",
    "Recurrent Neural Networks (RNN) model the temporal dependencies present in the data as it contains an implicit memory of previous inputs. Hence, time series data being sequential in nature is often used in RNN. For working with time series data in RNNs, TensorFlow provides a number of APIs and tools, like tf.keras.layers.RNN API, which allows to create of unique RNN cell classes and use them with data. Several RNN cell types are also supported by this API, including Basic RNN, LSTM, and GRU. "
   ]
  },
  {
   "cell_type": "code",
   "execution_count": 3,
   "metadata": {},
   "outputs": [
    {
     "name": "stderr",
     "output_type": "stream",
     "text": [
      "2024-06-03 14:04:25.098954: I tensorflow/core/platform/cpu_feature_guard.cc:193] This TensorFlow binary is optimized with oneAPI Deep Neural Network Library (oneDNN) to use the following CPU instructions in performance-critical operations:  SSE4.1 SSE4.2\n",
      "To enable them in other operations, rebuild TensorFlow with the appropriate compiler flags.\n"
     ]
    }
   ],
   "source": [
    "# import packages\n",
    "\n",
    "import numpy as np\n",
    "import pandas as pd\n",
    "import yfinance as yf\n",
    "import datetime as dt\n",
    "import matplotlib.pyplot as plt\n",
    "import tensorflow as tf"
   ]
  },
  {
   "cell_type": "markdown",
   "metadata": {},
   "source": [
    "You need to install yfinance packages, type pip install yfinance should work. Then, please restart your kernel."
   ]
  },
  {
   "cell_type": "code",
   "execution_count": 2,
   "metadata": {},
   "outputs": [
    {
     "name": "stdout",
     "output_type": "stream",
     "text": [
      "Collecting yfinance\n",
      "  Downloading yfinance-0.2.40-py2.py3-none-any.whl.metadata (11 kB)\n",
      "Requirement already satisfied: pandas>=1.3.0 in /opt/anaconda3/lib/python3.8/site-packages (from yfinance) (1.5.3)\n",
      "Requirement already satisfied: numpy>=1.16.5 in /opt/anaconda3/lib/python3.8/site-packages (from yfinance) (1.24.3)\n",
      "Requirement already satisfied: requests>=2.31 in /opt/anaconda3/lib/python3.8/site-packages (from yfinance) (2.31.0)\n",
      "Collecting multitasking>=0.0.7 (from yfinance)\n",
      "  Downloading multitasking-0.0.11-py3-none-any.whl.metadata (5.5 kB)\n",
      "Requirement already satisfied: lxml>=4.9.1 in /opt/anaconda3/lib/python3.8/site-packages (from yfinance) (4.9.3)\n",
      "Requirement already satisfied: platformdirs>=2.0.0 in /opt/anaconda3/lib/python3.8/site-packages (from yfinance) (3.10.0)\n",
      "Requirement already satisfied: pytz>=2022.5 in /opt/anaconda3/lib/python3.8/site-packages (from yfinance) (2023.3.post1)\n",
      "Collecting frozendict>=2.3.4 (from yfinance)\n",
      "  Downloading frozendict-2.4.4.tar.gz (315 kB)\n",
      "\u001b[2K     \u001b[90m━━━━━━━━━━━━━━━━━━━━━━━━━━━━━━━━━━━━━━━\u001b[0m \u001b[32m315.9/315.9 kB\u001b[0m \u001b[31m4.4 MB/s\u001b[0m eta \u001b[36m0:00:00\u001b[0ma \u001b[36m0:00:01\u001b[0m\n",
      "\u001b[?25h  Installing build dependencies ... \u001b[?25ldone\n",
      "\u001b[?25h  Getting requirements to build wheel ... \u001b[?25ldone\n",
      "\u001b[?25h  Preparing metadata (pyproject.toml) ... \u001b[?25ldone\n",
      "\u001b[?25hCollecting peewee>=3.16.2 (from yfinance)\n",
      "  Downloading peewee-3.17.5.tar.gz (3.0 MB)\n",
      "\u001b[2K     \u001b[90m━━━━━━━━━━━━━━━━━━━━━━━━━━━━━━━━━━━━━━━━\u001b[0m \u001b[32m3.0/3.0 MB\u001b[0m \u001b[31m2.7 MB/s\u001b[0m eta \u001b[36m0:00:00\u001b[0ma \u001b[36m0:00:01\u001b[0m\n",
      "\u001b[?25h  Installing build dependencies ... \u001b[?25ldone\n",
      "\u001b[?25h  Getting requirements to build wheel ... \u001b[?25ldone\n",
      "\u001b[?25h  Preparing metadata (pyproject.toml) ... \u001b[?25ldone\n",
      "\u001b[?25hRequirement already satisfied: beautifulsoup4>=4.11.1 in /opt/anaconda3/lib/python3.8/site-packages (from yfinance) (4.12.2)\n",
      "Requirement already satisfied: html5lib>=1.1 in /opt/anaconda3/lib/python3.8/site-packages (from yfinance) (1.1)\n",
      "Requirement already satisfied: soupsieve>1.2 in /opt/anaconda3/lib/python3.8/site-packages (from beautifulsoup4>=4.11.1->yfinance) (2.5)\n",
      "Requirement already satisfied: six>=1.9 in /opt/anaconda3/lib/python3.8/site-packages (from html5lib>=1.1->yfinance) (1.16.0)\n",
      "Requirement already satisfied: webencodings in /opt/anaconda3/lib/python3.8/site-packages (from html5lib>=1.1->yfinance) (0.5.1)\n",
      "Requirement already satisfied: python-dateutil>=2.8.1 in /opt/anaconda3/lib/python3.8/site-packages (from pandas>=1.3.0->yfinance) (2.8.2)\n",
      "Requirement already satisfied: charset-normalizer<4,>=2 in /opt/anaconda3/lib/python3.8/site-packages (from requests>=2.31->yfinance) (2.0.4)\n",
      "Requirement already satisfied: idna<4,>=2.5 in /opt/anaconda3/lib/python3.8/site-packages (from requests>=2.31->yfinance) (3.4)\n",
      "Requirement already satisfied: urllib3<3,>=1.21.1 in /opt/anaconda3/lib/python3.8/site-packages (from requests>=2.31->yfinance) (2.1.0)\n",
      "Requirement already satisfied: certifi>=2017.4.17 in /opt/anaconda3/lib/python3.8/site-packages (from requests>=2.31->yfinance) (2024.2.2)\n",
      "Downloading yfinance-0.2.40-py2.py3-none-any.whl (73 kB)\n",
      "\u001b[2K   \u001b[90m━━━━━━━━━━━━━━━━━━━━━━━━━━━━━━━━━━━━━━━━\u001b[0m \u001b[32m73.5/73.5 kB\u001b[0m \u001b[31m2.1 MB/s\u001b[0m eta \u001b[36m0:00:00\u001b[0ma \u001b[36m0:00:01\u001b[0m\n",
      "\u001b[?25hDownloading multitasking-0.0.11-py3-none-any.whl (8.5 kB)\n",
      "Building wheels for collected packages: frozendict, peewee\n",
      "  Building wheel for frozendict (pyproject.toml) ... \u001b[?25ldone\n",
      "\u001b[?25h  Created wheel for frozendict: filename=frozendict-2.4.4-cp38-cp38-macosx_10_9_x86_64.whl size=37766 sha256=5cf681639db782e8a6b1a33c763f531a90b56e9757735c092583821952b68c29\n",
      "  Stored in directory: /Users/amayjain/Library/Caches/pip/wheels/7d/65/20/a8f7d1a2a99c9db2dfb0f83dddac9e847b02f45040768bf264\n",
      "  Building wheel for peewee (pyproject.toml) ... \u001b[?25ldone\n",
      "\u001b[?25h  Created wheel for peewee: filename=peewee-3.17.5-cp38-cp38-macosx_10_9_x86_64.whl size=272313 sha256=e0c48170c65b543b1120351ead979896324c852bfafac31e135891288399e68a\n",
      "  Stored in directory: /Users/amayjain/Library/Caches/pip/wheels/50/f5/5d/c6bc991ef2e027c2d14113be120f99704e268b48057a90529d\n",
      "Successfully built frozendict peewee\n",
      "Installing collected packages: peewee, multitasking, frozendict, yfinance\n",
      "Successfully installed frozendict-2.4.4 multitasking-0.0.11 peewee-3.17.5 yfinance-0.2.40\n",
      "Note: you may need to restart the kernel to use updated packages.\n"
     ]
    }
   ],
   "source": [
    "# pip install yfinance"
   ]
  },
  {
   "cell_type": "markdown",
   "metadata": {},
   "source": [
    "## Get the data"
   ]
  },
  {
   "cell_type": "code",
   "execution_count": 4,
   "metadata": {},
   "outputs": [
    {
     "name": "stderr",
     "output_type": "stream",
     "text": [
      "[*********************100%%**********************]  1 of 1 completed\n"
     ]
    },
    {
     "data": {
      "text/html": [
       "<div>\n",
       "<style scoped>\n",
       "    .dataframe tbody tr th:only-of-type {\n",
       "        vertical-align: middle;\n",
       "    }\n",
       "\n",
       "    .dataframe tbody tr th {\n",
       "        vertical-align: top;\n",
       "    }\n",
       "\n",
       "    .dataframe thead th {\n",
       "        text-align: right;\n",
       "    }\n",
       "</style>\n",
       "<table border=\"1\" class=\"dataframe\">\n",
       "  <thead>\n",
       "    <tr style=\"text-align: right;\">\n",
       "      <th></th>\n",
       "      <th>Open</th>\n",
       "      <th>High</th>\n",
       "      <th>Low</th>\n",
       "      <th>Close</th>\n",
       "      <th>Adj Close</th>\n",
       "      <th>Volume</th>\n",
       "    </tr>\n",
       "    <tr>\n",
       "      <th>Date</th>\n",
       "      <th></th>\n",
       "      <th></th>\n",
       "      <th></th>\n",
       "      <th></th>\n",
       "      <th></th>\n",
       "      <th></th>\n",
       "    </tr>\n",
       "  </thead>\n",
       "  <tbody>\n",
       "    <tr>\n",
       "      <th>2020-04-01</th>\n",
       "      <td>56.200001</td>\n",
       "      <td>56.471001</td>\n",
       "      <td>54.674500</td>\n",
       "      <td>55.105000</td>\n",
       "      <td>55.105000</td>\n",
       "      <td>51970000</td>\n",
       "    </tr>\n",
       "    <tr>\n",
       "      <th>2020-04-02</th>\n",
       "      <td>55.000000</td>\n",
       "      <td>56.138500</td>\n",
       "      <td>54.656502</td>\n",
       "      <td>55.851501</td>\n",
       "      <td>55.851501</td>\n",
       "      <td>56410000</td>\n",
       "    </tr>\n",
       "    <tr>\n",
       "      <th>2020-04-03</th>\n",
       "      <td>55.735500</td>\n",
       "      <td>55.939499</td>\n",
       "      <td>53.754002</td>\n",
       "      <td>54.634998</td>\n",
       "      <td>54.634998</td>\n",
       "      <td>51374000</td>\n",
       "    </tr>\n",
       "    <tr>\n",
       "      <th>2020-04-06</th>\n",
       "      <td>56.650002</td>\n",
       "      <td>59.537498</td>\n",
       "      <td>56.250000</td>\n",
       "      <td>59.159500</td>\n",
       "      <td>59.159500</td>\n",
       "      <td>63320000</td>\n",
       "    </tr>\n",
       "    <tr>\n",
       "      <th>2020-04-07</th>\n",
       "      <td>60.850498</td>\n",
       "      <td>61.039001</td>\n",
       "      <td>58.862499</td>\n",
       "      <td>59.127998</td>\n",
       "      <td>59.127998</td>\n",
       "      <td>61620000</td>\n",
       "    </tr>\n",
       "    <tr>\n",
       "      <th>...</th>\n",
       "      <td>...</td>\n",
       "      <td>...</td>\n",
       "      <td>...</td>\n",
       "      <td>...</td>\n",
       "      <td>...</td>\n",
       "      <td>...</td>\n",
       "    </tr>\n",
       "    <tr>\n",
       "      <th>2023-03-27</th>\n",
       "      <td>104.620003</td>\n",
       "      <td>104.760002</td>\n",
       "      <td>101.930000</td>\n",
       "      <td>102.459999</td>\n",
       "      <td>102.459999</td>\n",
       "      <td>31120900</td>\n",
       "    </tr>\n",
       "    <tr>\n",
       "      <th>2023-03-28</th>\n",
       "      <td>102.440002</td>\n",
       "      <td>102.449997</td>\n",
       "      <td>99.739998</td>\n",
       "      <td>101.029999</td>\n",
       "      <td>101.029999</td>\n",
       "      <td>32057900</td>\n",
       "    </tr>\n",
       "    <tr>\n",
       "      <th>2023-03-29</th>\n",
       "      <td>102.279999</td>\n",
       "      <td>102.489998</td>\n",
       "      <td>100.650002</td>\n",
       "      <td>101.389999</td>\n",
       "      <td>101.389999</td>\n",
       "      <td>28779600</td>\n",
       "    </tr>\n",
       "    <tr>\n",
       "      <th>2023-03-30</th>\n",
       "      <td>100.910004</td>\n",
       "      <td>101.160004</td>\n",
       "      <td>99.779999</td>\n",
       "      <td>100.889999</td>\n",
       "      <td>100.889999</td>\n",
       "      <td>33086200</td>\n",
       "    </tr>\n",
       "    <tr>\n",
       "      <th>2023-03-31</th>\n",
       "      <td>101.300003</td>\n",
       "      <td>103.889999</td>\n",
       "      <td>101.040001</td>\n",
       "      <td>103.730003</td>\n",
       "      <td>103.730003</td>\n",
       "      <td>36863400</td>\n",
       "    </tr>\n",
       "  </tbody>\n",
       "</table>\n",
       "<p>756 rows × 6 columns</p>\n",
       "</div>"
      ],
      "text/plain": [
       "                  Open        High         Low       Close   Adj Close  \\\n",
       "Date                                                                     \n",
       "2020-04-01   56.200001   56.471001   54.674500   55.105000   55.105000   \n",
       "2020-04-02   55.000000   56.138500   54.656502   55.851501   55.851501   \n",
       "2020-04-03   55.735500   55.939499   53.754002   54.634998   54.634998   \n",
       "2020-04-06   56.650002   59.537498   56.250000   59.159500   59.159500   \n",
       "2020-04-07   60.850498   61.039001   58.862499   59.127998   59.127998   \n",
       "...                ...         ...         ...         ...         ...   \n",
       "2023-03-27  104.620003  104.760002  101.930000  102.459999  102.459999   \n",
       "2023-03-28  102.440002  102.449997   99.739998  101.029999  101.029999   \n",
       "2023-03-29  102.279999  102.489998  100.650002  101.389999  101.389999   \n",
       "2023-03-30  100.910004  101.160004   99.779999  100.889999  100.889999   \n",
       "2023-03-31  101.300003  103.889999  101.040001  103.730003  103.730003   \n",
       "\n",
       "              Volume  \n",
       "Date                  \n",
       "2020-04-01  51970000  \n",
       "2020-04-02  56410000  \n",
       "2020-04-03  51374000  \n",
       "2020-04-06  63320000  \n",
       "2020-04-07  61620000  \n",
       "...              ...  \n",
       "2023-03-27  31120900  \n",
       "2023-03-28  32057900  \n",
       "2023-03-29  28779600  \n",
       "2023-03-30  33086200  \n",
       "2023-03-31  36863400  \n",
       "\n",
       "[756 rows x 6 columns]"
      ]
     },
     "execution_count": 4,
     "metadata": {},
     "output_type": "execute_result"
    }
   ],
   "source": [
    "#the start and end date\n",
    "start_date = dt.datetime(2020, 4, 1)\n",
    "end_date = dt.datetime(2023, 4, 1)\n",
    " \n",
    "#loading from yahoo finance\n",
    "data = yf.download(\"GOOGL\", start_date, end_date)\n",
    "data"
   ]
  },
  {
   "cell_type": "markdown",
   "metadata": {},
   "source": [
    "Let's understand the meaning of each column.\n",
    "\n",
    "- Open = the price when the market opened in the morning.\n",
    "\n",
    "- High = the highest price during that trading day.\n",
    "\n",
    "- Low = the lowest price during that trading day.\n",
    "\n",
    "- Close = the price when the market closed in the afternoon.\n",
    "\n",
    "- Adj Close (Adjusted Close) = a price adjusted to make prices comparable over time.\n",
    "\n",
    "- Volume = number of shares of the stock traded that day.\n"
   ]
  },
  {
   "cell_type": "markdown",
   "metadata": {},
   "source": [
    "## Train-test Split\n",
    "\n",
    "We split data samples to training data points and test data points. We cannot randomly split training data points and test data points since time series data has timestamp and we can only use previous data to predict future data.\n",
    "\n",
    "We will use 80% data for training and 20% for testing. I only predict open price. You can also consider other columns."
   ]
  },
  {
   "cell_type": "code",
   "execution_count": 6,
   "metadata": {},
   "outputs": [
    {
     "name": "stdout",
     "output_type": "stream",
     "text": [
      "(604, 1) (152, 1)\n",
      "(604, 1)\n",
      "(152, 1)\n"
     ]
    }
   ],
   "source": [
    "# Setting 80 percent data for training\n",
    "training_data_len = int(len(data) * .8)\n",
    " \n",
    "# Splitting the dataset and selecting Open Price \n",
    "train_data = data[:training_data_len].iloc[:,:1] \n",
    "test_data = data[training_data_len:].iloc[:,:1]\n",
    "print(train_data.shape, test_data.shape)\n",
    "\n",
    "# change training data and test data to numpy array\n",
    "dataset_train = train_data.to_numpy()\n",
    "print(dataset_train.shape)\n",
    "\n",
    "dataset_test = test_data.to_numpy()\n",
    "print(dataset_test.shape)"
   ]
  },
  {
   "cell_type": "markdown",
   "metadata": {},
   "source": [
    "## Normalization\n",
    "\n",
    "Normalization is a crucial step in data preprocessing to enhance the effectiveness and interpretability of machine learning models.\n",
    "\n",
    "**Should we normalize the data before or after splitting it into training and testing sets?**\n",
    "\n",
    "We should split first and then normalize training data, then we use the \"same way\" to normalize test data. This recommendation is to prevent any information leakage from the testing set into the training set, which can lead to over-optimistic results and unrealistic performance evaluations."
   ]
  },
  {
   "cell_type": "code",
   "execution_count": 8,
   "metadata": {},
   "outputs": [],
   "source": [
    "## define a class for normalization\n",
    "\n",
    "class minmax():\n",
    "    \n",
    "    \"\"\"\n",
    "    minmax is a class of minmax normalizers.\n",
    "    Each normalizer has two instance attributes called min_val and max_val with default values 0 and 1, respectively.\n",
    "    They will be updated in fit_transform command.\n",
    "    \"\"\"\n",
    "    \n",
    "    def __init__(self, min_val = 0, max_val = 1):\n",
    "        \n",
    "        self.min_val = 0\n",
    "        self.max_val = 1\n",
    "        \n",
    "    def fit_transform(self, X):\n",
    "        \n",
    "        \"\"\"\n",
    "        X is supposed to be a 1D numpy array or 2D numpy array with only one row or one column.\n",
    "        This function returns normalized X which has the same shape of X.\n",
    "        The minimum value of X and the maximum value of X will replace self.min_val and self.max_val.\n",
    "        \"\"\"\n",
    "        \n",
    "        self.min_val = np.min(X)\n",
    "        self.max_val = np.max(X)\n",
    "        \n",
    "        return (X - self.min_val) / (self.max_val - self.min_val)\n",
    "    \n",
    "    def transform(self, X):\n",
    "        \"\"\"\n",
    "        X is supposed to be a 1D numpy array or 2D numpy array with only one row or one column.\n",
    "        This function returns normalized X which has the same shape of X.\n",
    "        \"\"\"\n",
    "        return (X - self.min_val) / (self.max_val - self.min_val)\n",
    "    \n",
    "    def inverse_transform(self, X_scaled):\n",
    "        \n",
    "        \"\"\"\n",
    "        X is supposed to be a 1D numpy array or 2D numpy array with only one row or one column.\n",
    "        This function takes normalized data as input and transforms it back to original scale.\n",
    "        The output has the same shape of X.\n",
    "        \"\"\"\n",
    "        \n",
    "        return X_scaled * (self.max_val - self.min_val) + self.min_val"
   ]
  },
  {
   "cell_type": "code",
   "execution_count": 6,
   "metadata": {},
   "outputs": [],
   "source": [
    "scalar = minmax()\n",
    "dataset_train = scalar.fit_transform(dataset_train)\n",
    "dataset_test = scalar.transform(dataset_test)\n"
   ]
  },
  {
   "cell_type": "code",
   "execution_count": 7,
   "metadata": {},
   "outputs": [
    {
     "name": "stdout",
     "output_type": "stream",
     "text": [
      "(604, 1)\n",
      "(152, 1)\n"
     ]
    }
   ],
   "source": [
    "print(dataset_train.shape)\n",
    "print(dataset_test.shape)"
   ]
  },
  {
   "cell_type": "markdown",
   "metadata": {},
   "source": [
    "## Create training samples and corresponding labels\n",
    "\n",
    "We should determine how many previous timestamps are used to predict the future labels."
   ]
  },
  {
   "cell_type": "code",
   "execution_count": 8,
   "metadata": {},
   "outputs": [],
   "source": [
    "def data_set(data, window_sizeb=b20):\n",
    "    \n",
    "    \"\"\"\n",
    "    This function takes data, which is a 2D numpy array and window_size, which is an integer as inputs.\n",
    "    window_size represents the number of timestamps included in each sample. The default value is 20.\n",
    "    Function should return two lists. One contains samples, the other contains labels. \n",
    "    \"\"\"\n",
    "    \n",
    "    X = []\n",
    "    y = []\n",
    "    for i in range(window_size, len(data)):\n",
    "        X.append(data[i-window_size:i,0])\n",
    "        y.append(data[i,0])\n",
    "    \n",
    "    return X,y"
   ]
  },
  {
   "cell_type": "code",
   "execution_count": 9,
   "metadata": {},
   "outputs": [
    {
     "name": "stdout",
     "output_type": "stream",
     "text": [
      "X_train : (584, 20, 1) y_train : (584, 1)\n",
      "X_test : (132, 20, 1) y_test : (132, 1)\n"
     ]
    }
   ],
   "source": [
    "timestamp = 20\n",
    "\n",
    "# create training and test data set\n",
    "X_train, y_train = data_set(dataset_train, timestamp)\n",
    "X_test, y_test = data_set(dataset_test, timestamp)\n",
    "\n",
    "# The data is converted to Numpy array\n",
    "X_train, y_train = np.array(X_train), np.array(y_train)\n",
    "\n",
    "#Reshaping\n",
    "X_train = X_train.reshape((X_train.shape[0], X_train.shape[1],1))\n",
    "y_train = y_train.reshape((y_train.shape[0],1))\n",
    "print(\"X_train :\",X_train.shape,\"y_train :\",y_train.shape)\n",
    "\n",
    "# The data is converted to numpy array\n",
    "X_test, y_test = np.array(X_test), np.array(y_test)\n",
    " \n",
    "#Reshaping\n",
    "X_test = X_test.reshape((X_test.shape[0], X_test.shape[1],1))\n",
    "y_test = y_test.reshape((y_test.shape[0],1))\n",
    "print(\"X_test :\",X_test.shape,\"y_test :\",y_test.shape)"
   ]
  },
  {
   "cell_type": "markdown",
   "metadata": {},
   "source": [
    "## Recurrent Neural Network\n",
    "\n",
    "Recurrent neural network is designed to use sequential data or time series data. These deep learning algorithms are commonly used for ordinal or temporal problems, such as language translation, natural language processing (nlp), speech recognition, and image captioning; they are incorporated into popular applications such as Siri, voice search, and Google Translate.\n",
    "\n",
    "Here is the recurrent structure:\n",
    "\n",
    "![](https://upload.wikimedia.org/wikipedia/commons/b/b5/Recurrent_neural_network_unfold.svg)\n",
    "Image from *Wikipedia*."
   ]
  },
  {
   "cell_type": "markdown",
   "metadata": {},
   "source": [
    "### RNN operation:\n",
    "\n",
    "I would like to use the following code to explain the structure of recurrent neural network."
   ]
  },
  {
   "cell_type": "code",
   "execution_count": 10,
   "metadata": {},
   "outputs": [
    {
     "name": "stdout",
     "output_type": "stream",
     "text": [
      "[[[0.02630292]\n",
      "  [0.07890877]\n",
      "  [0.15781754]]]\n"
     ]
    }
   ],
   "source": [
    "# Construct a Simple RNN model:\n",
    "test_model = tf.keras.models.Sequential(\n",
    "    [\n",
    "\n",
    "    # input shape\n",
    "        # 3 refers to using previous 3 days for predicting\n",
    "        # 1 refers to one nueron input (1 feature)\n",
    "    # output shape\n",
    "        # 1 output neuron\n",
    "    tf.keras.layers.SimpleRNN(1, use_bias = False, return_sequences = True, activation = \"linear\", input_shape = (3, 1))\n",
    "    \n",
    "    ]\n",
    ")\n",
    "data = np.array([0.1, 0.2, 0.3]).reshape((1, 3, 1))\n",
    "# make and show prediction\n",
    "print(test_model.predict(data))"
   ]
  },
  {
   "cell_type": "code",
   "execution_count": 11,
   "metadata": {},
   "outputs": [
    {
     "data": {
      "text/plain": [
       "[array([[0.26302922]], dtype=float32), array([[1.]], dtype=float32)]"
      ]
     },
     "execution_count": 11,
     "metadata": {},
     "output_type": "execute_result"
    }
   ],
   "source": [
    "test_model.get_weights()"
   ]
  },
  {
   "cell_type": "markdown",
   "metadata": {},
   "source": [
    "### Simple RNN\n",
    "\n",
    "The second model is simple RNN model. Instead of using dense layer/fully connected layer, I use simple recurrent layer to construct neural network."
   ]
  },
  {
   "cell_type": "markdown",
   "metadata": {},
   "source": [
    "We use `tf.keras.layers.RNN` to build a simple recurrence layer.\n",
    "\n",
    "    tf.keras.layers.SimpleRNN(\n",
    "        units,\n",
    "        activation='tanh',\n",
    "        use_bias=True,\n",
    "        kernel_initializer='glorot_uniform',\n",
    "        recurrent_initializer='orthogonal',\n",
    "        bias_initializer='zeros',\n",
    "        kernel_regularizer=None,\n",
    "        recurrent_regularizer=None,\n",
    "        bias_regularizer=None,\n",
    "        activity_regularizer=None,\n",
    "        kernel_constraint=None,\n",
    "        recurrent_constraint=None,\n",
    "        bias_constraint=None,\n",
    "        dropout=0.0,\n",
    "        recurrent_dropout=0.0,\n",
    "        return_sequences=False,\n",
    "        return_state=False,\n",
    "        go_backwards=False,\n",
    "        stateful=False,\n",
    "        unroll=False,\n",
    "        **kwargs\n",
    "    )\n",
    "\n",
    "You should be familiar with some arguments, but I want to highlight `input_shape` and `return_sequence`:\n",
    "\n",
    "- Input shape = [sequence length, number of values per timestamp]. sequence length <==> timestamp\n",
    "\n",
    "- That return sequences return the hidden state output for each input time step."
   ]
  },
  {
   "cell_type": "code",
   "execution_count": 12,
   "metadata": {},
   "outputs": [
    {
     "name": "stdout",
     "output_type": "stream",
     "text": [
      "Epoch 1/10\n",
      "292/292 [==============================] - 2s 5ms/step - loss: 0.0084 - mse: 0.0084\n",
      "Epoch 2/10\n",
      "292/292 [==============================] - 1s 5ms/step - loss: 0.0030 - mse: 0.0030\n",
      "Epoch 3/10\n",
      "292/292 [==============================] - 1s 5ms/step - loss: 0.0024 - mse: 0.0024\n",
      "Epoch 4/10\n",
      "292/292 [==============================] - 1s 5ms/step - loss: 0.0017 - mse: 0.0017\n",
      "Epoch 5/10\n",
      "292/292 [==============================] - 1s 5ms/step - loss: 0.0016 - mse: 0.0016\n",
      "Epoch 6/10\n",
      "292/292 [==============================] - 1s 5ms/step - loss: 0.0017 - mse: 0.0017\n",
      "Epoch 7/10\n",
      "292/292 [==============================] - 1s 5ms/step - loss: 0.0015 - mse: 0.0015\n",
      "Epoch 8/10\n",
      "292/292 [==============================] - 1s 5ms/step - loss: 0.0014 - mse: 0.0014\n",
      "Epoch 9/10\n",
      "292/292 [==============================] - 1s 5ms/step - loss: 0.0011 - mse: 0.0011\n",
      "Epoch 10/10\n",
      "292/292 [==============================] - 1s 5ms/step - loss: 0.0013 - mse: 0.0013\n"
     ]
    },
    {
     "data": {
      "text/plain": [
       "<tensorflow.python.keras.callbacks.History at 0x7fd421073ed0>"
      ]
     },
     "execution_count": 12,
     "metadata": {},
     "output_type": "execute_result"
    }
   ],
   "source": [
    "# initializing the RNN\n",
    "RNN = tf.keras.models.Sequential([\n",
    "    \n",
    "    tf.keras.layers.SimpleRNN(units = 50, \n",
    "                        activation = \"tanh\",\n",
    "                        return_sequences = True,\n",
    "                        input_shape = (X_train.shape[1],1)),      # X_train.shape[1] <==> window_size\n",
    "    \n",
    "    tf.keras.layers.SimpleRNN(units = 50, \n",
    "                        activation = \"tanh\",\n",
    "                        return_sequences = True),\n",
    "    \n",
    "    tf.keras.layers.SimpleRNN(units = 50),\n",
    "    \n",
    "    tf.keras.layers.Dense(units=1,activation='sigmoid')\n",
    "    \n",
    "])\n",
    "\n",
    " \n",
    "# compiling RNN\n",
    "\n",
    "RNN.compile(optimizer = \"adam\",\n",
    "                  loss = \"mean_squared_error\",\n",
    "             metrics=[\"mse\"])\n",
    " \n",
    "# fitting the model\n",
    "RNN.fit(X_train, y_train, epochs = 10, batch_size = 2)"
   ]
  },
  {
   "cell_type": "code",
   "execution_count": 13,
   "metadata": {},
   "outputs": [
    {
     "name": "stdout",
     "output_type": "stream",
     "text": [
      "5/5 [==============================] - 0s 3ms/step - loss: 8.4524e-04 - mse: 8.4524e-04\n"
     ]
    },
    {
     "data": {
      "text/plain": [
       "[0.0008452351321466267, 0.0008452351321466267]"
      ]
     },
     "execution_count": 13,
     "metadata": {},
     "output_type": "execute_result"
    }
   ],
   "source": [
    "RNN.evaluate(X_test,y_test)"
   ]
  },
  {
   "cell_type": "code",
   "execution_count": 14,
   "metadata": {},
   "outputs": [
    {
     "data": {
      "text/plain": [
       "0.0008452351856225926"
      ]
     },
     "execution_count": 14,
     "metadata": {},
     "output_type": "execute_result"
    }
   ],
   "source": [
    "RNN_pred = RNN.predict(X_test)\n",
    "np.mean((RNN_pred-y_test)**2)"
   ]
  },
  {
   "cell_type": "code",
   "execution_count": 23,
   "metadata": {},
   "outputs": [
    {
     "data": {
      "text/plain": [
       "array([[0.5022462 ],\n",
       "       [0.4708758 ],\n",
       "       [0.47630224],\n",
       "       [0.4629405 ],\n",
       "       [0.47237012],\n",
       "       [0.4623012 ],\n",
       "       [0.46561924],\n",
       "       [0.45527095],\n",
       "       [0.45067656],\n",
       "       [0.4841776 ],\n",
       "       [0.4847445 ],\n",
       "       [0.4836507 ],\n",
       "       [0.4745545 ],\n",
       "       [0.4663127 ],\n",
       "       [0.4518789 ],\n",
       "       [0.453041  ],\n",
       "       [0.4353574 ],\n",
       "       [0.47743762],\n",
       "       [0.4801193 ],\n",
       "       [0.5138572 ],\n",
       "       [0.48504168],\n",
       "       [0.47212267],\n",
       "       [0.45053437],\n",
       "       [0.49378166],\n",
       "       [0.5171776 ],\n",
       "       [0.45691156],\n",
       "       [0.42185187],\n",
       "       [0.4004987 ],\n",
       "       [0.43762574],\n",
       "       [0.45000675],\n",
       "       [0.40037885],\n",
       "       [0.34336698],\n",
       "       [0.3349581 ],\n",
       "       [0.3646732 ],\n",
       "       [0.3879885 ],\n",
       "       [0.3763853 ],\n",
       "       [0.39778054],\n",
       "       [0.42402887],\n",
       "       [0.43819153],\n",
       "       [0.45731908],\n",
       "       [0.45208922],\n",
       "       [0.43595102],\n",
       "       [0.45887703],\n",
       "       [0.46318713],\n",
       "       [0.44506022],\n",
       "       [0.45318037],\n",
       "       [0.46469653],\n",
       "       [0.45496646],\n",
       "       [0.4391362 ],\n",
       "       [0.4271578 ],\n",
       "       [0.48910385],\n",
       "       [0.4874577 ],\n",
       "       [0.47885963],\n",
       "       [0.47351724],\n",
       "       [0.44384384],\n",
       "       [0.43277723],\n",
       "       [0.4249907 ],\n",
       "       [0.41065   ],\n",
       "       [0.45779762],\n",
       "       [0.44973522],\n",
       "       [0.41595656],\n",
       "       [0.38480538],\n",
       "       [0.3803273 ],\n",
       "       [0.3675175 ],\n",
       "       [0.3784926 ],\n",
       "       [0.37159058],\n",
       "       [0.35719767],\n",
       "       [0.3758167 ],\n",
       "       [0.3573609 ],\n",
       "       [0.34708115],\n",
       "       [0.34733784],\n",
       "       [0.36969173],\n",
       "       [0.38753885],\n",
       "       [0.3594921 ],\n",
       "       [0.3436851 ],\n",
       "       [0.36110735],\n",
       "       [0.34424058],\n",
       "       [0.36913517],\n",
       "       [0.39644933],\n",
       "       [0.3911754 ],\n",
       "       [0.39783484],\n",
       "       [0.40368056],\n",
       "       [0.3856805 ],\n",
       "       [0.42446405],\n",
       "       [0.46653032],\n",
       "       [0.47013277],\n",
       "       [0.4416055 ],\n",
       "       [0.43948847],\n",
       "       [0.45432097],\n",
       "       [0.4615594 ],\n",
       "       [0.451932  ],\n",
       "       [0.46862006],\n",
       "       [0.54197437],\n",
       "       [0.52630997],\n",
       "       [0.5085906 ],\n",
       "       [0.50032604],\n",
       "       [0.49311453],\n",
       "       [0.48414174],\n",
       "       [0.44253698],\n",
       "       [0.42740723],\n",
       "       [0.4324995 ],\n",
       "       [0.44026637],\n",
       "       [0.4443146 ],\n",
       "       [0.43305233],\n",
       "       [0.41139296],\n",
       "       [0.39672568],\n",
       "       [0.40261066],\n",
       "       [0.38236895],\n",
       "       [0.38354033],\n",
       "       [0.3828438 ],\n",
       "       [0.382631  ],\n",
       "       [0.38278845],\n",
       "       [0.40393767],\n",
       "       [0.4189746 ],\n",
       "       [0.42572555],\n",
       "       [0.41573137],\n",
       "       [0.41465622],\n",
       "       [0.40054327],\n",
       "       [0.3821974 ],\n",
       "       [0.40605685],\n",
       "       [0.41992414],\n",
       "       [0.44650814],\n",
       "       [0.48820806],\n",
       "       [0.4868726 ],\n",
       "       [0.48557517],\n",
       "       [0.51467454],\n",
       "       [0.5300416 ],\n",
       "       [0.5334634 ],\n",
       "       [0.53004044],\n",
       "       [0.5095279 ],\n",
       "       [0.505659  ],\n",
       "       [0.4953094 ]], dtype=float32)"
      ]
     },
     "execution_count": 23,
     "metadata": {},
     "output_type": "execute_result"
    }
   ],
   "source": [
    "RNN_pred"
   ]
  },
  {
   "cell_type": "code",
   "execution_count": 16,
   "metadata": {},
   "outputs": [
    {
     "name": "stdout",
     "output_type": "stream",
     "text": [
      "Model: \"sequential_1\"\n",
      "_________________________________________________________________\n",
      "Layer (type)                 Output Shape              Param #   \n",
      "=================================================================\n",
      "simple_rnn_1 (SimpleRNN)     (None, 20, 50)            2600      \n",
      "_________________________________________________________________\n",
      "simple_rnn_2 (SimpleRNN)     (None, 20, 50)            5050      \n",
      "_________________________________________________________________\n",
      "simple_rnn_3 (SimpleRNN)     (None, 50)                5050      \n",
      "_________________________________________________________________\n",
      "dense (Dense)                (None, 1)                 51        \n",
      "=================================================================\n",
      "Total params: 12,751\n",
      "Trainable params: 12,751\n",
      "Non-trainable params: 0\n",
      "_________________________________________________________________\n"
     ]
    }
   ],
   "source": [
    "RNN.summary()"
   ]
  },
  {
   "cell_type": "markdown",
   "metadata": {},
   "source": [
    "#### Advantages of RNNs:\n",
    "\n",
    "- Handle sequential data effectively, including text, speech, and time series.\n",
    "- Process inputs of any length, unlike feedforward neural networks.\n",
    "- Share weights across time steps, enhancing training efficiency.\n",
    "\n",
    "#### Disadvantages of RNNs:\n",
    "\n",
    "- Prone to vanishing and exploding gradient problems, hindering learning.\n",
    "- Training can be challenging, especially for long sequences.\n",
    "- Computationally slower than other neural network architectures.\n",
    "\n",
    "For more details, please look at a short overview: https://www.analyticsvidhya.com/blog/2022/03/a-brief-overview-of-recurrent-neural-networks-rnn/"
   ]
  },
  {
   "cell_type": "markdown",
   "metadata": {},
   "source": [
    "## Long Short-term Memory\n",
    "\n",
    "Long short-term memory (LSTM) network is a recurrent neural network (RNN), aimed to deal with the vanishing gradient problem present in traditional RNNs. However, it still suffers exploding gradient problem.\n",
    "\n",
    "The intuition behind the LSTM architecture is to create an additional module in a neural network that learns when to remember and when to forget pertinent information. In other words, the network effectively learns which information might be needed later on in a sequence and when that information is no longer needed.\n",
    "\n",
    "LSTM architecture:\n",
    "\n",
    "![](https://dezyre.gumlet.io/images/blog/lstm-model/The_Architecture_of_the_LSTM_Model.png?w=940&dpr=2.0)\n",
    "\n",
    "*Image from Projectpro*\n",
    "\n",
    "\n",
    "For more details, please check this [page](https://www.projectpro.io/article/lstm-model/832).\n",
    "\n",
    "\n",
    "\n",
    "\n"
   ]
  },
  {
   "cell_type": "markdown",
   "metadata": {},
   "source": [
    "To build LSTM layer, we use command\n",
    "\n",
    "    tf.keras.layers.LSTM(\n",
    "        units,\n",
    "        activation='tanh',\n",
    "        recurrent_activation='sigmoid',\n",
    "        use_bias=True,\n",
    "        kernel_initializer='glorot_uniform',\n",
    "        recurrent_initializer='orthogonal',\n",
    "        bias_initializer='zeros',\n",
    "        unit_forget_bias=True,\n",
    "        kernel_regularizer=None,\n",
    "        recurrent_regularizer=None,\n",
    "        bias_regularizer=None,\n",
    "        activity_regularizer=None,\n",
    "        kernel_constraint=None,\n",
    "        recurrent_constraint=None,\n",
    "        bias_constraint=None,\n",
    "        dropout=0.0,\n",
    "        recurrent_dropout=0.0,\n",
    "        return_sequences=False,\n",
    "        return_state=False,\n",
    "        go_backwards=False,\n",
    "        stateful=False,\n",
    "        time_major=False,\n",
    "        unroll=False,\n",
    "        **kwargs\n",
    "    )"
   ]
  },
  {
   "cell_type": "code",
   "execution_count": 17,
   "metadata": {},
   "outputs": [
    {
     "name": "stdout",
     "output_type": "stream",
     "text": [
      "Epoch 1/10\n",
      "584/584 [==============================] - 4s 5ms/step - loss: 0.0075 - mse: 0.0075\n",
      "Epoch 2/10\n",
      "584/584 [==============================] - 3s 5ms/step - loss: 0.0023 - mse: 0.0023\n",
      "Epoch 3/10\n",
      "584/584 [==============================] - 3s 5ms/step - loss: 0.0020 - mse: 0.0020\n",
      "Epoch 4/10\n",
      "584/584 [==============================] - 3s 5ms/step - loss: 0.0019 - mse: 0.0019\n",
      "Epoch 5/10\n",
      "584/584 [==============================] - 3s 5ms/step - loss: 0.0014 - mse: 0.0014\n",
      "Epoch 6/10\n",
      "584/584 [==============================] - 3s 5ms/step - loss: 0.0014 - mse: 0.0014\n",
      "Epoch 7/10\n",
      "584/584 [==============================] - 3s 5ms/step - loss: 0.0010 - mse: 0.0010   \n",
      "Epoch 8/10\n",
      "584/584 [==============================] - 3s 5ms/step - loss: 0.0011 - mse: 0.0011\n",
      "Epoch 9/10\n",
      "584/584 [==============================] - 3s 5ms/step - loss: 9.6848e-04 - mse: 9.6848e-04\n",
      "Epoch 10/10\n",
      "584/584 [==============================] - 4s 6ms/step - loss: 9.4864e-04 - mse: 9.4864e-04\n"
     ]
    },
    {
     "data": {
      "text/plain": [
       "<tensorflow.python.keras.callbacks.History at 0x7fd440efdf10>"
      ]
     },
     "execution_count": 17,
     "metadata": {},
     "output_type": "execute_result"
    }
   ],
   "source": [
    "LSTM_model = tf.keras.models.Sequential([\n",
    "    \n",
    "    tf.keras.layers.LSTM(50, return_sequences=True, input_shape = (X_train.shape[1],1)),\n",
    "    \n",
    "    tf.keras.layers.LSTM(50),\n",
    "    \n",
    "    tf.keras.layers.Dense(1)  \n",
    "])\n",
    "\n",
    "LSTM_model.compile(optimizer='adam', loss='mean_squared_error', metrics=[\"mse\"])\n",
    "LSTM_model.fit(X_train, y_train, epochs = 10, batch_size = 1)"
   ]
  },
  {
   "cell_type": "code",
   "execution_count": 18,
   "metadata": {},
   "outputs": [
    {
     "name": "stdout",
     "output_type": "stream",
     "text": [
      "5/5 [==============================] - 0s 3ms/step - loss: 6.1648e-04 - mse: 6.1648e-04\n"
     ]
    },
    {
     "data": {
      "text/plain": [
       "[0.0006164803053252399, 0.0006164803053252399]"
      ]
     },
     "execution_count": 18,
     "metadata": {},
     "output_type": "execute_result"
    }
   ],
   "source": [
    "LSTM_model.evaluate(X_test,y_test)"
   ]
  },
  {
   "cell_type": "code",
   "execution_count": 19,
   "metadata": {},
   "outputs": [
    {
     "data": {
      "text/plain": [
       "0.0006164802820332385"
      ]
     },
     "execution_count": 19,
     "metadata": {},
     "output_type": "execute_result"
    }
   ],
   "source": [
    "LSTM_pred = LSTM_model.predict(X_test)\n",
    "np.mean((LSTM_pred-y_test)**2)"
   ]
  },
  {
   "cell_type": "code",
   "execution_count": 24,
   "metadata": {},
   "outputs": [
    {
     "data": {
      "text/plain": [
       "array([[0.49551788],\n",
       "       [0.47383136],\n",
       "       [0.47106907],\n",
       "       [0.4603982 ],\n",
       "       [0.46566522],\n",
       "       [0.45569837],\n",
       "       [0.45794734],\n",
       "       [0.4480574 ],\n",
       "       [0.44154757],\n",
       "       [0.46522644],\n",
       "       [0.4710193 ],\n",
       "       [0.47711247],\n",
       "       [0.47253385],\n",
       "       [0.46379295],\n",
       "       [0.44948092],\n",
       "       [0.44369283],\n",
       "       [0.4278626 ],\n",
       "       [0.45581254],\n",
       "       [0.4610589 ],\n",
       "       [0.49136016],\n",
       "       [0.48005375],\n",
       "       [0.4725893 ],\n",
       "       [0.45489395],\n",
       "       [0.47673362],\n",
       "       [0.49530515],\n",
       "       [0.4546    ],\n",
       "       [0.4241311 ],\n",
       "       [0.39981145],\n",
       "       [0.41389236],\n",
       "       [0.42281565],\n",
       "       [0.39521018],\n",
       "       [0.35226882],\n",
       "       [0.32929987],\n",
       "       [0.3337131 ],\n",
       "       [0.34827387],\n",
       "       [0.35197324],\n",
       "       [0.37625903],\n",
       "       [0.4028419 ],\n",
       "       [0.41477808],\n",
       "       [0.43838823],\n",
       "       [0.444408  ],\n",
       "       [0.4379512 ],\n",
       "       [0.44709823],\n",
       "       [0.4413849 ],\n",
       "       [0.42947638],\n",
       "       [0.43341205],\n",
       "       [0.44469517],\n",
       "       [0.44128308],\n",
       "       [0.43010762],\n",
       "       [0.41961968],\n",
       "       [0.45938268],\n",
       "       [0.46353695],\n",
       "       [0.46430588],\n",
       "       [0.46309602],\n",
       "       [0.4420649 ],\n",
       "       [0.42669654],\n",
       "       [0.4113564 ],\n",
       "       [0.39951104],\n",
       "       [0.43036857],\n",
       "       [0.427488  ],\n",
       "       [0.40944925],\n",
       "       [0.38566273],\n",
       "       [0.37330103],\n",
       "       [0.35591286],\n",
       "       [0.35538763],\n",
       "       [0.3507747 ],\n",
       "       [0.34191555],\n",
       "       [0.34846345],\n",
       "       [0.3405451 ],\n",
       "       [0.33356968],\n",
       "       [0.33268967],\n",
       "       [0.34907833],\n",
       "       [0.3618554 ],\n",
       "       [0.34770775],\n",
       "       [0.33515036],\n",
       "       [0.33997682],\n",
       "       [0.32864124],\n",
       "       [0.34289777],\n",
       "       [0.36571047],\n",
       "       [0.37134513],\n",
       "       [0.3794767 ],\n",
       "       [0.38292757],\n",
       "       [0.37432784],\n",
       "       [0.39901546],\n",
       "       [0.43075377],\n",
       "       [0.44388464],\n",
       "       [0.4289399 ],\n",
       "       [0.4277341 ],\n",
       "       [0.434309  ],\n",
       "       [0.438983  ],\n",
       "       [0.43666628],\n",
       "       [0.4484839 ],\n",
       "       [0.5046951 ],\n",
       "       [0.5058205 ],\n",
       "       [0.49730092],\n",
       "       [0.49949232],\n",
       "       [0.49269354],\n",
       "       [0.4756748 ],\n",
       "       [0.438148  ],\n",
       "       [0.4206891 ],\n",
       "       [0.41511515],\n",
       "       [0.41536248],\n",
       "       [0.4222718 ],\n",
       "       [0.4215321 ],\n",
       "       [0.4076477 ],\n",
       "       [0.3925134 ],\n",
       "       [0.38812092],\n",
       "       [0.37098488],\n",
       "       [0.36634654],\n",
       "       [0.36200976],\n",
       "       [0.36448592],\n",
       "       [0.36370054],\n",
       "       [0.3811007 ],\n",
       "       [0.39915335],\n",
       "       [0.4118636 ],\n",
       "       [0.40950972],\n",
       "       [0.40637162],\n",
       "       [0.3923922 ],\n",
       "       [0.3729721 ],\n",
       "       [0.3819866 ],\n",
       "       [0.39264706],\n",
       "       [0.41714293],\n",
       "       [0.45523623],\n",
       "       [0.4682581 ],\n",
       "       [0.47769296],\n",
       "       [0.50163364],\n",
       "       [0.5159531 ],\n",
       "       [0.518935  ],\n",
       "       [0.5162575 ],\n",
       "       [0.49937093],\n",
       "       [0.49292684],\n",
       "       [0.4827927 ]], dtype=float32)"
      ]
     },
     "execution_count": 24,
     "metadata": {},
     "output_type": "execute_result"
    }
   ],
   "source": [
    "LSTM_pred"
   ]
  },
  {
   "cell_type": "code",
   "execution_count": 20,
   "metadata": {},
   "outputs": [
    {
     "name": "stdout",
     "output_type": "stream",
     "text": [
      "Model: \"sequential_2\"\n",
      "_________________________________________________________________\n",
      "Layer (type)                 Output Shape              Param #   \n",
      "=================================================================\n",
      "lstm (LSTM)                  (None, 20, 50)            10400     \n",
      "_________________________________________________________________\n",
      "lstm_1 (LSTM)                (None, 50)                20200     \n",
      "_________________________________________________________________\n",
      "dense_1 (Dense)              (None, 1)                 51        \n",
      "=================================================================\n",
      "Total params: 30,651\n",
      "Trainable params: 30,651\n",
      "Non-trainable params: 0\n",
      "_________________________________________________________________\n"
     ]
    }
   ],
   "source": [
    "LSTM_model.summary()"
   ]
  },
  {
   "cell_type": "markdown",
   "metadata": {},
   "source": [
    "## Visualization\n",
    "\n",
    "I want to draw three curves in one single plot which contains true time series data, predictions obtained from simple RNN and LSTM.\n",
    "\n",
    "We first need to transform predcitions back to original scale."
   ]
  },
  {
   "cell_type": "code",
   "execution_count": 21,
   "metadata": {},
   "outputs": [
    {
     "data": {
      "image/png": "[encoded data removed]",
      "text/plain": [
       "<Figure size 432x288 with 1 Axes>"
      ]
     },
     "metadata": {
      "needs_background": "light"
     },
     "output_type": "display_data"
    }
   ],
   "source": [
    "# Inverse minmax transform:\n",
    "\n",
    "# true training and test time series data\n",
    "true_train = scalar.inverse_transform(y_train)\n",
    "true_test = scalar.inverse_transform(y_test)\n",
    "true = np.vstack((true_train,true_test))\n",
    "\n",
    "# prediction obtained from RNN and LSTM\n",
    "RNN_vis = scalar.inverse_transform(RNN_pred)\n",
    "LSTM_vis = scalar.inverse_transform(LSTM_pred)\n",
    "\n",
    "# parameters for plotting:\n",
    "m_train = np.size(true_train)\n",
    "m_test = np.size(true_test)\n",
    "\n",
    "# visualization\n",
    "plt.plot(range(m_train+m_test), true, 'b-', label='true value')\n",
    "plt.plot(range(m_train, m_train+m_test), RNN_vis, label='RNN')\n",
    "plt.plot(range(m_train, m_train+m_test), LSTM_vis, label='LSTM')\n",
    "plt.legend()\n",
    "plt.show()"
   ]
  }
 ],
 "metadata": {
  "kernelspec": {
   "display_name": "Python 3 (ipykernel)",
   "language": "python",
   "name": "python3"
  },
  "language_info": {
   "codemirror_mode": {
    "name": "ipython",
    "version": 3
   },
   "file_extension": ".py",
   "mimetype": "text/x-python",
   "name": "python",
   "nbconvert_exporter": "python",
   "pygments_lexer": "ipython3",
   "version": "3.8.18"
  }
 },
 "nbformat": 4,
 "nbformat_minor": 4
}
