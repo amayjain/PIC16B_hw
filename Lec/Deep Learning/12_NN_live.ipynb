{
 "cells": [
  {
   "cell_type": "markdown",
   "metadata": {},
   "source": [
    "# Neural Network\n",
    "\n",
    "Starting from this lecture, we will discuss neural network which is one of the most popular models. \n",
    "\n",
    "We have learned machine learning. You may have heard deep learning. **Deep Learning** is a subset of Machine Learning. Learning problems using deep neural network is called deep learning."
   ]
  },
  {
   "cell_type": "markdown",
   "metadata": {},
   "source": [
    "## Fully Connected Neural Networks\n",
    "\n",
    "Fully connected neural looks like\n",
    "\n",
    "![](https://deeplearningmath.org/images/Fully_connected_NN.png)\n",
    "\n",
    "\n",
    "We have\n",
    "\n",
    "- `input layer`: the first layer\n",
    "\n",
    "- `output layer`: the last layer\n",
    "\n",
    "- `hidden layer`: layers between input layer and output layer\n",
    "\n",
    "- `neuron`: each circle in above plots\n",
    "\n",
    "- `weights`: neurons are connected and represented by edges, on each edge we have weights\n",
    "\n",
    "- `bias`: on each neuron, we do some operations and bias will be added\n",
    "\n",
    "- `width`: number of neurons on each (hidden) layer\n",
    "\n",
    "- `depth`: number of hidden layers (maybe different in other places)\n",
    "\n",
    "**Shallow neural network:** depth is 1\n",
    "\n",
    "**Deep neural network:** depth is larger than 1\n",
    "\n",
    "\n",
    "Mathematically, we can treat neural network as a multivariate function. Given some inputs at the first layer, we do some operations and obtain some outputs."
   ]
  },
  {
   "cell_type": "markdown",
   "metadata": {},
   "source": [
    "## Operations between neurons and layers: Forward propogation\n",
    "\n",
    "In class."
   ]
  },
  {
   "cell_type": "markdown",
   "metadata": {},
   "source": [
    "# Training neural network: backward propogation\n",
    "\n",
    "In short, training neural network is equivalent to finding weights and bias by solving an optimization problem. We expect to find \"best\" weights and bias such that your obtained Neural Network fits the training data well.\n",
    "\n",
    "## Mathematics:\n",
    "\n",
    "Let $f_{NN}(x)$ represents a neural network, then $f_{NN}(x_i)$ will be the predicted value corresponding to the $i$-th input $x_i$ and approximates $y_i$. We want to find $f_{NN}$, which is parametrized by weights $W$ and bias $b$, such that $f_{NN}(x_i)$ is close to $y_i$. \n",
    "\n",
    "Now we need to solve the following optimization problem:\n",
    "\n",
    "$$ \\mathop{\\mathrm{minimize}}_{W,b} \\sum_{i=1}^{N} loss(y_i, f_{NN}(x_i)) $$\n",
    "\n",
    "### Loss function\n",
    "\n",
    "Usually, we use loss function to characterize the difference between true label and its approximation. We expect the loss is as small as possible.\n",
    "\n",
    "Regression: \n",
    "- `square loss`:  $loss(y,\\hat{y}) = (y-\\hat{y})^2$\n",
    "\n",
    "Classification:\n",
    "- $ loss(y, \\hat{y}) =  \\begin{cases} 1 \\mbox{ if } y\\neq \\hat{y} \\\\ 0 \\mbox{ if } y = \\hat{y} \\end{cases}$\n",
    "\n",
    "- `hinge loss`: $ loss(y, \\hat{y}) = \\max\\{0, 1-y\\hat{y}\\} $\n",
    "- `cross entropy`: $ loss(y, \\hat{y}) = y\\log(\\hat{y}) + (1-y)\\log(1-\\hat{y}) $\n",
    "\n",
    "## Algorithm: SGD\n",
    "\n",
    "We still use SGD to solve above optimization problem. However, computations are really complicated here since it is hard to compute(approximate) gradient (compared with regression problem).\n",
    "\n",
    "Computing gradient is based on chain rule. If you are interested in the analytic computation, please read the following notes:\n",
    "\n",
    "1. https://www.inf.ed.ac.uk/teaching/courses/mlpr/2017/notes/w5a_backprop.pdf\n",
    "2. https://deeplearning.cs.cmu.edu/S22/document/slides/lec5.pdf\n",
    "\n",
    "I do not expect that you understand all the details and write your own SGD. We will use python to train neural network.\n",
    "\n"
   ]
  },
  {
   "cell_type": "markdown",
   "metadata": {
    "jp-MarkdownHeadingCollapsed": true
   },
   "source": [
    "## Python libraries: Tensorflow vs pytorch\n",
    "\n",
    "Tensorflow and PyTorch are two libraries for implementing neural network. We will discuss tensorflow during the lecture and your TA will help you understand PyTorch.\n",
    "\n",
    "The question I always receive is:  which library I should use/learn? What is the difference?\n",
    "\n",
    "Here is one comparison I find online: https://www.assemblyai.com/blog/pytorch-vs-tensorflow-in-2023/\n",
    "\n",
    "My personal answer is the following: \n",
    "1. It is better to learn tensorflow first and then learn PyTorch because it is easy to call commands from tensorflow. Using PyTorch requires strong programming background and better understanding on Theory. \n",
    "\n",
    "2. However, PyTorch is more popular recently. Many researchers and companies are using PyTorch, which means that you can find more resources and well trained models.\n",
    "\n",
    "3. Tensorflow is not compatible. Some commands supported in Tensorflow 1 are not available in Tensorflow 2. This means that if you are comfortable with Tensorflow 1, you still need to relearn Tensorflow 2. \n",
    "\n",
    "4. PyTorch is more flexible. Since writing PyTorch code is not simply calling commands, you have the freedom to write your own code and report what your want. For example, it is easy to report loss after each iteration (this is not a hard task in Theory) if you use PyTorch, but this is not easy to get if you use Tensorflow. "
   ]
  },
  {
   "cell_type": "markdown",
   "metadata": {},
   "source": [
    "# Applications: Iris Classification"
   ]
  },
  {
   "cell_type": "code",
   "execution_count": 1,
   "metadata": {},
   "outputs": [
    {
     "name": "stderr",
     "output_type": "stream",
     "text": [
      "2024-05-08 13:46:25.266057: I tensorflow/core/platform/cpu_feature_guard.cc:193] This TensorFlow binary is optimized with oneAPI Deep Neural Network Library (oneDNN) to use the following CPU instructions in performance-critical operations:  SSE4.1 SSE4.2\n",
      "To enable them in other operations, rebuild TensorFlow with the appropriate compiler flags.\n",
      "IOStream.flush timed out\n"
     ]
    }
   ],
   "source": [
    "import tensorflow as tf\n",
    "from tensorflow.keras import layers"
   ]
  },
  {
   "cell_type": "code",
   "execution_count": 2,
   "metadata": {},
   "outputs": [],
   "source": [
    "# import packages\n",
    "import pandas as pd\n",
    "import numpy as np\n",
    "import matplotlib.pyplot as plt\n",
    "from sklearn.datasets import load_iris\n",
    "from sklearn.model_selection import train_test_split\n",
    "\n",
    "# read data\n",
    "data = load_iris()\n",
    "X = data.data\n",
    "y = data.target\n",
    "target = data.target_names\n",
    "\n",
    "# train-test split\n",
    "X_train, X_test, y_train, y_test = train_test_split(X, y, test_size = 0.2)"
   ]
  },
  {
   "cell_type": "code",
   "execution_count": null,
   "metadata": {},
   "outputs": [],
   "source": [
    "# data preprocessing\n",
    "\n",
    "# if you process X_train, must also process X_test"
   ]
  },
  {
   "cell_type": "code",
   "execution_count": 17,
   "metadata": {},
   "outputs": [
    {
     "data": {
      "text/plain": [
       "<matplotlib.collections.PathCollection at 0x7f9b10361700>"
      ]
     },
     "execution_count": 17,
     "metadata": {},
     "output_type": "execute_result"
    },
    {
     "data": {
      "image/png": "[encoded data removed]",
      "text/plain": [
       "<Figure size 640x480 with 1 Axes>"
      ]
     },
     "metadata": {},
     "output_type": "display_data"
    }
   ],
   "source": [
    "plt.scatter(X_train[:, 0], y_train)"
   ]
  },
  {
   "cell_type": "code",
   "execution_count": 32,
   "metadata": {},
   "outputs": [
    {
     "name": "stdout",
     "output_type": "stream",
     "text": [
      "Model: \"sequential_3\"\n",
      "_________________________________________________________________\n",
      " Layer (type)                Output Shape              Param #   \n",
      "=================================================================\n",
      " dense_12 (Dense)            (None, 20)                100       \n",
      "                                                                 \n",
      " dense_13 (Dense)            (None, 10)                210       \n",
      "                                                                 \n",
      " dense_14 (Dense)            (None, 3)                 33        \n",
      "                                                                 \n",
      "=================================================================\n",
      "Total params: 343\n",
      "Trainable params: 343\n",
      "Non-trainable params: 0\n",
      "_________________________________________________________________\n"
     ]
    }
   ],
   "source": [
    "# construct the model\n",
    "\n",
    "model = tf.keras.models.Sequential(\n",
    "    \n",
    "    [\n",
    "\n",
    "        # first hidden layer\n",
    "        layers.Dense(20, input_shape = (4, ), activation = \"relu\", kernel_initializer = \"he_normal\"), # 20 neurons, 4 features\n",
    "    \n",
    "        # second hidden layer\n",
    "        layers.Dense(10, activation = \"relu\", kernel_initializer = \"he_normal\"), # 10 neurons\n",
    "    \n",
    "        # output\n",
    "        layers.Dense(3) # 3 different categories (3 neurons)\n",
    "    \n",
    "    ]\n",
    ")\n",
    "\n",
    "\n",
    "model.summary()"
   ]
  },
  {
   "cell_type": "markdown",
   "metadata": {},
   "source": [
    "Let's take a look at the `layers.Dense` command:\n",
    "\n",
    "tf.keras.layers.Dense(\n",
    "\n",
    "    units,                                # number of neurons in this layer           \n",
    "    activation=None,                      # use relu\n",
    "    use_bias=True,                        # set it to false if you do not want to include bias term\n",
    "    kernel_initializer='glorot_uniform',  # initialization of weights\n",
    "    bias_initializer='zeros',             # initialization of bias\n",
    "    kernel_regularizer=None,              # regularization on weights\n",
    "    bias_regularizer=None,                # regularization on bias\n",
    "    activity_regularizer=None,            # regularization on the output layer\n",
    "    kernel_constraint=None,               # constraints on weights\n",
    "    bias_constraint=None,                 # constraints on bias\n",
    "    **kwargs\n",
    ")\n",
    "\n",
    "Comments:\n",
    "\n",
    "- Usually, if your activation function is sigmoid, it is better to use 'glorot_uniform' or 'glorot_normal' initializer\n",
    "\n",
    "- it is better to use 'he_uniform' or 'he_normal' if you use ReLU activation function and its variations \n",
    "\n",
    "- and it is better to use \"lecun_normal\" if the activation function is (S)ELU.\n",
    "\n",
    "- Regularization is one way to overcome overfitting. Possible choices are `tf.keras.regularizers.L1(alpha)` and `tf.keras.regularizers.L2(alpha)`, where $\\alpha$ is a positive number. "
   ]
  },
  {
   "cell_type": "code",
   "execution_count": 33,
   "metadata": {},
   "outputs": [],
   "source": [
    "# loss function\n",
    "\n",
    "loss_fn = tf.keras.losses.SparseCategoricalCrossentropy(from_logits = True)\n",
    "\n",
    "# compile model\n",
    "\n",
    "model.compile(optimizer = \"adam\", loss = loss_fn, metrics = [\"accuracy\"])\n"
   ]
  },
  {
   "cell_type": "markdown",
   "metadata": {},
   "source": [
    "Why do we set `from_logits=True`? We will answer this question later.\n",
    "\n",
    "## Loss functions: \n",
    "\n",
    "Here is the official link for loss functions https://www.tensorflow.org/api_docs/python/tf/keras/losses\n",
    "\n",
    "We only list some of them:\n",
    "\n",
    "- BinaryCrossentropy: Computes the cross-entropy loss between true labels and predicted labels if you have two classes.\n",
    "\n",
    "\n",
    "- Hinge: Computes the hinge loss between y_true & y_pred. y_true values are expected to be -1 or 1. If binary (0 or 1) labels are provided we will convert them to -1 or 1.\n",
    "\n",
    "\n",
    "- SparseCategoricalCrossentropy: Computes the crossentropy loss between the labels and predictions. More than two classes.\n",
    "\n",
    "\n",
    "- MeanSquaredError: Computes the mean of squares of errors between labels and predictions. Commonly used for regression problem \n"
   ]
  },
  {
   "cell_type": "markdown",
   "metadata": {},
   "source": [
    "## Optimizer:\n",
    "\n",
    "Let's use Adam which is one variantion of SGD algorithm. More options will be given in your discussion worksheet."
   ]
  },
  {
   "cell_type": "code",
   "execution_count": 34,
   "metadata": {},
   "outputs": [
    {
     "name": "stdout",
     "output_type": "stream",
     "text": [
      "Epoch 1/50\n",
      "6/6 [==============================] - 0s 1ms/step - loss: 2.7661 - accuracy: 0.4583\n",
      "Epoch 2/50\n",
      "6/6 [==============================] - 0s 1ms/step - loss: 2.4634 - accuracy: 0.6167\n",
      "Epoch 3/50\n",
      "6/6 [==============================] - 0s 1ms/step - loss: 2.2030 - accuracy: 0.6250\n",
      "Epoch 4/50\n",
      "6/6 [==============================] - 0s 1ms/step - loss: 1.9492 - accuracy: 0.5583\n",
      "Epoch 5/50\n",
      "6/6 [==============================] - 0s 870us/step - loss: 1.6802 - accuracy: 0.5917\n",
      "Epoch 6/50\n",
      "6/6 [==============================] - 0s 1ms/step - loss: 1.4552 - accuracy: 0.6583\n",
      "Epoch 7/50\n",
      "6/6 [==============================] - 0s 895us/step - loss: 1.2558 - accuracy: 0.6667\n",
      "Epoch 8/50\n",
      "6/6 [==============================] - 0s 1ms/step - loss: 1.0800 - accuracy: 0.6750\n",
      "Epoch 9/50\n",
      "6/6 [==============================] - 0s 907us/step - loss: 0.9132 - accuracy: 0.6750\n",
      "Epoch 10/50\n",
      "6/6 [==============================] - 0s 1ms/step - loss: 0.8046 - accuracy: 0.6750\n",
      "Epoch 11/50\n",
      "6/6 [==============================] - 0s 1ms/step - loss: 0.6883 - accuracy: 0.6917\n",
      "Epoch 12/50\n",
      "6/6 [==============================] - 0s 930us/step - loss: 0.6196 - accuracy: 0.7167\n",
      "Epoch 13/50\n",
      "6/6 [==============================] - 0s 903us/step - loss: 0.5766 - accuracy: 0.8250\n",
      "Epoch 14/50\n",
      "6/6 [==============================] - 0s 1ms/step - loss: 0.5470 - accuracy: 0.8083\n",
      "Epoch 15/50\n",
      "6/6 [==============================] - 0s 964us/step - loss: 0.5228 - accuracy: 0.8333\n",
      "Epoch 16/50\n",
      "6/6 [==============================] - 0s 1ms/step - loss: 0.5043 - accuracy: 0.8250\n",
      "Epoch 17/50\n",
      "6/6 [==============================] - 0s 1ms/step - loss: 0.4903 - accuracy: 0.8250\n",
      "Epoch 18/50\n",
      "6/6 [==============================] - 0s 1ms/step - loss: 0.4762 - accuracy: 0.8333\n",
      "Epoch 19/50\n",
      "6/6 [==============================] - 0s 1ms/step - loss: 0.4644 - accuracy: 0.8250\n",
      "Epoch 20/50\n",
      "6/6 [==============================] - 0s 1ms/step - loss: 0.4532 - accuracy: 0.8417\n",
      "Epoch 21/50\n",
      "6/6 [==============================] - 0s 1ms/step - loss: 0.4414 - accuracy: 0.8417\n",
      "Epoch 22/50\n",
      "6/6 [==============================] - 0s 1ms/step - loss: 0.4330 - accuracy: 0.8500\n",
      "Epoch 23/50\n",
      "6/6 [==============================] - 0s 1ms/step - loss: 0.4237 - accuracy: 0.8417\n",
      "Epoch 24/50\n",
      "6/6 [==============================] - 0s 1ms/step - loss: 0.4171 - accuracy: 0.8500\n",
      "Epoch 25/50\n",
      "6/6 [==============================] - 0s 1ms/step - loss: 0.4094 - accuracy: 0.8583\n",
      "Epoch 26/50\n",
      "6/6 [==============================] - 0s 5ms/step - loss: 0.4012 - accuracy: 0.8500\n",
      "Epoch 27/50\n",
      "6/6 [==============================] - 0s 6ms/step - loss: 0.3960 - accuracy: 0.8500\n",
      "Epoch 28/50\n",
      "6/6 [==============================] - 0s 3ms/step - loss: 0.3882 - accuracy: 0.8667\n",
      "Epoch 29/50\n",
      "6/6 [==============================] - 0s 1ms/step - loss: 0.3815 - accuracy: 0.8500\n",
      "Epoch 30/50\n",
      "6/6 [==============================] - 0s 1ms/step - loss: 0.3748 - accuracy: 0.8667\n",
      "Epoch 31/50\n",
      "6/6 [==============================] - 0s 970us/step - loss: 0.3720 - accuracy: 0.8667\n",
      "Epoch 32/50\n",
      "6/6 [==============================] - 0s 1ms/step - loss: 0.3628 - accuracy: 0.8667\n",
      "Epoch 33/50\n",
      "6/6 [==============================] - 0s 993us/step - loss: 0.3562 - accuracy: 0.8833\n",
      "Epoch 34/50\n",
      "6/6 [==============================] - 0s 955us/step - loss: 0.3518 - accuracy: 0.9000\n",
      "Epoch 35/50\n",
      "6/6 [==============================] - 0s 939us/step - loss: 0.3453 - accuracy: 0.9250\n",
      "Epoch 36/50\n",
      "6/6 [==============================] - 0s 1ms/step - loss: 0.3390 - accuracy: 0.9083\n",
      "Epoch 37/50\n",
      "6/6 [==============================] - 0s 971us/step - loss: 0.3343 - accuracy: 0.9083\n",
      "Epoch 38/50\n",
      "6/6 [==============================] - 0s 1ms/step - loss: 0.3282 - accuracy: 0.9250\n",
      "Epoch 39/50\n",
      "6/6 [==============================] - 0s 992us/step - loss: 0.3225 - accuracy: 0.9500\n",
      "Epoch 40/50\n",
      "6/6 [==============================] - 0s 1ms/step - loss: 0.3164 - accuracy: 0.9417\n",
      "Epoch 41/50\n",
      "6/6 [==============================] - 0s 1ms/step - loss: 0.3110 - accuracy: 0.9417\n",
      "Epoch 42/50\n",
      "6/6 [==============================] - 0s 1ms/step - loss: 0.3055 - accuracy: 0.9583\n",
      "Epoch 43/50\n",
      "6/6 [==============================] - 0s 1ms/step - loss: 0.2999 - accuracy: 0.9583\n",
      "Epoch 44/50\n",
      "6/6 [==============================] - 0s 1ms/step - loss: 0.2943 - accuracy: 0.9500\n",
      "Epoch 45/50\n",
      "6/6 [==============================] - 0s 1ms/step - loss: 0.2902 - accuracy: 0.9500\n",
      "Epoch 46/50\n",
      "6/6 [==============================] - 0s 1ms/step - loss: 0.2874 - accuracy: 0.9583\n",
      "Epoch 47/50\n",
      "6/6 [==============================] - 0s 1ms/step - loss: 0.2799 - accuracy: 0.9667\n",
      "Epoch 48/50\n",
      "6/6 [==============================] - 0s 1ms/step - loss: 0.2746 - accuracy: 0.9667\n",
      "Epoch 49/50\n",
      "6/6 [==============================] - 0s 1ms/step - loss: 0.2710 - accuracy: 0.9667\n",
      "Epoch 50/50\n",
      "6/6 [==============================] - 0s 2ms/step - loss: 0.2656 - accuracy: 0.9667\n"
     ]
    },
    {
     "data": {
      "text/plain": [
       "<keras.callbacks.History at 0x7f9b18a3f940>"
      ]
     },
     "execution_count": 34,
     "metadata": {},
     "output_type": "execute_result"
    }
   ],
   "source": [
    "# train the model\n",
    "\n",
    "history = model.fit(X_train, y_train, epochs = 50, batch_size = 20)\n",
    "\n",
    "history"
   ]
  },
  {
   "cell_type": "markdown",
   "metadata": {},
   "source": [
    "- Epoch: optimization algorithm iterates all data points.\n",
    "\n",
    "- batchsize: number of data points you use to approximate true gradient.  \n",
    "\n",
    "- iterations: number that you run optimization algorithm"
   ]
  },
  {
   "cell_type": "code",
   "execution_count": 35,
   "metadata": {},
   "outputs": [
    {
     "data": {
      "text/plain": [
       "Text(0, 0.5, 'Training accuracy')"
      ]
     },
     "execution_count": 35,
     "metadata": {},
     "output_type": "execute_result"
    },
    {
     "data": {
      "image/png": "[encoded data removed]",
      "text/plain": [
       "<Figure size 640x480 with 1 Axes>"
      ]
     },
     "metadata": {},
     "output_type": "display_data"
    }
   ],
   "source": [
    "# visualization\n",
    "\n",
    "plt.plot(history.history[\"accuracy\"])\n",
    "plt.xlabel(\"epochs\")\n",
    "plt.ylabel(\"Training accuracy\")"
   ]
  },
  {
   "cell_type": "markdown",
   "metadata": {},
   "source": [
    "### Evaluate your model on test data"
   ]
  },
  {
   "cell_type": "code",
   "execution_count": 36,
   "metadata": {},
   "outputs": [
    {
     "name": "stdout",
     "output_type": "stream",
     "text": [
      "1/1 [==============================] - 0s 456ms/step - loss: 0.3155 - accuracy: 0.9667\n"
     ]
    },
    {
     "data": {
      "text/plain": [
       "[0.31550148129463196, 0.9666666388511658]"
      ]
     },
     "execution_count": 36,
     "metadata": {},
     "output_type": "execute_result"
    }
   ],
   "source": [
    "model.evaluate(X_test, y_test)"
   ]
  },
  {
   "cell_type": "markdown",
   "metadata": {},
   "source": [
    "Loss is the objective function. In classification problem, loss has no nice real meaning. We always use accuracy to measure the performance of each model. The higer the accuracy, the better the model.\n",
    "\n",
    "For regression problem, loss and mse are the same."
   ]
  },
  {
   "cell_type": "code",
   "execution_count": 40,
   "metadata": {},
   "outputs": [
    {
     "name": "stdout",
     "output_type": "stream",
     "text": [
      "1/1 [==============================] - 0s 43ms/step\n"
     ]
    },
    {
     "data": {
      "text/plain": [
       "array([2, 2, 1, 1, 2, 1, 1, 0, 2, 1, 2, 2, 1, 1, 1, 0, 0, 2, 0, 0, 2, 1,\n",
       "       1, 2, 2, 2, 1, 0, 1, 2])"
      ]
     },
     "execution_count": 40,
     "metadata": {},
     "output_type": "execute_result"
    }
   ],
   "source": [
    "# Predicted classes\n",
    "\n",
    "y_pred = model.predict(X_test)\n",
    "\n",
    "y_pred\n",
    "\n",
    "# return index\n",
    "\n",
    "y_pred = y_pred.argmax(axis = 1)\n",
    "\n",
    "y_pred"
   ]
  },
  {
   "cell_type": "markdown",
   "metadata": {},
   "source": [
    "### Prediction Probabilities\n",
    "\n",
    "A minor annoyance is that, even after training, our model still doesn't have very interpretable outputs:"
   ]
  },
  {
   "cell_type": "code",
   "execution_count": 41,
   "metadata": {},
   "outputs": [
    {
     "name": "stdout",
     "output_type": "stream",
     "text": [
      "1/1 [==============================] - 0s 40ms/step\n"
     ]
    },
    {
     "data": {
      "text/plain": [
       "array([[-6.772285  , -2.0517747 , -1.3067812 ],\n",
       "       [-7.0093236 , -1.9902105 , -1.1355568 ],\n",
       "       [-4.086148  , -1.1150836 , -2.3879895 ],\n",
       "       [-5.3475084 , -2.2254772 , -2.3511903 ],\n",
       "       [-6.057698  , -2.2949789 , -1.3481171 ],\n",
       "       [-5.447646  , -1.2304695 , -2.5211284 ],\n",
       "       [-4.6677094 , -2.0255847 , -3.2224123 ],\n",
       "       [-0.23849535, -4.848811  , -5.300497  ],\n",
       "       [-5.820822  , -2.7749848 , -1.4595097 ],\n",
       "       [-5.6654205 , -1.6939607 , -2.6919255 ],\n",
       "       [-6.7279677 , -2.5148332 , -1.9794118 ],\n",
       "       [-6.737538  , -3.2940576 , -1.6881713 ],\n",
       "       [-4.6822586 , -1.071163  , -1.7412333 ],\n",
       "       [-4.4490495 , -0.15549377, -1.8604745 ],\n",
       "       [-5.7326913 , -3.1704423 , -3.2245998 ],\n",
       "       [-0.89121187, -4.4232035 , -4.974905  ],\n",
       "       [-0.37346196, -4.191572  , -4.8782935 ],\n",
       "       [-5.87244   , -3.300964  , -2.5724463 ],\n",
       "       [-0.3758514 , -5.3551245 , -5.846455  ],\n",
       "       [-0.2805375 , -4.2089596 , -4.910773  ],\n",
       "       [-6.3222427 , -3.0116527 , -2.0368857 ],\n",
       "       [-3.8737931 , -1.5114924 , -3.0913973 ],\n",
       "       [-5.2596955 , -2.1907828 , -2.7494009 ],\n",
       "       [-7.125541  , -2.179224  , -1.0147862 ],\n",
       "       [-5.200329  , -2.7734714 , -1.4666667 ],\n",
       "       [-5.728453  , -3.0482433 , -1.6479472 ],\n",
       "       [-5.3951597 , -1.4888964 , -3.0179448 ],\n",
       "       [ 0.20999026, -4.537147  , -5.2036386 ],\n",
       "       [-5.5561614 , -2.0916889 , -2.372914  ],\n",
       "       [-6.2896156 , -2.4212914 , -1.689327  ]], dtype=float32)"
      ]
     },
     "execution_count": 41,
     "metadata": {},
     "output_type": "execute_result"
    }
   ],
   "source": [
    "model.predict(X_test)"
   ]
  },
  {
   "cell_type": "markdown",
   "metadata": {},
   "source": [
    "Having trained our model, we can create a new, interpretable version by adding a Softmax layer."
   ]
  },
  {
   "cell_type": "code",
   "execution_count": 42,
   "metadata": {},
   "outputs": [
    {
     "data": {
      "text/plain": [
       "<tf.Tensor: shape=(30, 3), dtype=float32, numpy=\n",
       "array([[0.00286025, 0.32099238, 0.67614734],\n",
       "       [0.00196904, 0.29786986, 0.7001611 ],\n",
       "       [0.03849626, 0.751165  , 0.21033876],\n",
       "       [0.02288112, 0.51922816, 0.4578906 ],\n",
       "       [0.00644866, 0.2777139 , 0.7158375 ],\n",
       "       [0.01142803, 0.77529615, 0.21327579],\n",
       "       [0.05185076, 0.72814065, 0.2200086 ],\n",
       "       [0.9839792 , 0.00978929, 0.00623141],\n",
       "       [0.0099614 , 0.20946455, 0.7805741 ],\n",
       "       [0.01358288, 0.7207338 , 0.2656833 ],\n",
       "       [0.00543521, 0.3672464 , 0.62731844],\n",
       "       [0.00531295, 0.16627242, 0.8284147 ],\n",
       "       [0.01756179, 0.64990145, 0.3325368 ],\n",
       "       [0.01142372, 0.8365176 , 0.15205872],\n",
       "       [0.03810045, 0.4939701 , 0.46792942],\n",
       "       [0.9559392 , 0.02795798, 0.01610293],\n",
       "       [0.968031  , 0.02126694, 0.01070202],\n",
       "       [0.02427327, 0.31761864, 0.6581081 ],\n",
       "       [0.9890338 , 0.00680363, 0.00416254],\n",
       "       [0.971414  , 0.01911228, 0.00947368],\n",
       "       [0.00989807, 0.27121997, 0.71888196],\n",
       "       [0.07245298, 0.76911366, 0.15843332],\n",
       "       [0.02871332, 0.6178673 , 0.35341945],\n",
       "       [0.00168823, 0.23746029, 0.76085144],\n",
       "       [0.01846542, 0.20908849, 0.77244604],\n",
       "       [0.0133755 , 0.19512387, 0.7915006 ],\n",
       "       [0.01626342, 0.8085007 , 0.17523591],\n",
       "       [0.98703825, 0.00856404, 0.00439769],\n",
       "       [0.01751787, 0.55986404, 0.42261803],\n",
       "       [0.00673967, 0.322575  , 0.6706853 ]], dtype=float32)>"
      ]
     },
     "execution_count": 42,
     "metadata": {},
     "output_type": "execute_result"
    }
   ],
   "source": [
    "# add softmax layer\n",
    "\n",
    "prob_model = tf.keras.models.Sequential(\n",
    "\n",
    "    [\n",
    "        model,\n",
    "        layers.Softmax()\n",
    "    ]\n",
    ")\n",
    "\n",
    "prob_model(X_test)"
   ]
  },
  {
   "cell_type": "markdown",
   "metadata": {},
   "source": [
    "Each row now reflects the model's level of confidence, which is much more interpretable.\n",
    "\n",
    "(In case you're wondering, we don't include the Softmax layer in the model before we train it for numerical reasons)."
   ]
  },
  {
   "cell_type": "code",
   "execution_count": 43,
   "metadata": {},
   "outputs": [
    {
     "name": "stdout",
     "output_type": "stream",
     "text": [
      "1/1 [==============================] - 0s 215ms/step\n"
     ]
    },
    {
     "data": {
      "text/plain": [
       "array([2, 2, 1, 1, 2, 1, 1, 0, 2, 1, 2, 2, 1, 1, 1, 0, 0, 2, 0, 0, 2, 1,\n",
       "       1, 2, 2, 2, 1, 0, 1, 2])"
      ]
     },
     "execution_count": 43,
     "metadata": {},
     "output_type": "execute_result"
    }
   ],
   "source": [
    "predictions = prob_model.predict(X_test).argmax(axis = 1)\n",
    "\n",
    "predictions"
   ]
  },
  {
   "cell_type": "code",
   "execution_count": 44,
   "metadata": {},
   "outputs": [
    {
     "data": {
      "text/plain": [
       "0.9666666666666667"
      ]
     },
     "execution_count": 44,
     "metadata": {},
     "output_type": "execute_result"
    }
   ],
   "source": [
    "# compute prediction accuracy by hand\n",
    "\n",
    "np.sum(y_test == predictions) / np.size(y_test)"
   ]
  },
  {
   "cell_type": "markdown",
   "metadata": {},
   "source": [
    "Now we can discuss why do we need to set `from_logits = True`. Recall that when we construct neural network, we do not apply activation function to the output layer, which makes results less interpretable but easy to train. \n",
    "\n",
    "You can also add softmax layer when you construct the neural network:\n",
    "If you add softmax layer in your model, you should define loss function with `from_logits=False` (default). Otherwise, you need to set `from_logits = True`."
   ]
  },
  {
   "cell_type": "code",
   "execution_count": 10,
   "metadata": {},
   "outputs": [],
   "source": [
    "# construct model\n",
    "\n",
    "\n",
    "# loss function\n",
    "\n",
    "\n",
    "# compile model\n",
    "\n",
    "\n",
    "# train the model\n",
    "\n"
   ]
  },
  {
   "cell_type": "markdown",
   "metadata": {},
   "source": [
    "## What's next?\n",
    "\n",
    "We've learned tensorflow, and we've used a simple deep neural network to make predictions on a pretty small data set. In coming lectures/discussions, we'll answer questions like:\n",
    "\n",
    "- How can I represent text or images?\n",
    "- How can I perform classification, regression, or clustering tasks?\n",
    "- How can I interpret what my model is doing?\n",
    "- How can I improve my model preformance?"
   ]
  }
 ],
 "metadata": {
  "kernelspec": {
   "display_name": "Python 3 (ipykernel)",
   "language": "python",
   "name": "python3"
  },
  "language_info": {
   "codemirror_mode": {
    "name": "ipython",
    "version": 3
   },
   "file_extension": ".py",
   "mimetype": "text/x-python",
   "name": "python",
   "nbconvert_exporter": "python",
   "pygments_lexer": "ipython3",
   "version": "3.8.18"
  }
 },
 "nbformat": 4,
 "nbformat_minor": 4
}
