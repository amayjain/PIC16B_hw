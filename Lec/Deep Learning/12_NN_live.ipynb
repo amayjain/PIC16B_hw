{
 "cells": [
  {
   "cell_type": "markdown",
   "metadata": {},
   "source": [
    "# Neural Network\n",
    "\n",
    "Starting from this lecture, we will discuss neural network which is one of the most popular models. \n",
    "\n",
    "We have learned machine learning. You may have heard deep learning. **Deep Learning** is a subset of Machine Learning. Learning problems using deep neural network is called deep learning."
   ]
  },
  {
   "cell_type": "markdown",
   "metadata": {},
   "source": [
    "## Fully Connected Neural Networks\n",
    "\n",
    "Fully connected neural looks like\n",
    "\n",
    "![](https://deeplearningmath.org/images/Fully_connected_NN.png)\n",
    "\n",
    "\n",
    "We have\n",
    "\n",
    "- `input layer`: the first layer\n",
    "\n",
    "- `output layer`: the last layer\n",
    "\n",
    "- `hidden layer`: layers between input layer and output layer\n",
    "\n",
    "- `neuron`: each circle in above plots\n",
    "\n",
    "- `weights`: neurons are connected and represented by edges, on each edge we have weights\n",
    "\n",
    "- `bias`: on each neuron, we do some operations and bias will be added\n",
    "\n",
    "- `width`: number of neurons on each (hidden) layer\n",
    "\n",
    "- `depth`: number of hidden layers (maybe different in other places)\n",
    "\n",
    "**Shallow neural network:** depth is 1\n",
    "\n",
    "**Deep neural network:** depth is larger than 1\n",
    "\n",
    "\n",
    "Mathematically, we can treat neural network as a multivariate function. Given some inputs at the first layer, we do some operations and obtain some outputs."
   ]
  },
  {
   "cell_type": "markdown",
   "metadata": {},
   "source": [
    "## Operations between neurons and layers: Forward propogation\n",
    "\n",
    "In class."
   ]
  },
  {
   "cell_type": "markdown",
   "metadata": {},
   "source": [
    "# Training neural network: backward propogation\n",
    "\n",
    "In short, training neural network is equivalent to finding weights and bias by solving an optimization problem. We expect to find \"best\" weights and bias such that your obtained Neural Network fits the training data well.\n",
    "\n",
    "## Mathematics:\n",
    "\n",
    "Let $f_{NN}(x)$ represents a neural network, then $f_{NN}(x_i)$ will be the predicted value corresponding to the $i$-th input $x_i$ and approximates $y_i$. We want to find $f_{NN}$, which is parametrized by weights $W$ and bias $b$, such that $f_{NN}(x_i)$ is close to $y_i$. \n",
    "\n",
    "Now we need to solve the following optimization problem:\n",
    "\n",
    "$$ \\mathop{\\mathrm{minimize}}_{W,b} \\sum_{i=1}^{N} loss(y_i, f_{NN}(x_i)) $$\n",
    "\n",
    "### Loss function\n",
    "\n",
    "Usually, we use loss function to characterize the difference between true label and its approximation. We expect the loss is as small as possible.\n",
    "\n",
    "Regression: \n",
    "- `square loss`:  $loss(y,\\hat{y}) = (y-\\hat{y})^2$\n",
    "\n",
    "Classification:\n",
    "- $ loss(y, \\hat{y}) =  \\begin{cases} 1 \\mbox{ if } y\\neq \\hat{y} \\\\ 0 \\mbox{ if } y = \\hat{y} \\end{cases}$\n",
    "\n",
    "- `hinge loss`: $ loss(y, \\hat{y}) = \\max\\{0, 1-y\\hat{y}\\} $\n",
    "- `cross entropy`: $ loss(y, \\hat{y}) = y\\log(\\hat{y}) + (1-y)\\log(1-\\hat{y}) $\n",
    "\n",
    "## Algorithm: SGD\n",
    "\n",
    "We still use SGD to solve above optimization problem. However, computations are really complicated here since it is hard to compute(approximate) gradient (compared with regression problem).\n",
    "\n",
    "Computing gradient is based on chain rule. If you are interested in the analytic computation, please read the following notes:\n",
    "\n",
    "1. https://www.inf.ed.ac.uk/teaching/courses/mlpr/2017/notes/w5a_backprop.pdf\n",
    "2. https://deeplearning.cs.cmu.edu/S22/document/slides/lec5.pdf\n",
    "\n",
    "I do not expect that you understand all the details and write your own SGD. We will use python to train neural network.\n",
    "\n"
   ]
  },
  {
   "cell_type": "markdown",
   "metadata": {
    "jp-MarkdownHeadingCollapsed": true
   },
   "source": [
    "## Python libraries: Tensorflow vs pytorch\n",
    "\n",
    "Tensorflow and PyTorch are two libraries for implementing neural network. We will discuss tensorflow during the lecture and your TA will help you understand PyTorch.\n",
    "\n",
    "The question I always receive is:  which library I should use/learn? What is the difference?\n",
    "\n",
    "Here is one comparison I find online: https://www.assemblyai.com/blog/pytorch-vs-tensorflow-in-2023/\n",
    "\n",
    "My personal answer is the following: \n",
    "1. It is better to learn tensorflow first and then learn PyTorch because it is easy to call commands from tensorflow. Using PyTorch requires strong programming background and better understanding on Theory. \n",
    "\n",
    "2. However, PyTorch is more popular recently. Many researchers and companies are using PyTorch, which means that you can find more resources and well trained models.\n",
    "\n",
    "3. Tensorflow is not compatible. Some commands supported in Tensorflow 1 are not available in Tensorflow 2. This means that if you are comfortable with Tensorflow 1, you still need to relearn Tensorflow 2. \n",
    "\n",
    "4. PyTorch is more flexible. Since writing PyTorch code is not simply calling commands, you have the freedom to write your own code and report what your want. For example, it is easy to report loss after each iteration (this is not a hard task in Theory) if you use PyTorch, but this is not easy to get if you use Tensorflow. "
   ]
  },
  {
   "cell_type": "markdown",
   "metadata": {},
   "source": [
    "# Applications: Iris Classification"
   ]
  },
  {
   "cell_type": "code",
   "execution_count": 1,
   "metadata": {},
   "outputs": [
    {
     "name": "stderr",
     "output_type": "stream",
     "text": [
      "2024-05-10 14:02:53.919856: I tensorflow/core/platform/cpu_feature_guard.cc:193] This TensorFlow binary is optimized with oneAPI Deep Neural Network Library (oneDNN) to use the following CPU instructions in performance-critical operations:  SSE4.1 SSE4.2\n",
      "To enable them in other operations, rebuild TensorFlow with the appropriate compiler flags.\n"
     ]
    }
   ],
   "source": [
    "import tensorflow as tf\n",
    "from tensorflow.keras import layers"
   ]
  },
  {
   "cell_type": "code",
   "execution_count": 2,
   "metadata": {},
   "outputs": [],
   "source": [
    "# import packages\n",
    "import pandas as pd\n",
    "import numpy as np\n",
    "import matplotlib.pyplot as plt\n",
    "from sklearn.datasets import load_iris\n",
    "from sklearn.model_selection import train_test_split\n",
    "\n",
    "# read data\n",
    "data = load_iris()\n",
    "X = data.data\n",
    "y = data.target\n",
    "target = data.target_names\n",
    "\n",
    "# train-test split\n",
    "X_train, X_test, y_train, y_test = train_test_split(X, y, test_size = 0.2)"
   ]
  },
  {
   "cell_type": "code",
   "execution_count": 3,
   "metadata": {},
   "outputs": [],
   "source": [
    "# data preprocessing\n",
    "\n",
    "# if you process X_train, must also process X_test"
   ]
  },
  {
   "cell_type": "code",
   "execution_count": 4,
   "metadata": {},
   "outputs": [
    {
     "data": {
      "text/plain": [
       "<matplotlib.collections.PathCollection at 0x7f8a285cecd0>"
      ]
     },
     "execution_count": 4,
     "metadata": {},
     "output_type": "execute_result"
    },
    {
     "data": {
      "image/png": "[encoded data removed]",
      "text/plain": [
       "<Figure size 640x480 with 1 Axes>"
      ]
     },
     "metadata": {},
     "output_type": "display_data"
    }
   ],
   "source": [
    "plt.scatter(X_train[:, 0], y_train)"
   ]
  },
  {
   "cell_type": "code",
   "execution_count": 26,
   "metadata": {},
   "outputs": [
    {
     "name": "stdout",
     "output_type": "stream",
     "text": [
      "Model: \"sequential_4\"\n",
      "_________________________________________________________________\n",
      " Layer (type)                Output Shape              Param #   \n",
      "=================================================================\n",
      " dense_6 (Dense)             (None, 20)                100       \n",
      "                                                                 \n",
      " dense_7 (Dense)             (None, 10)                210       \n",
      "                                                                 \n",
      " dense_8 (Dense)             (None, 3)                 33        \n",
      "                                                                 \n",
      "=================================================================\n",
      "Total params: 343\n",
      "Trainable params: 343\n",
      "Non-trainable params: 0\n",
      "_________________________________________________________________\n"
     ]
    }
   ],
   "source": [
    "# construct the model\n",
    "\n",
    "model = tf.keras.models.Sequential(\n",
    "    \n",
    "    [\n",
    "\n",
    "        # first hidden layer\n",
    "        layers.Dense(20, input_shape = (4, ), activation = \"relu\", kernel_initializer = \"he_normal\"), # 20 neurons, 4 features\n",
    "    \n",
    "        # second hidden layer\n",
    "        layers.Dense(10, activation = \"relu\", kernel_initializer = \"he_normal\"), # 10 neurons\n",
    "    \n",
    "        # output\n",
    "        layers.Dense(3) # 3 different categories (3 neurons)\n",
    "    \n",
    "    ]\n",
    ")\n",
    "\n",
    "\n",
    "model.summary()"
   ]
  },
  {
   "cell_type": "markdown",
   "metadata": {},
   "source": [
    "Let's take a look at the `layers.Dense` command:\n",
    "\n",
    "tf.keras.layers.Dense(\n",
    "\n",
    "    units,                                # number of neurons in this layer           \n",
    "    activation=None,                      # use relu\n",
    "    use_bias=True,                        # set it to false if you do not want to include bias term\n",
    "    kernel_initializer='glorot_uniform',  # initialization of weights\n",
    "    bias_initializer='zeros',             # initialization of bias\n",
    "    kernel_regularizer=None,              # regularization on weights\n",
    "    bias_regularizer=None,                # regularization on bias\n",
    "    activity_regularizer=None,            # regularization on the output layer\n",
    "    kernel_constraint=None,               # constraints on weights\n",
    "    bias_constraint=None,                 # constraints on bias\n",
    "    **kwargs\n",
    ")\n",
    "\n",
    "Comments:\n",
    "\n",
    "- Usually, if your activation function is sigmoid, it is better to use 'glorot_uniform' or 'glorot_normal' initializer\n",
    "\n",
    "- it is better to use 'he_uniform' or 'he_normal' if you use ReLU activation function and its variations \n",
    "\n",
    "- and it is better to use \"lecun_normal\" if the activation function is (S)ELU.\n",
    "\n",
    "- Regularization is one way to overcome overfitting. Possible choices are `tf.keras.regularizers.L1(alpha)` and `tf.keras.regularizers.L2(alpha)`, where $\\alpha$ is a positive number. "
   ]
  },
  {
   "cell_type": "code",
   "execution_count": 27,
   "metadata": {},
   "outputs": [],
   "source": [
    "# loss function\n",
    "\n",
    "loss_fn = tf.keras.losses.SparseCategoricalCrossentropy(from_logits = True)\n",
    "\n",
    "# compile model\n",
    "\n",
    "model.compile(optimizer = \"adam\", loss = loss_fn, metrics = [\"accuracy\"])\n",
    "\n",
    "# accuracy for classification\n",
    "# mse for regression"
   ]
  },
  {
   "cell_type": "markdown",
   "metadata": {},
   "source": [
    "Why do we set `from_logits=True`? We will answer this question later.\n",
    "\n",
    "## Loss functions: \n",
    "\n",
    "Here is the official link for loss functions https://www.tensorflow.org/api_docs/python/tf/keras/losses\n",
    "\n",
    "We only list some of them:\n",
    "\n",
    "- BinaryCrossentropy: Computes the cross-entropy loss between true labels and predicted labels if you have two classes.\n",
    "\n",
    "\n",
    "- Hinge: Computes the hinge loss between y_true & y_pred. y_true values are expected to be -1 or 1. If binary (0 or 1) labels are provided we will convert them to -1 or 1.\n",
    "\n",
    "\n",
    "- SparseCategoricalCrossentropy: Computes the crossentropy loss between the labels and predictions. More than two classes.\n",
    "\n",
    "\n",
    "- MeanSquaredError: Computes the mean of squares of errors between labels and predictions. Commonly used for regression problem \n"
   ]
  },
  {
   "cell_type": "markdown",
   "metadata": {},
   "source": [
    "## Optimizer:\n",
    "\n",
    "Let's use Adam which is one variantion of SGD algorithm. More options will be given in your discussion worksheet."
   ]
  },
  {
   "cell_type": "code",
   "execution_count": 28,
   "metadata": {},
   "outputs": [
    {
     "name": "stdout",
     "output_type": "stream",
     "text": [
      "Epoch 1/50\n",
      "6/6 [==============================] - 0s 1ms/step - loss: 6.6903 - accuracy: 0.3083\n",
      "Epoch 2/50\n",
      "6/6 [==============================] - 0s 2ms/step - loss: 5.8929 - accuracy: 0.3083\n",
      "Epoch 3/50\n",
      "6/6 [==============================] - 0s 1ms/step - loss: 5.1662 - accuracy: 0.3083\n",
      "Epoch 4/50\n",
      "6/6 [==============================] - 0s 1ms/step - loss: 4.4088 - accuracy: 0.3083\n",
      "Epoch 5/50\n",
      "6/6 [==============================] - 0s 932us/step - loss: 3.6846 - accuracy: 0.3083\n",
      "Epoch 6/50\n",
      "6/6 [==============================] - 0s 886us/step - loss: 3.0013 - accuracy: 0.3083\n",
      "Epoch 7/50\n",
      "6/6 [==============================] - 0s 931us/step - loss: 2.3824 - accuracy: 0.3083\n",
      "Epoch 8/50\n",
      "6/6 [==============================] - 0s 863us/step - loss: 1.8606 - accuracy: 0.5500\n",
      "Epoch 9/50\n",
      "6/6 [==============================] - 0s 1ms/step - loss: 1.4889 - accuracy: 0.6417\n",
      "Epoch 10/50\n",
      "6/6 [==============================] - 0s 1ms/step - loss: 1.2742 - accuracy: 0.6250\n",
      "Epoch 11/50\n",
      "6/6 [==============================] - 0s 1ms/step - loss: 1.1167 - accuracy: 0.4917\n",
      "Epoch 12/50\n",
      "6/6 [==============================] - 0s 847us/step - loss: 0.9870 - accuracy: 0.4667\n",
      "Epoch 13/50\n",
      "6/6 [==============================] - 0s 1ms/step - loss: 0.8685 - accuracy: 0.5750\n",
      "Epoch 14/50\n",
      "6/6 [==============================] - 0s 996us/step - loss: 0.7812 - accuracy: 0.6250\n",
      "Epoch 15/50\n",
      "6/6 [==============================] - 0s 1ms/step - loss: 0.7196 - accuracy: 0.6417\n",
      "Epoch 16/50\n",
      "6/6 [==============================] - 0s 972us/step - loss: 0.6743 - accuracy: 0.7167\n",
      "Epoch 17/50\n",
      "6/6 [==============================] - 0s 1ms/step - loss: 0.6471 - accuracy: 0.7583\n",
      "Epoch 18/50\n",
      "6/6 [==============================] - 0s 2ms/step - loss: 0.6284 - accuracy: 0.7333\n",
      "Epoch 19/50\n",
      "6/6 [==============================] - 0s 1ms/step - loss: 0.6144 - accuracy: 0.7417\n",
      "Epoch 20/50\n",
      "6/6 [==============================] - 0s 1ms/step - loss: 0.6034 - accuracy: 0.7333\n",
      "Epoch 21/50\n",
      "6/6 [==============================] - 0s 2ms/step - loss: 0.5926 - accuracy: 0.7500\n",
      "Epoch 22/50\n",
      "6/6 [==============================] - 0s 1ms/step - loss: 0.5832 - accuracy: 0.7583\n",
      "Epoch 23/50\n",
      "6/6 [==============================] - 0s 1ms/step - loss: 0.5742 - accuracy: 0.7417\n",
      "Epoch 24/50\n",
      "6/6 [==============================] - 0s 1ms/step - loss: 0.5665 - accuracy: 0.7750\n",
      "Epoch 25/50\n",
      "6/6 [==============================] - 0s 953us/step - loss: 0.5586 - accuracy: 0.7750\n",
      "Epoch 26/50\n",
      "6/6 [==============================] - 0s 1ms/step - loss: 0.5526 - accuracy: 0.7583\n",
      "Epoch 27/50\n",
      "6/6 [==============================] - 0s 949us/step - loss: 0.5445 - accuracy: 0.7583\n",
      "Epoch 28/50\n",
      "6/6 [==============================] - 0s 1ms/step - loss: 0.5385 - accuracy: 0.7750\n",
      "Epoch 29/50\n",
      "6/6 [==============================] - 0s 981us/step - loss: 0.5321 - accuracy: 0.8250\n",
      "Epoch 30/50\n",
      "6/6 [==============================] - 0s 2ms/step - loss: 0.5257 - accuracy: 0.7583\n",
      "Epoch 31/50\n",
      "6/6 [==============================] - 0s 2ms/step - loss: 0.5207 - accuracy: 0.7750\n",
      "Epoch 32/50\n",
      "6/6 [==============================] - 0s 1ms/step - loss: 0.5138 - accuracy: 0.7917\n",
      "Epoch 33/50\n",
      "6/6 [==============================] - 0s 1ms/step - loss: 0.5090 - accuracy: 0.8000\n",
      "Epoch 34/50\n",
      "6/6 [==============================] - 0s 1ms/step - loss: 0.5040 - accuracy: 0.8417\n",
      "Epoch 35/50\n",
      "6/6 [==============================] - 0s 2ms/step - loss: 0.4987 - accuracy: 0.8333\n",
      "Epoch 36/50\n",
      "6/6 [==============================] - 0s 1ms/step - loss: 0.4937 - accuracy: 0.8250\n",
      "Epoch 37/50\n",
      "6/6 [==============================] - 0s 2ms/step - loss: 0.4889 - accuracy: 0.8083\n",
      "Epoch 38/50\n",
      "6/6 [==============================] - 0s 2ms/step - loss: 0.4842 - accuracy: 0.8167\n",
      "Epoch 39/50\n",
      "6/6 [==============================] - 0s 3ms/step - loss: 0.4815 - accuracy: 0.8500\n",
      "Epoch 40/50\n",
      "6/6 [==============================] - 0s 2ms/step - loss: 0.4755 - accuracy: 0.8500\n",
      "Epoch 41/50\n",
      "6/6 [==============================] - 0s 2ms/step - loss: 0.4706 - accuracy: 0.8417\n",
      "Epoch 42/50\n",
      "6/6 [==============================] - 0s 3ms/step - loss: 0.4669 - accuracy: 0.8417\n",
      "Epoch 43/50\n",
      "6/6 [==============================] - 0s 2ms/step - loss: 0.4627 - accuracy: 0.8500\n",
      "Epoch 44/50\n",
      "6/6 [==============================] - 0s 6ms/step - loss: 0.4580 - accuracy: 0.8583\n",
      "Epoch 45/50\n",
      "6/6 [==============================] - 0s 2ms/step - loss: 0.4550 - accuracy: 0.8583\n",
      "Epoch 46/50\n",
      "6/6 [==============================] - 0s 8ms/step - loss: 0.4508 - accuracy: 0.8500\n",
      "Epoch 47/50\n",
      "6/6 [==============================] - 0s 2ms/step - loss: 0.4475 - accuracy: 0.8500\n",
      "Epoch 48/50\n",
      "6/6 [==============================] - 0s 2ms/step - loss: 0.4442 - accuracy: 0.8417\n",
      "Epoch 49/50\n",
      "6/6 [==============================] - 0s 2ms/step - loss: 0.4395 - accuracy: 0.8583\n",
      "Epoch 50/50\n",
      "6/6 [==============================] - 0s 2ms/step - loss: 0.4363 - accuracy: 0.8583\n"
     ]
    },
    {
     "data": {
      "text/plain": [
       "<keras.callbacks.History at 0x7f8a5b1f4f70>"
      ]
     },
     "execution_count": 28,
     "metadata": {},
     "output_type": "execute_result"
    }
   ],
   "source": [
    "# train the model\n",
    "\n",
    "history = model.fit(X_train, y_train, epochs = 50, batch_size = 20)\n",
    "\n",
    "history"
   ]
  },
  {
   "cell_type": "markdown",
   "metadata": {},
   "source": [
    "- Epoch: optimization algorithm iterates all data points.\n",
    "\n",
    "- batchsize: number of data points you use to approximate true gradient.  \n",
    "\n",
    "- iterations: number that you run optimization algorithm"
   ]
  },
  {
   "cell_type": "code",
   "execution_count": 29,
   "metadata": {},
   "outputs": [
    {
     "data": {
      "text/plain": [
       "Text(0, 0.5, 'Training accuracy')"
      ]
     },
     "execution_count": 29,
     "metadata": {},
     "output_type": "execute_result"
    },
    {
     "data": {
      "image/png": "[encoded data removed]",
      "text/plain": [
       "<Figure size 640x480 with 1 Axes>"
      ]
     },
     "metadata": {},
     "output_type": "display_data"
    }
   ],
   "source": [
    "# visualization\n",
    "\n",
    "plt.plot(history.history[\"accuracy\"])\n",
    "plt.xlabel(\"epochs\")\n",
    "plt.ylabel(\"Training accuracy\")"
   ]
  },
  {
   "cell_type": "markdown",
   "metadata": {},
   "source": [
    "### Evaluate your model on test data"
   ]
  },
  {
   "cell_type": "code",
   "execution_count": 30,
   "metadata": {},
   "outputs": [
    {
     "name": "stdout",
     "output_type": "stream",
     "text": [
      "1/1 [==============================] - 0s 108ms/step - loss: 0.5049 - accuracy: 0.7333\n"
     ]
    },
    {
     "data": {
      "text/plain": [
       "[0.504940927028656, 0.7333333492279053]"
      ]
     },
     "execution_count": 30,
     "metadata": {},
     "output_type": "execute_result"
    }
   ],
   "source": [
    "model.evaluate(X_test, y_test)"
   ]
  },
  {
   "cell_type": "markdown",
   "metadata": {},
   "source": [
    "Loss is the objective function. In classification problem, loss has no nice real meaning. We always use accuracy to measure the performance of each model. The higer the accuracy, the better the model.\n",
    "\n",
    "For regression problem, loss and mse are the same."
   ]
  },
  {
   "cell_type": "code",
   "execution_count": 31,
   "metadata": {},
   "outputs": [
    {
     "name": "stdout",
     "output_type": "stream",
     "text": [
      "WARNING:tensorflow:5 out of the last 7 calls to <function Model.make_predict_function.<locals>.predict_function at 0x7f8a38c7c820> triggered tf.function retracing. Tracing is expensive and the excessive number of tracings could be due to (1) creating @tf.function repeatedly in a loop, (2) passing tensors with different shapes, (3) passing Python objects instead of tensors. For (1), please define your @tf.function outside of the loop. For (2), @tf.function has reduce_retracing=True option that can avoid unnecessary retracing. For (3), please refer to https://www.tensorflow.org/guide/function#controlling_retracing and https://www.tensorflow.org/api_docs/python/tf/function for  more details.\n",
      "1/1 [==============================] - 0s 46ms/step\n"
     ]
    },
    {
     "data": {
      "text/plain": [
       "array([0, 1, 1, 0, 2, 2, 1, 1, 1, 0, 0, 1, 2, 0, 2, 2, 0, 2, 0, 1, 2, 2,\n",
       "       2, 2, 2, 2, 2, 0, 0, 0])"
      ]
     },
     "execution_count": 31,
     "metadata": {},
     "output_type": "execute_result"
    }
   ],
   "source": [
    "# Predicted classes\n",
    "\n",
    "y_pred = model.predict(X_test)\n",
    "\n",
    "y_pred\n",
    "\n",
    "# return index\n",
    "\n",
    "y_pred = y_pred.argmax(axis = 1)\n",
    "\n",
    "y_pred"
   ]
  },
  {
   "cell_type": "markdown",
   "metadata": {},
   "source": [
    "### Prediction Probabilities\n",
    "\n",
    "A minor annoyance is that, even after training, our model still doesn't have very interpretable outputs:"
   ]
  },
  {
   "cell_type": "code",
   "execution_count": 32,
   "metadata": {},
   "outputs": [
    {
     "name": "stdout",
     "output_type": "stream",
     "text": [
      "1/1 [==============================] - 0s 20ms/step\n"
     ]
    },
    {
     "data": {
      "text/plain": [
       "array([[ 2.68787   ,  0.50726825, -1.040758  ],\n",
       "       [-0.20972449,  1.3489355 ,  1.1321765 ],\n",
       "       [-0.51214564,  1.5861863 ,  1.243565  ],\n",
       "       [ 3.4605231 ,  0.6466084 , -1.745798  ],\n",
       "       [-1.0571148 ,  1.8712364 ,  2.5985198 ],\n",
       "       [-0.6349875 ,  1.3036228 ,  1.7656465 ],\n",
       "       [-0.91988313,  1.8532251 ,  1.5826068 ],\n",
       "       [-0.3446964 ,  1.440368  ,  1.1706948 ],\n",
       "       [-0.2988662 ,  1.5083538 ,  1.1437105 ],\n",
       "       [ 2.7444093 ,  0.48516306, -1.1765848 ],\n",
       "       [ 3.456107  ,  0.52056247, -1.7084068 ],\n",
       "       [-0.3100138 ,  1.6199104 ,  1.1045035 ],\n",
       "       [-0.579039  ,  1.6939856 ,  1.8163116 ],\n",
       "       [ 2.7956653 ,  0.4625183 , -1.5893078 ],\n",
       "       [-0.37349004,  1.2656878 ,  1.4323639 ],\n",
       "       [-0.62367904,  1.625754  ,  1.7643822 ],\n",
       "       [ 1.9064163 ,  0.20866904, -0.521234  ],\n",
       "       [-0.35453656,  1.316127  ,  1.4225632 ],\n",
       "       [ 2.846279  ,  0.43861136, -1.0334406 ],\n",
       "       [-0.11010743,  1.524686  ,  0.87326175],\n",
       "       [-0.90919614,  1.5436641 ,  2.3202245 ],\n",
       "       [-1.330394  ,  1.9873646 ,  2.4041913 ],\n",
       "       [-0.5111769 ,  1.5796427 ,  1.7443279 ],\n",
       "       [-1.1172533 ,  1.803471  ,  2.508539  ],\n",
       "       [-1.1400529 ,  1.6228222 ,  2.0749364 ],\n",
       "       [-0.9504007 ,  1.6079947 ,  1.8985906 ],\n",
       "       [-0.96917975,  1.7746323 ,  1.8270276 ],\n",
       "       [ 3.216141  ,  0.4275485 , -1.4146351 ],\n",
       "       [ 2.9775572 ,  0.4234942 , -1.5034553 ],\n",
       "       [ 2.598852  ,  0.49961218, -1.2412634 ]], dtype=float32)"
      ]
     },
     "execution_count": 32,
     "metadata": {},
     "output_type": "execute_result"
    }
   ],
   "source": [
    "model.predict(X_test)"
   ]
  },
  {
   "cell_type": "markdown",
   "metadata": {},
   "source": [
    "Having trained our model, we can create a new, interpretable version by adding a Softmax layer."
   ]
  },
  {
   "cell_type": "code",
   "execution_count": 33,
   "metadata": {},
   "outputs": [
    {
     "data": {
      "text/plain": [
       "<tf.Tensor: shape=(30, 3), dtype=float32, numpy=\n",
       "array([[0.87950796, 0.09936111, 0.02113086],\n",
       "       [0.10439765, 0.4961445 , 0.39945784],\n",
       "       [0.06693387, 0.5456824 , 0.38738373],\n",
       "       [0.9385691 , 0.05628577, 0.00514505],\n",
       "       [0.01712656, 0.32021147, 0.66266197],\n",
       "       [0.05268912, 0.36614123, 0.58116966],\n",
       "       [0.03422175, 0.54783255, 0.41794562],\n",
       "       [0.08687218, 0.5177551 , 0.39537278],\n",
       "       [0.08829968, 0.5380527 , 0.3736476 ],\n",
       "       [0.8894815 , 0.0928878 , 0.01763075],\n",
       "       [0.9444497 , 0.05015198, 0.00539833],\n",
       "       [0.08330912, 0.5739155 , 0.34277534],\n",
       "       [0.04612384, 0.44780347, 0.50607276],\n",
       "       [0.9013449 , 0.08742147, 0.01123366],\n",
       "       [0.0817254 , 0.42096204, 0.49731252],\n",
       "       [0.04678425, 0.44362503, 0.50959074],\n",
       "       [0.7865719 , 0.1440178 , 0.06941021],\n",
       "       [0.08177701, 0.4347015 , 0.48352152],\n",
       "       [0.900348  , 0.08105385, 0.01859815],\n",
       "       [0.11361253, 0.58265024, 0.3037372 ],\n",
       "       [0.02639459, 0.30674574, 0.6668597 ],\n",
       "       [0.01419062, 0.39163876, 0.5941706 ],\n",
       "       [0.05367211, 0.4342902 , 0.5120377 ],\n",
       "       [0.01751032, 0.32489908, 0.6575906 ],\n",
       "       [0.02395304, 0.37954387, 0.5965031 ],\n",
       "       [0.03206625, 0.41413814, 0.5537955 ],\n",
       "       [0.0303688 , 0.47211748, 0.49751368],\n",
       "       [0.9334847 , 0.05741651, 0.00909886],\n",
       "       [0.91820025, 0.07140389, 0.01039581],\n",
       "       [0.8740948 , 0.10711992, 0.01878528]], dtype=float32)>"
      ]
     },
     "execution_count": 33,
     "metadata": {},
     "output_type": "execute_result"
    }
   ],
   "source": [
    "# add softmax layer\n",
    "\n",
    "prob_model = tf.keras.models.Sequential(\n",
    "\n",
    "    [\n",
    "        model,\n",
    "        layers.Softmax()\n",
    "    ]\n",
    ")\n",
    "\n",
    "prob_model(X_test)"
   ]
  },
  {
   "cell_type": "markdown",
   "metadata": {},
   "source": [
    "Each row now reflects the model's level of confidence, which is much more interpretable.\n",
    "\n",
    "(In case you're wondering, we don't include the Softmax layer in the model before we train it for numerical reasons)."
   ]
  },
  {
   "cell_type": "code",
   "execution_count": 34,
   "metadata": {},
   "outputs": [
    {
     "name": "stdout",
     "output_type": "stream",
     "text": [
      "WARNING:tensorflow:6 out of the last 9 calls to <function Model.make_predict_function.<locals>.predict_function at 0x7f8a38c7c550> triggered tf.function retracing. Tracing is expensive and the excessive number of tracings could be due to (1) creating @tf.function repeatedly in a loop, (2) passing tensors with different shapes, (3) passing Python objects instead of tensors. For (1), please define your @tf.function outside of the loop. For (2), @tf.function has reduce_retracing=True option that can avoid unnecessary retracing. For (3), please refer to https://www.tensorflow.org/guide/function#controlling_retracing and https://www.tensorflow.org/api_docs/python/tf/function for  more details.\n",
      "1/1 [==============================] - 0s 48ms/step\n"
     ]
    },
    {
     "data": {
      "text/plain": [
       "array([0, 1, 1, 0, 2, 2, 1, 1, 1, 0, 0, 1, 2, 0, 2, 2, 0, 2, 0, 1, 2, 2,\n",
       "       2, 2, 2, 2, 2, 0, 0, 0])"
      ]
     },
     "execution_count": 34,
     "metadata": {},
     "output_type": "execute_result"
    }
   ],
   "source": [
    "predictions = prob_model.predict(X_test).argmax(axis = 1)\n",
    "\n",
    "predictions"
   ]
  },
  {
   "cell_type": "code",
   "execution_count": 35,
   "metadata": {},
   "outputs": [
    {
     "data": {
      "text/plain": [
       "0.7333333333333333"
      ]
     },
     "execution_count": 35,
     "metadata": {},
     "output_type": "execute_result"
    }
   ],
   "source": [
    "# compute prediction accuracy by hand\n",
    "\n",
    "np.sum(y_test == predictions) / np.size(y_test)"
   ]
  },
  {
   "cell_type": "markdown",
   "metadata": {},
   "source": [
    "Now we can discuss why do we need to set `from_logits = True`. Recall that when we construct neural network, we do not apply activation function to the output layer, which makes results less interpretable but easy to train. \n",
    "\n",
    "You can also add softmax layer when you construct the neural network:\n",
    "If you add softmax layer in your model, you should define loss function with `from_logits=False` (default). Otherwise, you need to set `from_logits = True`."
   ]
  },
  {
   "cell_type": "code",
   "execution_count": 36,
   "metadata": {},
   "outputs": [
    {
     "name": "stdout",
     "output_type": "stream",
     "text": [
      "Epoch 1/50\n",
      "6/6 [==============================] - 0s 2ms/step - loss: 3.8742 - accuracy: 0.3583\n",
      "Epoch 2/50\n",
      "6/6 [==============================] - 0s 921us/step - loss: 2.9069 - accuracy: 0.2583\n",
      "Epoch 3/50\n",
      "6/6 [==============================] - 0s 809us/step - loss: 2.4168 - accuracy: 0.0083\n",
      "Epoch 4/50\n",
      "6/6 [==============================] - 0s 4ms/step - loss: 2.1722 - accuracy: 0.0333\n",
      "Epoch 5/50\n",
      "6/6 [==============================] - 0s 835us/step - loss: 2.0051 - accuracy: 0.2083\n",
      "Epoch 6/50\n",
      "6/6 [==============================] - 0s 1ms/step - loss: 1.8430 - accuracy: 0.3583\n",
      "Epoch 7/50\n",
      "6/6 [==============================] - 0s 862us/step - loss: 1.7001 - accuracy: 0.4500\n",
      "Epoch 8/50\n",
      "6/6 [==============================] - 0s 1ms/step - loss: 1.5683 - accuracy: 0.4750\n",
      "Epoch 9/50\n",
      "6/6 [==============================] - 0s 1ms/step - loss: 1.4525 - accuracy: 0.4667\n",
      "Epoch 10/50\n",
      "6/6 [==============================] - 0s 2ms/step - loss: 1.3383 - accuracy: 0.4833\n",
      "Epoch 11/50\n",
      "6/6 [==============================] - 0s 2ms/step - loss: 1.2293 - accuracy: 0.4917\n",
      "Epoch 12/50\n",
      "6/6 [==============================] - 0s 1ms/step - loss: 1.1336 - accuracy: 0.5250\n",
      "Epoch 13/50\n",
      "6/6 [==============================] - 0s 893us/step - loss: 1.0486 - accuracy: 0.5417\n",
      "Epoch 14/50\n",
      "6/6 [==============================] - 0s 868us/step - loss: 0.9753 - accuracy: 0.5750\n",
      "Epoch 15/50\n",
      "6/6 [==============================] - 0s 919us/step - loss: 0.8992 - accuracy: 0.5917\n",
      "Epoch 16/50\n",
      "6/6 [==============================] - 0s 824us/step - loss: 0.8373 - accuracy: 0.6917\n",
      "Epoch 17/50\n",
      "6/6 [==============================] - 0s 1ms/step - loss: 0.7803 - accuracy: 0.8833\n",
      "Epoch 18/50\n",
      "6/6 [==============================] - 0s 793us/step - loss: 0.7284 - accuracy: 0.9250\n",
      "Epoch 19/50\n",
      "6/6 [==============================] - 0s 1ms/step - loss: 0.6848 - accuracy: 0.9250\n",
      "Epoch 20/50\n",
      "6/6 [==============================] - 0s 807us/step - loss: 0.6466 - accuracy: 0.9250\n",
      "Epoch 21/50\n",
      "6/6 [==============================] - 0s 910us/step - loss: 0.6121 - accuracy: 0.9250\n",
      "Epoch 22/50\n",
      "6/6 [==============================] - 0s 891us/step - loss: 0.5809 - accuracy: 0.9250\n",
      "Epoch 23/50\n",
      "6/6 [==============================] - 0s 808us/step - loss: 0.5539 - accuracy: 0.9333\n",
      "Epoch 24/50\n",
      "6/6 [==============================] - 0s 848us/step - loss: 0.5282 - accuracy: 0.9333\n",
      "Epoch 25/50\n",
      "6/6 [==============================] - 0s 828us/step - loss: 0.5063 - accuracy: 0.9250\n",
      "Epoch 26/50\n",
      "6/6 [==============================] - 0s 1ms/step - loss: 0.4863 - accuracy: 0.9250\n",
      "Epoch 27/50\n",
      "6/6 [==============================] - 0s 900us/step - loss: 0.4682 - accuracy: 0.9333\n",
      "Epoch 28/50\n",
      "6/6 [==============================] - 0s 1ms/step - loss: 0.4506 - accuracy: 0.9250\n",
      "Epoch 29/50\n",
      "6/6 [==============================] - 0s 821us/step - loss: 0.4362 - accuracy: 0.9333\n",
      "Epoch 30/50\n",
      "6/6 [==============================] - 0s 840us/step - loss: 0.4213 - accuracy: 0.9500\n",
      "Epoch 31/50\n",
      "6/6 [==============================] - 0s 991us/step - loss: 0.4084 - accuracy: 0.9500\n",
      "Epoch 32/50\n",
      "6/6 [==============================] - 0s 807us/step - loss: 0.3962 - accuracy: 0.9583\n",
      "Epoch 33/50\n",
      "6/6 [==============================] - 0s 893us/step - loss: 0.3855 - accuracy: 0.9583\n",
      "Epoch 34/50\n",
      "6/6 [==============================] - 0s 804us/step - loss: 0.3752 - accuracy: 0.9583\n",
      "Epoch 35/50\n",
      "6/6 [==============================] - 0s 1ms/step - loss: 0.3644 - accuracy: 0.9667\n",
      "Epoch 36/50\n",
      "6/6 [==============================] - 0s 871us/step - loss: 0.3548 - accuracy: 0.9583\n",
      "Epoch 37/50\n",
      "6/6 [==============================] - 0s 828us/step - loss: 0.3458 - accuracy: 0.9583\n",
      "Epoch 38/50\n",
      "6/6 [==============================] - 0s 821us/step - loss: 0.3371 - accuracy: 0.9583\n",
      "Epoch 39/50\n",
      "6/6 [==============================] - 0s 805us/step - loss: 0.3298 - accuracy: 0.9583\n",
      "Epoch 40/50\n",
      "6/6 [==============================] - 0s 1ms/step - loss: 0.3223 - accuracy: 0.9583\n",
      "Epoch 41/50\n",
      "6/6 [==============================] - 0s 853us/step - loss: 0.3153 - accuracy: 0.9583\n",
      "Epoch 42/50\n",
      "6/6 [==============================] - 0s 1ms/step - loss: 0.3092 - accuracy: 0.9583\n",
      "Epoch 43/50\n",
      "6/6 [==============================] - 0s 860us/step - loss: 0.3028 - accuracy: 0.9667\n",
      "Epoch 44/50\n",
      "6/6 [==============================] - 0s 1ms/step - loss: 0.2975 - accuracy: 0.9583\n",
      "Epoch 45/50\n",
      "6/6 [==============================] - 0s 932us/step - loss: 0.2908 - accuracy: 0.9583\n",
      "Epoch 46/50\n",
      "6/6 [==============================] - 0s 888us/step - loss: 0.2852 - accuracy: 0.9667\n",
      "Epoch 47/50\n",
      "6/6 [==============================] - 0s 964us/step - loss: 0.2809 - accuracy: 0.9583\n",
      "Epoch 48/50\n",
      "6/6 [==============================] - 0s 1ms/step - loss: 0.2773 - accuracy: 0.9583\n",
      "Epoch 49/50\n",
      "6/6 [==============================] - 0s 1ms/step - loss: 0.2694 - accuracy: 0.9667\n",
      "Epoch 50/50\n",
      "6/6 [==============================] - 0s 1ms/step - loss: 0.2657 - accuracy: 0.9583\n"
     ]
    }
   ],
   "source": [
    "# construct model\n",
    "model2 = tf.keras.models.Sequential(\n",
    "    \n",
    "    [\n",
    "\n",
    "        # first hidden layer\n",
    "        layers.Dense(20, input_shape = (4, ), activation = \"relu\", kernel_initializer = \"he_normal\"), # 20 neurons, 4 features\n",
    "    \n",
    "        # second hidden layer\n",
    "        layers.Dense(10, activation = \"relu\", kernel_initializer = \"he_normal\"), # 10 neurons\n",
    "    \n",
    "        # output\n",
    "        layers.Dense(3), # 3 different categories (3 neurons)\n",
    "\n",
    "        layers.Softmax()\n",
    "    \n",
    "    ]\n",
    ")\n",
    "\n",
    "# loss function\n",
    "\n",
    "loss_fn = tf.keras.losses.SparseCategoricalCrossentropy(from_logits = False)\n",
    "\n",
    "# compile model\n",
    "\n",
    "model2.compile(optimizer = \"adam\", loss = loss_fn, metrics = [\"accuracy\"])\n",
    "\n",
    "# train the model\n",
    "\n",
    "history = model2.fit(X_train, y_train, epochs = 50, batch_size = 20)"
   ]
  },
  {
   "cell_type": "markdown",
   "metadata": {},
   "source": [
    "## What's next?\n",
    "\n",
    "We've learned tensorflow, and we've used a simple deep neural network to make predictions on a pretty small data set. In coming lectures/discussions, we'll answer questions like:\n",
    "\n",
    "- How can I represent text or images?\n",
    "- How can I perform classification, regression, or clustering tasks?\n",
    "- How can I interpret what my model is doing?\n",
    "- How can I improve my model preformance?"
   ]
  }
 ],
 "metadata": {
  "kernelspec": {
   "display_name": "Python 3 (ipykernel)",
   "language": "python",
   "name": "python3"
  },
  "language_info": {
   "codemirror_mode": {
    "name": "ipython",
    "version": 3
   },
   "file_extension": ".py",
   "mimetype": "text/x-python",
   "name": "python",
   "nbconvert_exporter": "python",
   "pygments_lexer": "ipython3",
   "version": "3.8.18"
  }
 },
 "nbformat": 4,
 "nbformat_minor": 4
}
