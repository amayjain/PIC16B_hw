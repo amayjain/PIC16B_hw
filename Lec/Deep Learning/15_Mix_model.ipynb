{
 "cells": [
  {
   "cell_type": "markdown",
   "id": "701dfd8f",
   "metadata": {
    "id": "described-dayton"
   },
   "source": [
    "# Mixed Data Features\n",
    "\n",
    "In previous lectures, we've used neural networks to perform \"basic\" classification, image classification, and text classification. In each of these, we used a single pipeline that we custom built for the data we needed to work with, usually enclosed within a `keras.models.Sequential()` model. This worked fine for those situations, but what happens when we have *multiple* complex data components that we would like to use in our models? For example, maybe we would like to do classification in a dataset containing both: \n",
    "\n",
    "1. Pictures (images) and captions (text). \n",
    "2. Descriptions (text) and timestamps (numbers). \n",
    "3. Article bodies (text) and titles (different text). \n",
    "\n",
    "Of course, it's possible to come up with various ad hoc ways to smoosh pieces of data together, but this isn't usually the right approach. A better thing to do is to create a more flexible model that accepts and appropriately processes different kinds of inputs. In this lecture, we'll learn how to do this. \n",
    "\n",
    "### Key Tools\n",
    "\n",
    "- Labeled data sets. \n",
    "- The Keras functional API (alternative to Sequential API). "
   ]
  },
  {
   "cell_type": "code",
   "execution_count": 1,
   "id": "eae3c3cf",
   "metadata": {
    "id": "ranking-algebra"
   },
   "outputs": [
    {
     "name": "stderr",
     "output_type": "stream",
     "text": [
      "2024-05-29 18:50:47.497966: I tensorflow/core/platform/cpu_feature_guard.cc:193] This TensorFlow binary is optimized with oneAPI Deep Neural Network Library (oneDNN) to use the following CPU instructions in performance-critical operations:  SSE4.1 SSE4.2\n",
      "To enable them in other operations, rebuild TensorFlow with the appropriate compiler flags.\n"
     ]
    }
   ],
   "source": [
    "import numpy as np\n",
    "import pandas as pd\n",
    "import tensorflow as tf\n",
    "import re\n",
    "import string\n",
    "\n",
    "from tensorflow.keras import layers\n",
    "from tensorflow.keras import losses\n",
    "from tensorflow import keras\n",
    "\n",
    "# requires update to tensorflow 2.4\n",
    "# >>> conda activate PIC16B\n",
    "# >>> pip install tensorflow==2.4\n",
    "from tensorflow.keras.layers.experimental.preprocessing import TextVectorization\n",
    "from tensorflow.keras.layers.experimental.preprocessing import StringLookup\n",
    "\n",
    "from sklearn.model_selection import train_test_split\n",
    "from sklearn.preprocessing import LabelEncoder\n",
    "\n",
    "# for embedding viz\n",
    "import plotly.express as px \n",
    "import plotly.io as pio\n",
    "pio.templates.default = \"plotly_white\""
   ]
  },
  {
   "cell_type": "code",
   "execution_count": 1,
   "id": "85b60f3d",
   "metadata": {},
   "outputs": [
    {
     "name": "stdout",
     "output_type": "stream",
     "text": [
      "3.7.6 (default, Jan  8 2020, 13:42:34) \n",
      "[Clang 4.0.1 (tags/RELEASE_401/final)]\n"
     ]
    }
   ],
   "source": [
    "import sys\n",
    "print(sys.version)"
   ]
  },
  {
   "cell_type": "markdown",
   "id": "d4f465d6",
   "metadata": {
    "id": "unusual-creation"
   },
   "source": [
    "Our data set for this lecture contains various information about various musical tracks produced between the years 1950 and 2019. You can find it on Kaggle [here](https://www.kaggle.com/saurabhshahane/music-dataset-1950-to-2019). The data was originally published in the following data publication: \n",
    "\n",
    "> Moura, Luan; Fontelles, Emanuel; Sampaio, Vinicius; França, Mardônio (2020), “Music Dataset: Lyrics and Metadata from 1950 to 2019”, Mendeley Data, V3, doi: 10.17632/3t9vbwxgr5.3"
   ]
  },
  {
   "cell_type": "code",
   "execution_count": 2,
   "id": "b255a438",
   "metadata": {
    "id": "short-google"
   },
   "outputs": [],
   "source": [
    "url = \"https://raw.githubusercontent.com/PhilChodrow/PIC16B/master/datasets/tcc_ceds_music.csv\"\n",
    "df = pd.read_csv(url)"
   ]
  },
  {
   "cell_type": "markdown",
   "id": "e7116224",
   "metadata": {
    "id": "quick-vatican"
   },
   "source": [
    "Let's take a quick look: "
   ]
  },
  {
   "cell_type": "code",
   "execution_count": 3,
   "id": "692043f8",
   "metadata": {
    "colab": {
     "base_uri": "https://localhost:8080/",
     "height": 638
    },
    "id": "synthetic-twist",
    "outputId": "d6c860d6-cc02-44da-9e48-f66913285c03"
   },
   "outputs": [
    {
     "data": {
      "text/html": [
       "<div>\n",
       "<style scoped>\n",
       "    .dataframe tbody tr th:only-of-type {\n",
       "        vertical-align: middle;\n",
       "    }\n",
       "\n",
       "    .dataframe tbody tr th {\n",
       "        vertical-align: top;\n",
       "    }\n",
       "\n",
       "    .dataframe thead th {\n",
       "        text-align: right;\n",
       "    }\n",
       "</style>\n",
       "<table border=\"1\" class=\"dataframe\">\n",
       "  <thead>\n",
       "    <tr style=\"text-align: right;\">\n",
       "      <th></th>\n",
       "      <th>Unnamed: 0</th>\n",
       "      <th>artist_name</th>\n",
       "      <th>track_name</th>\n",
       "      <th>release_date</th>\n",
       "      <th>genre</th>\n",
       "      <th>lyrics</th>\n",
       "      <th>len</th>\n",
       "      <th>dating</th>\n",
       "      <th>violence</th>\n",
       "      <th>world/life</th>\n",
       "      <th>...</th>\n",
       "      <th>sadness</th>\n",
       "      <th>feelings</th>\n",
       "      <th>danceability</th>\n",
       "      <th>loudness</th>\n",
       "      <th>acousticness</th>\n",
       "      <th>instrumentalness</th>\n",
       "      <th>valence</th>\n",
       "      <th>energy</th>\n",
       "      <th>topic</th>\n",
       "      <th>age</th>\n",
       "    </tr>\n",
       "  </thead>\n",
       "  <tbody>\n",
       "    <tr>\n",
       "      <th>0</th>\n",
       "      <td>0</td>\n",
       "      <td>mukesh</td>\n",
       "      <td>mohabbat bhi jhoothi</td>\n",
       "      <td>1950</td>\n",
       "      <td>pop</td>\n",
       "      <td>hold time feel break feel untrue convince spea...</td>\n",
       "      <td>95</td>\n",
       "      <td>0.000598</td>\n",
       "      <td>0.063746</td>\n",
       "      <td>0.000598</td>\n",
       "      <td>...</td>\n",
       "      <td>0.380299</td>\n",
       "      <td>0.117175</td>\n",
       "      <td>0.357739</td>\n",
       "      <td>0.454119</td>\n",
       "      <td>0.997992</td>\n",
       "      <td>0.901822</td>\n",
       "      <td>0.339448</td>\n",
       "      <td>0.137110</td>\n",
       "      <td>sadness</td>\n",
       "      <td>1.0</td>\n",
       "    </tr>\n",
       "    <tr>\n",
       "      <th>1</th>\n",
       "      <td>4</td>\n",
       "      <td>frankie laine</td>\n",
       "      <td>i believe</td>\n",
       "      <td>1950</td>\n",
       "      <td>pop</td>\n",
       "      <td>believe drop rain fall grow believe darkest ni...</td>\n",
       "      <td>51</td>\n",
       "      <td>0.035537</td>\n",
       "      <td>0.096777</td>\n",
       "      <td>0.443435</td>\n",
       "      <td>...</td>\n",
       "      <td>0.001284</td>\n",
       "      <td>0.001284</td>\n",
       "      <td>0.331745</td>\n",
       "      <td>0.647540</td>\n",
       "      <td>0.954819</td>\n",
       "      <td>0.000002</td>\n",
       "      <td>0.325021</td>\n",
       "      <td>0.263240</td>\n",
       "      <td>world/life</td>\n",
       "      <td>1.0</td>\n",
       "    </tr>\n",
       "    <tr>\n",
       "      <th>2</th>\n",
       "      <td>6</td>\n",
       "      <td>johnnie ray</td>\n",
       "      <td>cry</td>\n",
       "      <td>1950</td>\n",
       "      <td>pop</td>\n",
       "      <td>sweetheart send letter goodbye secret feel bet...</td>\n",
       "      <td>24</td>\n",
       "      <td>0.002770</td>\n",
       "      <td>0.002770</td>\n",
       "      <td>0.002770</td>\n",
       "      <td>...</td>\n",
       "      <td>0.002770</td>\n",
       "      <td>0.225422</td>\n",
       "      <td>0.456298</td>\n",
       "      <td>0.585288</td>\n",
       "      <td>0.840361</td>\n",
       "      <td>0.000000</td>\n",
       "      <td>0.351814</td>\n",
       "      <td>0.139112</td>\n",
       "      <td>music</td>\n",
       "      <td>1.0</td>\n",
       "    </tr>\n",
       "    <tr>\n",
       "      <th>3</th>\n",
       "      <td>10</td>\n",
       "      <td>pérez prado</td>\n",
       "      <td>patricia</td>\n",
       "      <td>1950</td>\n",
       "      <td>pop</td>\n",
       "      <td>kiss lips want stroll charm mambo chacha merin...</td>\n",
       "      <td>54</td>\n",
       "      <td>0.048249</td>\n",
       "      <td>0.001548</td>\n",
       "      <td>0.001548</td>\n",
       "      <td>...</td>\n",
       "      <td>0.225889</td>\n",
       "      <td>0.001548</td>\n",
       "      <td>0.686992</td>\n",
       "      <td>0.744404</td>\n",
       "      <td>0.083935</td>\n",
       "      <td>0.199393</td>\n",
       "      <td>0.775350</td>\n",
       "      <td>0.743736</td>\n",
       "      <td>romantic</td>\n",
       "      <td>1.0</td>\n",
       "    </tr>\n",
       "    <tr>\n",
       "      <th>4</th>\n",
       "      <td>12</td>\n",
       "      <td>giorgos papadopoulos</td>\n",
       "      <td>apopse eida oneiro</td>\n",
       "      <td>1950</td>\n",
       "      <td>pop</td>\n",
       "      <td>till darling till matter know till dream live ...</td>\n",
       "      <td>48</td>\n",
       "      <td>0.001350</td>\n",
       "      <td>0.001350</td>\n",
       "      <td>0.417772</td>\n",
       "      <td>...</td>\n",
       "      <td>0.068800</td>\n",
       "      <td>0.001350</td>\n",
       "      <td>0.291671</td>\n",
       "      <td>0.646489</td>\n",
       "      <td>0.975904</td>\n",
       "      <td>0.000246</td>\n",
       "      <td>0.597073</td>\n",
       "      <td>0.394375</td>\n",
       "      <td>romantic</td>\n",
       "      <td>1.0</td>\n",
       "    </tr>\n",
       "  </tbody>\n",
       "</table>\n",
       "<p>5 rows × 31 columns</p>\n",
       "</div>"
      ],
      "text/plain": [
       "   Unnamed: 0           artist_name            track_name  release_date genre  \\\n",
       "0           0                mukesh  mohabbat bhi jhoothi          1950   pop   \n",
       "1           4         frankie laine             i believe          1950   pop   \n",
       "2           6           johnnie ray                   cry          1950   pop   \n",
       "3          10           pérez prado              patricia          1950   pop   \n",
       "4          12  giorgos papadopoulos    apopse eida oneiro          1950   pop   \n",
       "\n",
       "                                              lyrics  len    dating  violence  \\\n",
       "0  hold time feel break feel untrue convince spea...   95  0.000598  0.063746   \n",
       "1  believe drop rain fall grow believe darkest ni...   51  0.035537  0.096777   \n",
       "2  sweetheart send letter goodbye secret feel bet...   24  0.002770  0.002770   \n",
       "3  kiss lips want stroll charm mambo chacha merin...   54  0.048249  0.001548   \n",
       "4  till darling till matter know till dream live ...   48  0.001350  0.001350   \n",
       "\n",
       "   world/life  ...   sadness  feelings  danceability  loudness  acousticness  \\\n",
       "0    0.000598  ...  0.380299  0.117175      0.357739  0.454119      0.997992   \n",
       "1    0.443435  ...  0.001284  0.001284      0.331745  0.647540      0.954819   \n",
       "2    0.002770  ...  0.002770  0.225422      0.456298  0.585288      0.840361   \n",
       "3    0.001548  ...  0.225889  0.001548      0.686992  0.744404      0.083935   \n",
       "4    0.417772  ...  0.068800  0.001350      0.291671  0.646489      0.975904   \n",
       "\n",
       "   instrumentalness   valence    energy       topic  age  \n",
       "0          0.901822  0.339448  0.137110     sadness  1.0  \n",
       "1          0.000002  0.325021  0.263240  world/life  1.0  \n",
       "2          0.000000  0.351814  0.139112       music  1.0  \n",
       "3          0.199393  0.775350  0.743736    romantic  1.0  \n",
       "4          0.000246  0.597073  0.394375    romantic  1.0  \n",
       "\n",
       "[5 rows x 31 columns]"
      ]
     },
     "execution_count": 3,
     "metadata": {},
     "output_type": "execute_result"
    }
   ],
   "source": [
    "df.head()"
   ]
  },
  {
   "cell_type": "markdown",
   "id": "85a8a150",
   "metadata": {
    "id": "deluxe-twenty"
   },
   "source": [
    "We have a number of columns here! We'll focus on a few subsets in particular: \n",
    "\n",
    "The `genre` describes the overall genre of the track. It has seven values: "
   ]
  },
  {
   "cell_type": "code",
   "execution_count": 4,
   "id": "82d0b49d",
   "metadata": {
    "colab": {
     "base_uri": "https://localhost:8080/"
    },
    "id": "living-broadcast",
    "outputId": "82f4a267-cc14-4fe6-b5ec-c06dda5aa26b"
   },
   "outputs": [
    {
     "data": {
      "text/plain": [
       "genre\n",
       "blues      4604\n",
       "country    5445\n",
       "hip hop     904\n",
       "jazz       3845\n",
       "pop        7042\n",
       "reggae     2498\n",
       "rock       4034\n",
       "dtype: int64"
      ]
     },
     "execution_count": 4,
     "metadata": {},
     "output_type": "execute_result"
    }
   ],
   "source": [
    "df.groupby(\"genre\").size()"
   ]
  },
  {
   "cell_type": "markdown",
   "id": "281ad7be",
   "metadata": {
    "id": "advised-portrait"
   },
   "source": [
    "There data also includes \n",
    "- The complete `lyrics` of the track (if it has any) \n",
    "- The normalized `age` of the track (1.0 corresponds to tracks released in 1950, 0.0 corresponds to more recent tracks)\n",
    "- A selection of columns that give the track numerical scores reflecting various attributes and topics, such as \"danceability,\" \"loudness,\" and \"acousticness.\" \n",
    "\n",
    "There are also other columns in the data, but these are the ones we're going to focus on for this analysis. We are going to subset things a bit: let's focus on only a few genres, and on only relatively recent tracks. "
   ]
  },
  {
   "cell_type": "code",
   "execution_count": 5,
   "id": "25b1f51b",
   "metadata": {
    "id": "intellectual-renewal"
   },
   "outputs": [],
   "source": [
    "df = df[df[\"release_date\"] > 2000]\n",
    "genres = [\"blues\", \"hip hop\", \"country\"]\n",
    "df = df[df[\"genre\"].apply(lambda x: x in genres)]"
   ]
  },
  {
   "cell_type": "markdown",
   "id": "b1b46b07",
   "metadata": {
    "id": "greatest-count"
   },
   "source": [
    "Next, let's do a categorical encoding of the `genre` column. "
   ]
  },
  {
   "cell_type": "code",
   "execution_count": 6,
   "id": "7cdd761e",
   "metadata": {
    "id": "burning-valve"
   },
   "outputs": [],
   "source": [
    "le = LabelEncoder()\n",
    "df[\"genre\"] = le.fit_transform(df[\"genre\"])\n",
    "num_genres = len(df[\"genre\"].unique())"
   ]
  },
  {
   "cell_type": "markdown",
   "id": "db99b21f",
   "metadata": {
    "id": "occasional-appraisal"
   },
   "source": [
    "## Create a Dataset\n",
    "\n",
    "We're now ready to create a TensorFlow `Dataset`. This is going to be a little more involved than last time, because we need to distinguish between different kinds of model inputs. \n",
    "\n",
    "Here's a list of all the scalar \"score\" columns in the data frame. "
   ]
  },
  {
   "cell_type": "code",
   "execution_count": 7,
   "id": "b0c603e9",
   "metadata": {
    "id": "discrete-pharmacy"
   },
   "outputs": [],
   "source": [
    "scalars = ['dating', \n",
    "           'violence', \n",
    "           'world/life', \n",
    "           'night/time',\n",
    "           'shake the audience',\n",
    "           'family/gospel', \n",
    "           'romantic', \n",
    "           'communication',\n",
    "           'obscene', \n",
    "           'music', \n",
    "           'movement/places', \n",
    "           'light/visual perceptions',\n",
    "           'family/spiritual', \n",
    "           'like/girls', \n",
    "           'sadness', \n",
    "           'feelings', \n",
    "           'danceability',\n",
    "           'loudness', \n",
    "           'acousticness', \n",
    "           'instrumentalness', \n",
    "           'valence', \n",
    "           'energy']        "
   ]
  },
  {
   "cell_type": "markdown",
   "id": "138496b4",
   "metadata": {
    "id": "gross-thirty"
   },
   "source": [
    "Because we have multiple inputs, we are going to construct our `Dataset` from a tuple of dictionaries. The first dictionary is going to specify the different components in the predictor data, while the second dictionary is going to specify the different components of the target data. "
   ]
  },
  {
   "cell_type": "code",
   "execution_count": 8,
   "id": "e0e4eb1b",
   "metadata": {
    "id": "tender-bennett"
   },
   "outputs": [
    {
     "name": "stderr",
     "output_type": "stream",
     "text": [
      "2024-05-29 18:52:00.118841: I tensorflow/core/platform/cpu_feature_guard.cc:193] This TensorFlow binary is optimized with oneAPI Deep Neural Network Library (oneDNN) to use the following CPU instructions in performance-critical operations:  SSE4.1 SSE4.2\n",
      "To enable them in other operations, rebuild TensorFlow with the appropriate compiler flags.\n"
     ]
    }
   ],
   "source": [
    "data = tf.data.Dataset.from_tensor_slices(\n",
    "    (\n",
    "        {\n",
    "            \"lyrics\" : df[[\"lyrics\"]], \n",
    "            \"scalars\" : df[scalars]\n",
    "        }, \n",
    "        {\n",
    "            \"genre\" : df[[\"genre\"]]\n",
    "        }\n",
    "    )\n",
    ")"
   ]
  },
  {
   "cell_type": "markdown",
   "id": "ba07db9d",
   "metadata": {
    "id": "cooked-attraction"
   },
   "source": [
    "Next, we are going to perform a train/test/validation split. For each of the three split `Datasets`, we are going to *batch* them into small chunks of data. This helps with training runtime later. "
   ]
  },
  {
   "cell_type": "code",
   "execution_count": 10,
   "id": "e69dd023",
   "metadata": {
    "colab": {
     "base_uri": "https://localhost:8080/"
    },
    "id": "public-toddler",
    "outputId": "ec44f27e-2a01-401e-935f-41981fb4bd67"
   },
   "outputs": [
    {
     "data": {
      "text/plain": [
       "(134, 19, 39)"
      ]
     },
     "execution_count": 10,
     "metadata": {},
     "output_type": "execute_result"
    }
   ],
   "source": [
    "data = data.shuffle(buffer_size = len(data))\n",
    "\n",
    "train_size = int(0.7*len(data))\n",
    "val_size   = int(0.1*len(data))\n",
    "\n",
    "train = data.take(train_size).batch(20)\n",
    "val   = data.skip(train_size).take(val_size).batch(20)\n",
    "test  = data.skip(train_size + val_size).batch(20)\n",
    "\n",
    "len(train), len(val), len(test)"
   ]
  },
  {
   "cell_type": "markdown",
   "id": "f85ed4f5",
   "metadata": {
    "id": "excellent-worry"
   },
   "source": [
    "Each of the numbers above should be multipled by the batch size to give the total number of rows in each `Dataset`. \n",
    "\n",
    "The code below sets up exactly the same text preprocessing that we did [last lecture](https://nbviewer.jupyter.org/github/PhilChodrow/PIC16B/blob/master/lectures/tf/tf-3.ipynb). "
   ]
  },
  {
   "cell_type": "code",
   "execution_count": 12,
   "id": "e80b4361",
   "metadata": {
    "id": "qualified-stewart"
   },
   "outputs": [],
   "source": [
    "size_vocabulary = 2000\n",
    "\n",
    "def standardization(input_data):\n",
    "    lowercase = tf.strings.lower(input_data)\n",
    "    no_punctuation = tf.strings.regex_replace(lowercase,\n",
    "                                  '[%s]' % re.escape(string.punctuation),'')\n",
    "    return no_punctuation \n",
    "\n",
    "vectorize_layer = TextVectorization(\n",
    "    standardize=standardization,\n",
    "    max_tokens=size_vocabulary, # only consider this many words\n",
    "    output_mode='int',\n",
    "    output_sequence_length=500) \n",
    "\n",
    "vectorize_layer.adapt(train.map(lambda x, y: x[\"lyrics\"]))"
   ]
  },
  {
   "cell_type": "markdown",
   "id": "27eab1ad",
   "metadata": {
    "id": "olive-arthur"
   },
   "source": [
    "## The Keras Functional API\n",
    "\n",
    "In previousl lectures, we used the `Sequential` API for constructing models. For example, we wrote code like this: \n",
    "\n",
    "```python\n",
    "model = tf.keras.Sequential([\n",
    "  layers.Embedding(max_tokens, output_dim = 3),\n",
    "  layers.Dropout(0.2),\n",
    "  layers.GlobalAveragePooling1D(),\n",
    "  layers.Dropout(0.2),\n",
    "  layers.Dense(len(categories))]\n",
    ")\n",
    "```\n",
    "\n",
    "This model is designed to accept a single kind of input (in this case text) and spit out a single output. However, in our case we have two distinct *kinds* of input: the song lyrics and the scalar scores. It wouldn't really make much sense to pass the scalar scores through a text vectorization or embedding layer. For this reason, we need to move beyond the `Sequential` API and instead constructing our models using a somewhat more manual approach, referred to as the `Functional` API. "
   ]
  },
  {
   "cell_type": "markdown",
   "id": "5aecdd48",
   "metadata": {
    "id": "large-injury"
   },
   "source": [
    "### Inputs\n",
    "\n",
    "Start by specifying the two kinds of `keras.Input` for our model. You should have one input for each qualitatively distinct \"kind\" of predictor data. All the parameters here are important: \n",
    "\n",
    "- `shape` should describe the shape of a single item of data. For example, the `lyrics` column contains just one entry for each song, so the shape is `(1,)` (a tuple of length 1). On the other hand, there are `len(scalars) = 22` distinct columns of scalar scores. \n",
    "- the `name` should be some descriptive name that you're able to remember for later. \n",
    "- The `dtype` specifies the kind of data contained in each of the input tensors. "
   ]
  },
  {
   "cell_type": "code",
   "execution_count": 13,
   "id": "56c780da",
   "metadata": {
    "id": "isolated-education"
   },
   "outputs": [],
   "source": [
    "# inputs\n",
    "\n",
    "lyrics_input = keras.Input(\n",
    "    shape = (1,), \n",
    "    name = \"lyrics\",\n",
    "    dtype = \"string\"\n",
    ")\n",
    "\n",
    "scalars_input = keras.Input(\n",
    "    shape = (len(scalars),), \n",
    "    name = \"scalars\",\n",
    "    dtype = \"float64\"\n",
    ")"
   ]
  },
  {
   "cell_type": "code",
   "execution_count": 14,
   "id": "c2a1767b",
   "metadata": {},
   "outputs": [
    {
     "data": {
      "text/plain": [
       "<KerasTensor: shape=(None, 1) dtype=string (created by layer 'lyrics')>"
      ]
     },
     "execution_count": 14,
     "metadata": {},
     "output_type": "execute_result"
    }
   ],
   "source": [
    "lyrics_input"
   ]
  },
  {
   "cell_type": "markdown",
   "id": "8faaecf8",
   "metadata": {
    "id": "exclusive-proof"
   },
   "source": [
    "## Hidden Layers\n",
    "\n",
    "First, let's write a pipeline for the lyrics. This pipeline is pretty much the same as the one we used earlier for text classification -- we're just building it differently. "
   ]
  },
  {
   "cell_type": "code",
   "execution_count": 15,
   "id": "001bf6ac",
   "metadata": {
    "id": "widespread-quantum"
   },
   "outputs": [],
   "source": [
    "# layers for processing the lyrics, pretty much the same as from our lecture\n",
    "# on text classification\n",
    "lyrics_features = vectorize_layer(lyrics_input)\n",
    "lyrics_features = layers.Embedding(size_vocabulary, 3, name = \"embedding\")(lyrics_features)\n",
    "lyrics_features = layers.Dropout(0.2)(lyrics_features)\n",
    "lyrics_features = layers.GlobalAveragePooling1D()(lyrics_features)\n",
    "lyrics_features = layers.Dropout(0.2)(lyrics_features)\n",
    "lyrics_features = layers.Dense(32, activation='relu')(lyrics_features)"
   ]
  },
  {
   "cell_type": "markdown",
   "id": "1ba8a0cf",
   "metadata": {
    "id": "comic-cable"
   },
   "source": [
    "Next, let's write a pipeline for the scalars. We don't need to do anything fancy with them, so instead of messing with `Embeddings` and the like, we're just going to pass them through a `Dense` layer. "
   ]
  },
  {
   "cell_type": "code",
   "execution_count": 16,
   "id": "55baec35",
   "metadata": {
    "id": "standard-manufacturer"
   },
   "outputs": [],
   "source": [
    "scalar_features = layers.Dense(32, activation='relu')(scalars_input)"
   ]
  },
  {
   "cell_type": "markdown",
   "id": "6b6cf569",
   "metadata": {
    "id": "trying-friend"
   },
   "source": [
    "Here's simultaneously the most important and most boring part of the whole model: we are going to `concatenate` the output of the `lyrics` pipeline with the output of the `scalar` pipeline: "
   ]
  },
  {
   "cell_type": "code",
   "execution_count": 17,
   "id": "573ec822",
   "metadata": {
    "id": "altered-france"
   },
   "outputs": [],
   "source": [
    "main = layers.concatenate([lyrics_features, scalar_features], axis = 1)"
   ]
  },
  {
   "cell_type": "markdown",
   "id": "66d8cd4b",
   "metadata": {
    "id": "animated-domestic"
   },
   "source": [
    "Finally, let's pass the consolidated set of computed features through a few more `Dense` layers. Remember that the very last `Dense` layer should have a number of outputs equal to the number of classes in the data. \n",
    "\n",
    "**Observe that the output layer has a name, and that this name matches the key corresponding to the target data in the `Datasets` we will pass to the model.** This is how TensorFlow knows which part of our data set to compare against the outputs! "
   ]
  },
  {
   "cell_type": "code",
   "execution_count": 18,
   "id": "a3427512",
   "metadata": {
    "id": "posted-barcelona"
   },
   "outputs": [],
   "source": [
    "main = layers.Dense(32, activation='relu')(main)\n",
    "output = layers.Dense(num_genres, name = \"genre\")(main)"
   ]
  },
  {
   "cell_type": "markdown",
   "id": "cd2dc430",
   "metadata": {
    "id": "compatible-transmission"
   },
   "source": [
    "So far, we haven't actually created a model yet -- just a bunch of interrelated layers. We create the model by specifying the input(s) and output. "
   ]
  },
  {
   "cell_type": "code",
   "execution_count": 19,
   "id": "093e945e",
   "metadata": {
    "id": "parallel-bhutan"
   },
   "outputs": [],
   "source": [
    "model = keras.Model(\n",
    "    inputs = [lyrics_input, scalars_input],\n",
    "    outputs = output\n",
    ")"
   ]
  },
  {
   "cell_type": "markdown",
   "id": "0cd7b852",
   "metadata": {
    "id": "hired-satin"
   },
   "source": [
    "The model summary provides one good way to look at the structure of the model, but it can be difficult to read when there are multiple inputs: "
   ]
  },
  {
   "cell_type": "code",
   "execution_count": 20,
   "id": "78980395",
   "metadata": {
    "colab": {
     "base_uri": "https://localhost:8080/"
    },
    "id": "impressed-millennium",
    "outputId": "63e61446-8c66-4120-f5cb-f5401e93c03a"
   },
   "outputs": [
    {
     "name": "stdout",
     "output_type": "stream",
     "text": [
      "Model: \"model\"\n",
      "__________________________________________________________________________________________________\n",
      " Layer (type)                   Output Shape         Param #     Connected to                     \n",
      "==================================================================================================\n",
      " lyrics (InputLayer)            [(None, 1)]          0           []                               \n",
      "                                                                                                  \n",
      " text_vectorization_1 (TextVect  (None, 500)         0           ['lyrics[0][0]']                 \n",
      " orization)                                                                                       \n",
      "                                                                                                  \n",
      " embedding (Embedding)          (None, 500, 3)       6000        ['text_vectorization_1[0][0]']   \n",
      "                                                                                                  \n",
      " dropout (Dropout)              (None, 500, 3)       0           ['embedding[0][0]']              \n",
      "                                                                                                  \n",
      " global_average_pooling1d (Glob  (None, 3)           0           ['dropout[0][0]']                \n",
      " alAveragePooling1D)                                                                              \n",
      "                                                                                                  \n",
      " dropout_1 (Dropout)            (None, 3)            0           ['global_average_pooling1d[0][0]'\n",
      "                                                                 ]                                \n",
      "                                                                                                  \n",
      " scalars (InputLayer)           [(None, 22)]         0           []                               \n",
      "                                                                                                  \n",
      " dense (Dense)                  (None, 32)           128         ['dropout_1[0][0]']              \n",
      "                                                                                                  \n",
      " dense_1 (Dense)                (None, 32)           736         ['scalars[0][0]']                \n",
      "                                                                                                  \n",
      " concatenate (Concatenate)      (None, 64)           0           ['dense[0][0]',                  \n",
      "                                                                  'dense_1[0][0]']                \n",
      "                                                                                                  \n",
      " dense_2 (Dense)                (None, 32)           2080        ['concatenate[0][0]']            \n",
      "                                                                                                  \n",
      " genre (Dense)                  (None, 3)            99          ['dense_2[0][0]']                \n",
      "                                                                                                  \n",
      "==================================================================================================\n",
      "Total params: 9,043\n",
      "Trainable params: 9,043\n",
      "Non-trainable params: 0\n",
      "__________________________________________________________________________________________________\n"
     ]
    }
   ],
   "source": [
    "model.summary()"
   ]
  },
  {
   "cell_type": "markdown",
   "id": "c2008a63",
   "metadata": {
    "id": "regional-spank"
   },
   "source": [
    "Something a bit more visually attractive can be obtained by using the `plot_model` function: "
   ]
  },
  {
   "cell_type": "code",
   "execution_count": 21,
   "id": "90391b57",
   "metadata": {
    "colab": {
     "base_uri": "https://localhost:8080/",
     "height": 953
    },
    "id": "plastic-invitation",
    "outputId": "8660f930-f196-498e-be06-79f3a2db0dc7"
   },
   "outputs": [
    {
     "name": "stdout",
     "output_type": "stream",
     "text": [
      "You must install pydot (`pip install pydot`) and install graphviz (see instructions at https://graphviz.gitlab.io/download/) for plot_model to work.\n"
     ]
    }
   ],
   "source": [
    "keras.utils.plot_model(model)"
   ]
  },
  {
   "cell_type": "markdown",
   "id": "b294c047",
   "metadata": {
    "id": "micro-semester"
   },
   "source": [
    "Now we're ready to train and evaluate our model as usual! As always, we need to compile:"
   ]
  },
  {
   "cell_type": "code",
   "execution_count": 22,
   "id": "cc6d7fcd",
   "metadata": {
    "id": "presidential-characteristic"
   },
   "outputs": [],
   "source": [
    "model.compile(optimizer = \"adam\",\n",
    "              loss = losses.SparseCategoricalCrossentropy(from_logits = True),\n",
    "              metrics = ['accuracy']\n",
    ")"
   ]
  },
  {
   "cell_type": "markdown",
   "id": "16b481f6",
   "metadata": {
    "id": "banned-representation"
   },
   "source": [
    "And now we train! "
   ]
  },
  {
   "cell_type": "code",
   "execution_count": 23,
   "id": "7413f2b7",
   "metadata": {
    "id": "equivalent-feature"
   },
   "outputs": [],
   "source": [
    "history = model.fit(train, \n",
    "                    validation_data=val,\n",
    "                    epochs = 50, \n",
    "                    verbose = False)"
   ]
  },
  {
   "cell_type": "code",
   "execution_count": 24,
   "id": "4a43d9d9",
   "metadata": {
    "colab": {
     "base_uri": "https://localhost:8080/",
     "height": 283
    },
    "id": "swedish-mustang",
    "outputId": "db3a61a2-dcc8-4b48-8c47-8c38597594f1"
   },
   "outputs": [
    {
     "data": {
      "image/png": "[encoded data removed]",
      "text/plain": [
       "<Figure size 640x480 with 1 Axes>"
      ]
     },
     "metadata": {},
     "output_type": "display_data"
    }
   ],
   "source": [
    "from matplotlib import pyplot as plt\n",
    "plt.plot(history.history[\"accuracy\"], label=\"training\")\n",
    "plt.plot(history.history[\"val_accuracy\"], label=\"validation\")\n",
    "plt.legend()\n",
    "plt.show()"
   ]
  }
 ],
 "metadata": {
  "accelerator": "GPU",
  "colab": {
   "collapsed_sections": [],
   "include_colab_link": true,
   "name": "music-scratch-2.ipynb",
   "provenance": [],
   "toc_visible": true
  },
  "kernelspec": {
   "display_name": "Python 3 (ipykernel)",
   "language": "python",
   "name": "python3"
  },
  "language_info": {
   "codemirror_mode": {
    "name": "ipython",
    "version": 3
   },
   "file_extension": ".py",
   "mimetype": "text/x-python",
   "name": "python",
   "nbconvert_exporter": "python",
   "pygments_lexer": "ipython3",
   "version": "3.8.18"
  }
 },
 "nbformat": 4,
 "nbformat_minor": 5
}
