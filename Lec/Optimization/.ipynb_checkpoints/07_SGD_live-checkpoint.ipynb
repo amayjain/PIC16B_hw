{
 "cells": [
  {
   "cell_type": "markdown",
   "metadata": {},
   "source": [
    "# Stochastic Gradient Descent\n",
    "\n",
    "Our goal is to discuss SGD which is an variation of GD. SGD has been widely used in data science problems. The structure of this lecture:\n",
    "\n",
    "1. GD on simple linear regression and the drawbacks to GD\n",
    "2. SGD and its code\n"
   ]
  },
  {
   "cell_type": "code",
   "execution_count": 5,
   "metadata": {},
   "outputs": [],
   "source": [
    "# import packages\n",
    "import numpy as np\n",
    "from sklearn.linear_model import LinearRegression, SGDRegressor\n",
    "import matplotlib.pyplot as plt\n",
    "import time"
   ]
  },
  {
   "cell_type": "markdown",
   "metadata": {},
   "source": [
    "## Revisit simple linear regression\n",
    "\n",
    "Given data points $(x^i,y^i)$, where i represents i-th data, we want to find a straight line to fit those data points. In other words, we want to find slope $k$ and intercept $b$, then we can construct straight line $$y=kx+b$$.\n"
   ]
  },
  {
   "cell_type": "code",
   "execution_count": 2,
   "metadata": {},
   "outputs": [
    {
     "data": {
      "text/plain": [
       "<matplotlib.legend.Legend at 0x7f86e3657f10>"
      ]
     },
     "execution_count": 2,
     "metadata": {},
     "output_type": "execute_result"
    },
    {
     "data": {
      "image/png": "[encoded data removed]",
      "text/plain": [
       "<Figure size 640x480 with 1 Axes>"
      ]
     },
     "metadata": {},
     "output_type": "display_data"
    }
   ],
   "source": [
    "# linear regression using sklearn\n",
    "\n",
    "# generate data points\n",
    "m = 100\n",
    "x = np.linspace(-10, 10, m)\n",
    "y = 2*x - 3 + np.random.randn(m)    # the last term represents random noise\n",
    "\n",
    "# construct linear regression model using sklearn\n",
    "reg = LinearRegression().fit(x.reshape(m, 1), y)\n",
    "\n",
    "# slope\n",
    "k = reg.coef_\n",
    "b = reg.intercept_\n",
    "\n",
    "# visualization\n",
    "plt.scatter(x, y, color = 'b', s = 2)      # data points\n",
    "# plot model (straight line)\n",
    "xx = np.linspace(-15, 15, 100)\n",
    "yy = k[0]*xx + b\n",
    "plt.plot(xx, yy, 'r-')\n",
    "plt.legend(['linear regression','data points'])\n",
    "\n"
   ]
  },
  {
   "cell_type": "markdown",
   "metadata": {},
   "source": [
    "hold on! Do you know what happened when we call fit command? Or in other words, how do we find slope $k$ and intercept $b$? Also, can we generalize to linear regression?\n",
    "\n",
    "#### Mathematics:\n",
    "Since we assume that the model is $y=kx+b$, then for each input $x^i$, we can compute $kx^i+b$. We want to make the difference between $kx^i+b$ and observed output $y^i$ as small as possible.\n",
    "\n",
    "We try to minimize the following function over $k$ and $b$:\n",
    "\n",
    "$$\\mathop{\\mathbf{minimize}}_{k,b} f(k,b) = \\frac{1}{m}\\sum_{i=1}^{m} (y^i - kx^i - b)^2 $$\n",
    "\n",
    "\n",
    "To use GD, we need to find the objective function's gradient (in class)."
   ]
  },
  {
   "cell_type": "code",
   "execution_count": 3,
   "metadata": {},
   "outputs": [
    {
     "name": "stdout",
     "output_type": "stream",
     "text": [
      "Step 0     L = 5.67     k = 1.667       b = -2.0200      \n",
      "Step 50    L = 1.13     k = 2.000       b = -2.6421      \n",
      "Step 100   L = 1.02     k = 2.000       b = -2.8687      \n",
      "Step 150   L = 1.01     k = 2.000       b = -2.9512      \n",
      "Step 200   L = 1.01     k = 2.000       b = -2.9813      \n",
      "Step 250   L = 1.00     k = 2.000       b = -2.9922      \n",
      "Step 300   L = 1.00     k = 2.000       b = -2.9962      \n",
      "Step 350   L = 1.00     k = 2.000       b = -2.9977      \n",
      "Step 400   L = 1.00     k = 2.000       b = -2.9982      \n",
      "Computational time is 13.859536170959473 seconds.\n"
     ]
    }
   ],
   "source": [
    "m = int(1e5)\n",
    "x = np.linspace(-10, 10, m)\n",
    "y = 2*x - 3 + np.random.randn(m)    # the last term represents random noise\n",
    "\n",
    "# initial value \n",
    "k, b = 1, -2\n",
    "\n",
    "# step size\n",
    "eta = 0.01\n",
    "\n",
    "# number of iterations\n",
    "n_iter = 400\n",
    "\n",
    "# GD\n",
    "\n",
    "start = time.time()\n",
    "\n",
    "for t in range(n_iter + 1):\n",
    "\n",
    "    # compute the gradient\n",
    "    grad_k = sum(2 * (k*x + b - y) * x) / m\n",
    "    \n",
    "    grad_b = sum(2 * (k*x + b - y)) / m\n",
    "    \n",
    "    # updating rule\n",
    "    k = k - eta*grad_k\n",
    "    \n",
    "    b = b - eta*grad_b\n",
    "\n",
    "    # compute the loss\n",
    "    L = sum((k*x + b - y)**2) / m\n",
    "\n",
    "    # print outputs\n",
    "\n",
    "    if t % 50 == 0:\n",
    "        print(f\"Step {t}\".ljust(10), end = \" \")\n",
    "        print(f\"L = {L:.2f}\".ljust(12), end = \" \")\n",
    "        print(f\"k = {k:.3f}\".ljust(15), end = \" \")\n",
    "        print(f\"b = {b:.4f}\".ljust(15), end = \" \")\n",
    "        print(\" \")\n",
    "\n",
    "stop = time.time()\n",
    "\n",
    "print(f\"Computational time is {stop - start} seconds.\")"
   ]
  },
  {
   "cell_type": "markdown",
   "metadata": {},
   "source": [
    "## Claim: GD is slow.\n",
    "\n",
    "Notice that this is a simple machine learning example in the sense that 1) number of training data is small, 2) model is simple because there are only 2 parameters, and 3) data is 1D.\n",
    "\n",
    "## Reason:\n",
    "\n",
    "The gradient sums over $m$ terms. It is computationally expensive to compute gradient when $m$ is large (number of observations).\n",
    "\n",
    "## Solution: stochastic gradient descent\n",
    "\n",
    "Instead of using $m$ data points, we select $b$ data points and do gradient descent using selected data points ($b < m$). \n",
    "\n",
    "Those data points are randomly selected, this is where the word 'stochastic' comes from. \n",
    "\n",
    "Terminology:\n",
    "- batch size: how many data points are selected to run GD ($b$ above).\n",
    "\n",
    "Some remarks:\n",
    "1. In machine learning task, gradient is a summation over $m$ terms.\n",
    "2. Number of observations $m$ is huge (big data)\n",
    "3. Many ways to do SGD, we only introduce the most common one.\n",
    "\n",
    "\n",
    "\n",
    "A nice explanation on SGD with batch size 1: https://nbviewer.org/github/PhilChodrow/PIC16B/blob/master/lectures/math/optimization.ipynb"
   ]
  },
  {
   "cell_type": "code",
   "execution_count": 4,
   "metadata": {},
   "outputs": [
    {
     "name": "stdout",
     "output_type": "stream",
     "text": [
      "Step 0     L = 3.59     k = 2.240       b = -2.1763      \n",
      "Step 50    L = 2.04     k = 1.828       b = -2.7785      \n",
      "Step 100   L = 1.68     k = 2.127       b = -2.6125      \n",
      "Step 150   L = 1.15     k = 1.936       b = -2.8727      \n",
      "Step 200   L = 2.75     k = 2.229       b = -3.0380      \n",
      "Step 250   L = 1.59     k = 1.867       b = -3.0307      \n",
      "Step 300   L = 1.13     k = 2.063       b = -2.9568      \n",
      "Step 350   L = 1.20     k = 2.077       b = -3.0766      \n",
      "Step 400   L = 1.40     k = 1.893       b = -3.1440      \n",
      "Computational time is 4.668169975280762 seconds.\n"
     ]
    }
   ],
   "source": [
    "m = int(1e5)\n",
    "x = np.linspace(-10, 10, m)\n",
    "y = 2*x - 3 + np.random.randn(m)    # the last term represents random noise\n",
    "\n",
    "# initial value \n",
    "k, b = 1, -2\n",
    "\n",
    "# step size\n",
    "eta = 0.01\n",
    "\n",
    "# number of iterations\n",
    "n_iter = 400\n",
    "\n",
    "# SGD\n",
    "\n",
    "start = time.time()\n",
    "\n",
    "for t in range(n_iter + 1):\n",
    "\n",
    "    # select data samples to approximate the gradient\n",
    "    j = np.random.choice(m, 1)[0]\n",
    "    x_j, y_j = x[j], y[j]\n",
    "\n",
    "    # compute the gradient\n",
    "    grad_k = 2 * (k*x_j + b - y_j) * x_j\n",
    "    \n",
    "    grad_b = 2 * (k*x_j + b - y_j)\n",
    "    \n",
    "    # updating rule\n",
    "    k = k - eta*grad_k\n",
    "    \n",
    "    b = b - eta*grad_b\n",
    "\n",
    "    # compute the loss\n",
    "    L = sum((k*x + b - y)**2) / m\n",
    "\n",
    "    # print outputs\n",
    "\n",
    "    if t % 50 == 0:\n",
    "        print(f\"Step {t}\".ljust(10), end = \" \")\n",
    "        print(f\"L = {L:.2f}\".ljust(12), end = \" \")\n",
    "        print(f\"k = {k:.3f}\".ljust(15), end = \" \")\n",
    "        print(f\"b = {b:.4f}\".ljust(15), end = \" \")\n",
    "        print(\" \")\n",
    "\n",
    "stop = time.time()\n",
    "\n",
    "print(f\"Computational time is {stop - start} seconds.\")"
   ]
  },
  {
   "cell_type": "markdown",
   "metadata": {},
   "source": [
    "#### Conclusion: SGD is faster than GD, but it requires more iterations."
   ]
  },
  {
   "cell_type": "code",
   "execution_count": 23,
   "metadata": {},
   "outputs": [
    {
     "name": "stdout",
     "output_type": "stream",
     "text": [
      "[2.1020084] [-3.13032858]\n"
     ]
    }
   ],
   "source": [
    "m = 100\n",
    "x = np.linspace(-10, 10, m)\n",
    "y = 2*x - 3 + np.random.randn(m)\n",
    "\n",
    "# batch size is by default always 1\n",
    "# number of iterations = max_iter * m where m = # of data points\n",
    "# max_iter is number of epochs (how many times do we run iteration process)\n",
    "reg = SGDRegressor(max_iter = 100, tol = None, penalty = None, learning_rate = 'constant').fit(x.reshape(m, 1), y)\n",
    "\n",
    "k_SGD = reg.coef_\n",
    "b_SGD = reg.intercept_\n",
    "print(k_SGD, b_SGD)"
   ]
  },
  {
   "cell_type": "code",
   "execution_count": 24,
   "metadata": {},
   "outputs": [
    {
     "name": "stdout",
     "output_type": "stream",
     "text": [
      "[1.97844782] -3.138402450851621\n"
     ]
    }
   ],
   "source": [
    "reg = LinearRegression().fit(x.reshape(m, 1), y)\n",
    "\n",
    "k_LR = reg.coef_\n",
    "b_LR = reg.intercept_\n",
    "print(k_LR, b_LR)"
   ]
  },
  {
   "cell_type": "code",
   "execution_count": 27,
   "metadata": {},
   "outputs": [
    {
     "data": {
      "text/plain": [
       "<matplotlib.legend.Legend at 0x7f86d4685fa0>"
      ]
     },
     "execution_count": 27,
     "metadata": {},
     "output_type": "execute_result"
    },
    {
     "data": {
      "image/png": "[encoded data removed]",
      "text/plain": [
       "<Figure size 640x480 with 1 Axes>"
      ]
     },
     "metadata": {},
     "output_type": "display_data"
    }
   ],
   "source": [
    "plt.scatter(x, y, color = 'k', s = 2, label = 'data points')\n",
    "\n",
    "xx = np.linspace(-11, 11, 100)\n",
    "yy_SGD = k_SGD[0]*xx + b_SGD\n",
    "yy_LR = k_LR[0]*xx + b_LR\n",
    "\n",
    "plt.plot(xx, yy_SGD, 'r-', label = 'SGD')\n",
    "plt.plot(xx, yy_LR, 'b-', label = 'LR')\n",
    "\n",
    "plt.legend()"
   ]
  }
 ],
 "metadata": {
  "kernelspec": {
   "display_name": "Python 3 (ipykernel)",
   "language": "python",
   "name": "python3"
  },
  "language_info": {
   "codemirror_mode": {
    "name": "ipython",
    "version": 3
   },
   "file_extension": ".py",
   "mimetype": "text/x-python",
   "name": "python",
   "nbconvert_exporter": "python",
   "pygments_lexer": "ipython3",
   "version": "3.8.19"
  }
 },
 "nbformat": 4,
 "nbformat_minor": 4
}
