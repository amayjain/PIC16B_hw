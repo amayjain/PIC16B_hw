{
 "cells": [
  {
   "cell_type": "markdown",
   "metadata": {},
   "source": [
    "# Data Visualization\n",
    "\n",
    "In this lecture, we will use an interactive scientific data visualization package Plotly which is also the company name. The official website is https://plotly.com. Some python sample codes are available in https://plotly.com/python/.\n",
    "\n",
    "We will discuss the following topics:\n",
    "\n",
    "1. scatter plot and line plot, see https://plotly.com/python/line-and-scatter/\n",
    "2. Animations, see https://plotly.com/python/animations/"
   ]
  },
  {
   "cell_type": "code",
   "execution_count": null,
   "metadata": {},
   "outputs": [],
   "source": [
    "# import necessary packages\n",
    "import numpy as np\n",
    "import pandas as pd\n",
    "import matplotlib.pyplot as plt\n",
    "\n",
    "# need the following 2 lines for plotly to work on my laptop\n",
    "import plotly.io as pio\n",
    "pio.renderers.default = 'iframe'\n",
    "# # #\n",
    "\n",
    "import plotly.express as px\n",
    "import plotly.graph_objects as go"
   ]
  },
  {
   "cell_type": "markdown",
   "metadata": {},
   "source": [
    "# Scatter plot\n"
   ]
  },
  {
   "cell_type": "code",
   "execution_count": null,
   "metadata": {},
   "outputs": [],
   "source": [
    "# Example 1: given x and y\n",
    "\n",
    "fig = px.scatter(x = [0, 1, 2, 3, 4], y = [0, 1, 4, 9, 16])\n",
    "\n",
    "fig.show()"
   ]
  },
  {
   "cell_type": "code",
   "execution_count": null,
   "metadata": {},
   "outputs": [],
   "source": [
    "# Example 2: scatter plot using pandas data frame\n",
    "\n",
    "df = px.data.iris() # iris is a pandas DataFrame\n",
    "\n",
    "fig = px.scatter(df, x = 'sepal_length', y = 'sepal_width', hover_data = ['species'])\n",
    "\n",
    "fig.show()"
   ]
  },
  {
   "cell_type": "code",
   "execution_count": null,
   "metadata": {},
   "outputs": [],
   "source": [
    "# Example: line plot\n",
    "\n",
    "df = px.data.gapminder().query(\"continent == 'Oceania'\")\n",
    "\n",
    "fig = px.line(df, x = 'year', y = 'lifeExp', color = 'country', markers = True)\n",
    "\n",
    "fig.show()"
   ]
  },
  {
   "cell_type": "markdown",
   "metadata": {},
   "source": [
    "## Trace"
   ]
  },
  {
   "cell_type": "code",
   "execution_count": null,
   "metadata": {},
   "outputs": [],
   "source": [
    "# original scatter plot\n",
    "\n",
    "fig = px.scatter(x = [0, 1, 2, 3, 4], y = [0, 1, 4, 9, 16])\n",
    "\n",
    "# update trace: (method 1)\n",
    "\n",
    "fig.update_traces(marker = dict(size = 30, color = 'red', symbol = 'square'))\n",
    "\n",
    "fig.show()\n",
    "\n",
    "# update trace: (method 2)\n",
    "\n"
   ]
  },
  {
   "cell_type": "markdown",
   "metadata": {},
   "source": [
    "## Setting size and color with column names\n",
    "\n",
    "Scatter plots with variable-sized circular markers are often known as bubble charts. Note that color and size data are added to hover information.\n",
    "\n",
    "Colors can be descrete/categorical or continuous"
   ]
  },
  {
   "cell_type": "code",
   "execution_count": null,
   "metadata": {},
   "outputs": [],
   "source": []
  },
  {
   "cell_type": "code",
   "execution_count": null,
   "metadata": {},
   "outputs": [],
   "source": []
  },
  {
   "cell_type": "markdown",
   "metadata": {},
   "source": [
    "You can add other columns/information to each point with the hover_data argument of px.scatter."
   ]
  },
  {
   "cell_type": "code",
   "execution_count": null,
   "metadata": {},
   "outputs": [],
   "source": [
    "# hover data\n"
   ]
  },
  {
   "cell_type": "markdown",
   "metadata": {},
   "source": [
    "The symbol argument can be mapped to a column as well. We can also change the default marker style."
   ]
  },
  {
   "cell_type": "code",
   "execution_count": null,
   "metadata": {},
   "outputs": [],
   "source": []
  },
  {
   "cell_type": "code",
   "execution_count": null,
   "metadata": {},
   "outputs": [],
   "source": []
  },
  {
   "cell_type": "markdown",
   "metadata": {},
   "source": [
    "# Line plot\n",
    "\n",
    "Similar as scatter, just change command name."
   ]
  },
  {
   "cell_type": "code",
   "execution_count": null,
   "metadata": {},
   "outputs": [],
   "source": [
    "# Example 1: plot cos(t)\n"
   ]
  },
  {
   "cell_type": "code",
   "execution_count": null,
   "metadata": {},
   "outputs": [],
   "source": []
  },
  {
   "cell_type": "code",
   "execution_count": null,
   "metadata": {},
   "outputs": [],
   "source": [
    "# Example 2: data frame\n"
   ]
  },
  {
   "cell_type": "markdown",
   "metadata": {},
   "source": [
    "# Scatter and line plots with go.Scatter\n",
    "\n",
    "We can use go.Scatter to create some nice plots and also animations."
   ]
  },
  {
   "cell_type": "code",
   "execution_count": null,
   "metadata": {},
   "outputs": [],
   "source": [
    "# Simple scatter plot\n",
    "\n",
    "N = 100\n",
    "\n",
    "t = np.linspace(0, 10 , N)\n",
    "\n",
    "y = np.cos(t)\n",
    "\n",
    "fig = go.Figure(data = go.Scatter(x = t, y = y, mode = 'markers'))\n",
    "\n",
    "fig.show()"
   ]
  },
  {
   "cell_type": "code",
   "execution_count": null,
   "metadata": {},
   "outputs": [],
   "source": [
    "# Simple line plot\n",
    "\n",
    "fig = go.Figure(data = go.Scatter(x = t, y = y, mode = 'lines'))\n",
    "\n",
    "fig.show()"
   ]
  },
  {
   "cell_type": "code",
   "execution_count": null,
   "metadata": {},
   "outputs": [],
   "source": [
    "# Simple line plot with marker\n",
    "\n",
    "fig = go.Figure(data = go.Scatter(x = t, y = y, mode = 'lines+markers'))\n",
    "\n",
    "fig.show()"
   ]
  },
  {
   "cell_type": "markdown",
   "metadata": {},
   "source": [
    "We can add new plots to existing plot by calling add_trace and go.Scatter"
   ]
  },
  {
   "cell_type": "code",
   "execution_count": null,
   "metadata": {},
   "outputs": [],
   "source": [
    "N = 100\n",
    "\n",
    "t = np.linspace(0, 10 , N)\n",
    "\n",
    "y0 = np.cos(t)\n",
    "y1 = y0 + 5\n",
    "y2 = y0 - 5\n",
    "\n",
    "fig = go.Figure()\n",
    "\n",
    "# Add traces\n",
    "\n",
    "fig.add_trace(go.Scatter(x = t, y = y0, mode = 'markers', name = 'plot1', connectgaps= True))\n",
    "\n",
    "fig.add_trace(go.Scatter(x = t, y = y1, mode = 'lines+markers', name = 'plot2', connectgaps= True))\n",
    "\n",
    "fig.add_trace(go.Scatter(x = t, y = y2, mode = 'lines', name = 'plot3'))\n",
    "\n",
    "fig.show()\n"
   ]
  },
  {
   "cell_type": "markdown",
   "metadata": {},
   "source": [
    "# Animation"
   ]
  },
  {
   "cell_type": "code",
   "execution_count": null,
   "metadata": {},
   "outputs": [],
   "source": [
    "# Example 1: data frame\n",
    "\n",
    "df = px.data.gapminder()\n",
    "\n",
    "px.scatter(df, \n",
    "           x = 'gdpPercap', \n",
    "           y = 'lifeExp', \n",
    "           animation_frame = 'year', \n",
    "           animation_group = 'country', \n",
    "           size = 'pop', \n",
    "           color = 'continent', \n",
    "           hover_name = 'country',\n",
    "           log_x = True,\n",
    "           size_max = 55,\n",
    "           range_x = [100, 100000],\n",
    "           range_y = [25, 90])"
   ]
  },
  {
   "cell_type": "code",
   "execution_count": null,
   "metadata": {},
   "outputs": [],
   "source": [
    "# Example 2: data frame bar plot\n",
    "\n",
    "df = px.data.gapminder()\n",
    "\n",
    "px.bar(df, \n",
    "       x = 'country', \n",
    "       y = 'lifeExp', \n",
    "       animation_frame = 'year', \n",
    "       color = 'country')"
   ]
  },
  {
   "cell_type": "code",
   "execution_count": null,
   "metadata": {},
   "outputs": [],
   "source": [
    "# Example 3: moving particles on a curve\n",
    "\n",
    "# Generate curve data\n",
    "\n",
    "theta = np.linspace(-np.pi, np.pi, 100)\n",
    "\n",
    "x = np.cos(theta)\n",
    "\n",
    "y = np.sin(theta)\n",
    "\n",
    "# Generate particles\n",
    "\n",
    "N = 50\n",
    "\n",
    "s = np.linspace(-np.pi, np.pi, N)\n",
    "\n",
    "xx = np.cos(s)\n",
    "\n",
    "yy = np.sin(s)\n",
    "\n",
    "# Create figure\n",
    "\n",
    "trace0 = go.Scatter(x = x, y = y, mode = \"lines\", line = dict(width = 2, color = \"blue\"))\n",
    "\n",
    "trace1 = go.Scatter(x = x, y = y, mode = \"markers\", line = dict(width = 2, color = \"red\"))\n",
    "\n",
    "# set up play button\n",
    "\n",
    "menu = dict(type = \"buttons\", buttons = [dict(label = 'Play', method = 'animate', args = [None, {\"frame\": {\"duration\": 25}}])])\n",
    "\n",
    "# set up picture layout\n",
    "\n",
    "layout = go.Layout(xaxis = dict(range = [-1.5, 1.5]), yaxis = dict(range = [-1.5, 1.5]),\n",
    "                   title_text = 'Moving particle on a circle', hovermode = 'closest',\n",
    "                   updatemenus = [menu])\n",
    "\n",
    "# create picture\n",
    "\n",
    "fig = go.Figure(data = [trace0, trace1], layout = layout)\n",
    "\n",
    "# update moving particle\n",
    "\n",
    "particle = [go.Frame(data = [go.Scatter(x = [xx[k]], y= [yy[k]], mode = 'markers',\n",
    "                                        marker = dict(size = 10, color = 'red'))], traces = [1]) for k in range(N)]\n",
    "\n",
    "fig.update(frames = particle)\n",
    "\n",
    "fig.update_yaxes(scaleanchor = \"x\", scaleratio = 1)\n",
    "\n",
    "# show animation\n",
    "\n",
    "fig.show()"
   ]
  },
  {
   "cell_type": "code",
   "execution_count": null,
   "metadata": {},
   "outputs": [],
   "source": [
    "# Example 3: moving particles on a curve\n",
    "\n"
   ]
  },
  {
   "cell_type": "markdown",
   "metadata": {},
   "source": [
    "We need to understand more. \n",
    "\n",
    "1. Why do we need to set up two traces here? \n",
    "\n",
    "Ans: One for moving particles, one for background line.  \n",
    "\n",
    "\n",
    "2. How can we change the speed?\n",
    "\n",
    "Ans: We can change it when we set up play button.\n",
    "\n",
    "\n",
    "3. Is it possible to set up moving lines?\n",
    "\n",
    "Ans: Yes, it is left for HW.\n",
    "\n",
    "\n",
    "4. Is it possible to change x scale and y scale?\n",
    "\n",
    "Ans: Yes, see code below."
   ]
  },
  {
   "cell_type": "code",
   "execution_count": null,
   "metadata": {},
   "outputs": [],
   "source": [
    "# Repeat example 3 to discuss Q1, Q2, Q3\n",
    "\n"
   ]
  }
 ],
 "metadata": {
  "kernelspec": {
   "display_name": "Python 3 (ipykernel)",
   "language": "python",
   "name": "python3"
  },
  "language_info": {
   "codemirror_mode": {
    "name": "ipython",
    "version": 3
   },
   "file_extension": ".py",
   "mimetype": "text/x-python",
   "name": "python",
   "nbconvert_exporter": "python",
   "pygments_lexer": "ipython3",
   "version": "3.8.19"
  }
 },
 "nbformat": 4,
 "nbformat_minor": 4
}
